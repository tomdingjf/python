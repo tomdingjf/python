{
 "cells": [
  {
   "cell_type": "markdown",
   "id": "355776c7",
   "metadata": {},
   "source": [
    "# 1、pandas数据结构"
   ]
  },
  {
   "cell_type": "markdown",
   "id": "7b1bd018",
   "metadata": {},
   "source": [
    "[***pandas官网***](https://pandas.pydata.org/docs/index.html#pandas-documentation)"
   ]
  },
  {
   "cell_type": "markdown",
   "id": "c70e7e18",
   "metadata": {},
   "source": [
    "### Series语法"
   ]
  },
  {
   "cell_type": "markdown",
   "id": "12bb3efe",
   "metadata": {},
   "source": [
    "***pd.Series( data, index, dtype, copy)***"
   ]
  },
  {
   "cell_type": "markdown",
   "id": "b0d58bab",
   "metadata": {},
   "source": [
    "|参数名称|描述|\n",
    "|:-:|:-:|\n",
    "|data|输入的数据，可以是列表、常量、ndarray 数组等。|\n",
    "|index|索引值必须是惟一的，如果没有传递索引，则默认为 np.arrange(n)。|\n",
    "|dtype|dtype表示数据类型，如果没有提供，则会自动判断得出。|\n",
    "|copy|表示对 data 进行拷贝，默认为 False。|"
   ]
  },
  {
   "cell_type": "markdown",
   "id": "ed86e15b",
   "metadata": {},
   "source": [
    "### Series属性"
   ]
  },
  {
   "cell_type": "markdown",
   "id": "5f399e53",
   "metadata": {},
   "source": [
    "|参数名称|属性|\n",
    "|:-:|:-:|\n",
    "|axes|以列表的形式返回所有行索引标签。|\n",
    "|dtype|返回对象的数据类型。|\n",
    "|empty|返回一个空的 Series 对象。|\n",
    "|ndim|返回输入数据的维数。|\n",
    "|size|返回输入数据的元素数量。|\n",
    "|values|以 ndarray 的形式返回 Series 对象。|\n",
    "|index|返回一个RangeIndex对象，用来描述索引的取值范围。|"
   ]
  },
  {
   "cell_type": "markdown",
   "id": "6d5ab0fc",
   "metadata": {},
   "source": [
    "One-dimensional ndarray with axis labels (including time series)."
   ]
  },
  {
   "cell_type": "markdown",
   "id": "4bb39d96",
   "metadata": {},
   "source": [
    "参考官方文档：https://pandas.pydata.org/docs/reference/series.html"
   ]
  },
  {
   "cell_type": "markdown",
   "id": "e74f0f7c",
   "metadata": {},
   "source": [
    "### DataFrame 语法"
   ]
  },
  {
   "cell_type": "markdown",
   "id": "b7ddf835",
   "metadata": {},
   "source": [
    "***pd.DataFrame( data, index, columns, dtype, copy)***"
   ]
  },
  {
   "cell_type": "markdown",
   "id": "9261daf7",
   "metadata": {},
   "source": [
    "|参数名称|说明\n",
    "|:-:|:-:|\n",
    "|data|输入的数据，可以是 ndarray，series，list，dict，标量以及一个 DataFrame。|\n",
    "|index|行标签，如果没有传递 index 值，则默认行标签是 np.arange(n)，n 代表 data 的元素个数。|\n",
    "|columns|列标签，如果没有传递 columns 值，则默认列标签是 np.arange(n)。|\n",
    "|dtype|dtype表示每一列的数据类型。|\n",
    "|copy|默认为 False，表示复制数据 data。|"
   ]
  },
  {
   "cell_type": "markdown",
   "id": "21c47ed8",
   "metadata": {},
   "source": [
    "### DataFrame 方法描述"
   ]
  },
  {
   "cell_type": "markdown",
   "id": "777fa1fd",
   "metadata": {},
   "source": [
    "|名称|属性&方法描述|\n",
    "|:-:|:-:|\n",
    "|T\t|行和列转置。|\n",
    "|axes|返回一个仅以行轴标签和列轴标签为成员的列表。|\n",
    "|dtypes|返回每列数据的数据类型。|\n",
    "|empty|DataFrame中没有数据或者任意坐标轴的长度为0，则返回True。|\n",
    "|ndim|轴的数量，也指数组的维数。|\n",
    "|shape|返回一个元组，表示了 DataFrame 维度。|\n",
    "|size|DataFrame中的元素数量。|\n",
    "|values|使用 numpy 数组表示 DataFrame 中的元素值。|\n",
    "|**head()**|返回前 n 行数据。|\n",
    "|tail()|返回后 n 行数据。|\n",
    "|shift()|将行或列移动指定的步幅长度。|"
   ]
  },
  {
   "cell_type": "markdown",
   "id": "789b6401",
   "metadata": {},
   "source": [
    "Two-dimensional, size-mutable, potentially heterogeneous tabular data."
   ]
  },
  {
   "cell_type": "markdown",
   "id": "a6366f22",
   "metadata": {},
   "source": [
    "参考官方文档：https://pandas.pydata.org/docs/reference/frame.html"
   ]
  },
  {
   "cell_type": "markdown",
   "id": "3d5a94a7",
   "metadata": {},
   "source": [
    "## 1.1、创建 Series"
   ]
  },
  {
   "cell_type": "markdown",
   "id": "3341a633",
   "metadata": {},
   "source": [
    "### 1.1.1、列表创建 Series"
   ]
  },
  {
   "cell_type": "code",
   "execution_count": 1,
   "id": "2a22e589",
   "metadata": {},
   "outputs": [
    {
     "data": {
      "text/plain": [
       "0    1\n",
       "1    2\n",
       "2    3\n",
       "dtype: int64"
      ]
     },
     "execution_count": 1,
     "metadata": {},
     "output_type": "execute_result"
    }
   ],
   "source": [
    "import pandas as pd \n",
    "s = pd.Series([1,2,3])\n",
    "s"
   ]
  },
  {
   "cell_type": "code",
   "execution_count": 2,
   "id": "d82a12bf",
   "metadata": {},
   "outputs": [
    {
     "data": {
      "text/plain": [
       "A    1\n",
       "B    2\n",
       "C    3\n",
       "Name: number, dtype: int64"
      ]
     },
     "execution_count": 2,
     "metadata": {},
     "output_type": "execute_result"
    }
   ],
   "source": [
    "import pandas as pd \n",
    "s = pd.Series([1,2,3],\n",
    "              index = list(\"ABC\"),\n",
    "              dtype=\"int64\",\n",
    "              name=\"number\"\n",
    "             )\n",
    "s"
   ]
  },
  {
   "cell_type": "markdown",
   "id": "c4e1a38c",
   "metadata": {},
   "source": [
    "### 1.1.2、字典创建 Series"
   ]
  },
  {
   "cell_type": "code",
   "execution_count": 3,
   "id": "432512df",
   "metadata": {},
   "outputs": [
    {
     "data": {
      "text/plain": [
       "a    1\n",
       "b    2\n",
       "c    3\n",
       "dtype: int64"
      ]
     },
     "execution_count": 3,
     "metadata": {},
     "output_type": "execute_result"
    }
   ],
   "source": [
    "import pandas as pd \n",
    "d = pd.Series({\"a\":1,\"b\":2,\"c\":3})\n",
    "d"
   ]
  },
  {
   "cell_type": "markdown",
   "id": "b1b4a67b",
   "metadata": {},
   "source": [
    "### 1.1.3、利用 index 创建 Series"
   ]
  },
  {
   "cell_type": "code",
   "execution_count": 4,
   "id": "3c7fa428",
   "metadata": {},
   "outputs": [
    {
     "data": {
      "text/plain": [
       "a    30\n",
       "b    30\n",
       "c    30\n",
       "dtype: int64"
      ]
     },
     "execution_count": 4,
     "metadata": {},
     "output_type": "execute_result"
    }
   ],
   "source": [
    "import pandas as pd \n",
    "s = pd.Series(30,index=[\"a\",\"b\",\"c\"])\n",
    "s"
   ]
  },
  {
   "cell_type": "markdown",
   "id": "7292cd5d",
   "metadata": {},
   "source": [
    "## 1.2、创建 DataFrame"
   ]
  },
  {
   "cell_type": "markdown",
   "id": "94e5c585",
   "metadata": {},
   "source": [
    "### 1.2.1、列表创建 DataFrame"
   ]
  },
  {
   "cell_type": "code",
   "execution_count": 5,
   "id": "e0213b29",
   "metadata": {},
   "outputs": [
    {
     "data": {
      "text/html": [
       "<div>\n",
       "<style scoped>\n",
       "    .dataframe tbody tr th:only-of-type {\n",
       "        vertical-align: middle;\n",
       "    }\n",
       "\n",
       "    .dataframe tbody tr th {\n",
       "        vertical-align: top;\n",
       "    }\n",
       "\n",
       "    .dataframe thead th {\n",
       "        text-align: right;\n",
       "    }\n",
       "</style>\n",
       "<table border=\"1\" class=\"dataframe\">\n",
       "  <thead>\n",
       "    <tr style=\"text-align: right;\">\n",
       "      <th></th>\n",
       "      <th>0</th>\n",
       "      <th>1</th>\n",
       "    </tr>\n",
       "  </thead>\n",
       "  <tbody>\n",
       "    <tr>\n",
       "      <th>0</th>\n",
       "      <td>1</td>\n",
       "      <td>2</td>\n",
       "    </tr>\n",
       "    <tr>\n",
       "      <th>1</th>\n",
       "      <td>3</td>\n",
       "      <td>4</td>\n",
       "    </tr>\n",
       "  </tbody>\n",
       "</table>\n",
       "</div>"
      ],
      "text/plain": [
       "   0  1\n",
       "0  1  2\n",
       "1  3  4"
      ]
     },
     "execution_count": 5,
     "metadata": {},
     "output_type": "execute_result"
    }
   ],
   "source": [
    "import pandas as pd \n",
    "list_2d = [\n",
    "    [1,2],\n",
    "    [3,4]\n",
    "]\n",
    "df = pd.DataFrame(list_2d)\n",
    "df"
   ]
  },
  {
   "cell_type": "code",
   "execution_count": 6,
   "id": "1bd548cc",
   "metadata": {},
   "outputs": [
    {
     "data": {
      "text/html": [
       "<div>\n",
       "<style scoped>\n",
       "    .dataframe tbody tr th:only-of-type {\n",
       "        vertical-align: middle;\n",
       "    }\n",
       "\n",
       "    .dataframe tbody tr th {\n",
       "        vertical-align: top;\n",
       "    }\n",
       "\n",
       "    .dataframe thead th {\n",
       "        text-align: right;\n",
       "    }\n",
       "</style>\n",
       "<table border=\"1\" class=\"dataframe\">\n",
       "  <thead>\n",
       "    <tr style=\"text-align: right;\">\n",
       "      <th></th>\n",
       "      <th>a</th>\n",
       "      <th>b</th>\n",
       "    </tr>\n",
       "  </thead>\n",
       "  <tbody>\n",
       "    <tr>\n",
       "      <th>x</th>\n",
       "      <td>1</td>\n",
       "      <td>2</td>\n",
       "    </tr>\n",
       "    <tr>\n",
       "      <th>y</th>\n",
       "      <td>3</td>\n",
       "      <td>4</td>\n",
       "    </tr>\n",
       "  </tbody>\n",
       "</table>\n",
       "</div>"
      ],
      "text/plain": [
       "   a  b\n",
       "x  1  2\n",
       "y  3  4"
      ]
     },
     "execution_count": 6,
     "metadata": {},
     "output_type": "execute_result"
    }
   ],
   "source": [
    "import pandas as pd \n",
    "list_2d = [\n",
    "    [1,2],\n",
    "    [3,4]\n",
    "]\n",
    "df = pd.DataFrame(list_2d,\n",
    "                 columns=[\"a\",\"b\"],\n",
    "                  index=[\"x\",\"y\"]\n",
    "                 )\n",
    "df"
   ]
  },
  {
   "cell_type": "markdown",
   "id": "164e4023",
   "metadata": {},
   "source": [
    "### 1.2.2、字典创建  DataFrame"
   ]
  },
  {
   "cell_type": "code",
   "execution_count": 7,
   "id": "9d0ad089",
   "metadata": {},
   "outputs": [
    {
     "data": {
      "text/html": [
       "<div>\n",
       "<style scoped>\n",
       "    .dataframe tbody tr th:only-of-type {\n",
       "        vertical-align: middle;\n",
       "    }\n",
       "\n",
       "    .dataframe tbody tr th {\n",
       "        vertical-align: top;\n",
       "    }\n",
       "\n",
       "    .dataframe thead th {\n",
       "        text-align: right;\n",
       "    }\n",
       "</style>\n",
       "<table border=\"1\" class=\"dataframe\">\n",
       "  <thead>\n",
       "    <tr style=\"text-align: right;\">\n",
       "      <th></th>\n",
       "      <th>a</th>\n",
       "      <th>b</th>\n",
       "    </tr>\n",
       "  </thead>\n",
       "  <tbody>\n",
       "    <tr>\n",
       "      <th>x</th>\n",
       "      <td>1</td>\n",
       "      <td>2</td>\n",
       "    </tr>\n",
       "    <tr>\n",
       "      <th>y</th>\n",
       "      <td>3</td>\n",
       "      <td>4</td>\n",
       "    </tr>\n",
       "  </tbody>\n",
       "</table>\n",
       "</div>"
      ],
      "text/plain": [
       "   a  b\n",
       "x  1  2\n",
       "y  3  4"
      ]
     },
     "execution_count": 7,
     "metadata": {},
     "output_type": "execute_result"
    }
   ],
   "source": [
    "import pandas as pd \n",
    "d = {\"a\":[1,3],\"b\":[2,4]}\n",
    "df = pd.DataFrame(d,\n",
    "                  index=[\"x\",\"y\"]\n",
    "                 )\n",
    "df"
   ]
  },
  {
   "cell_type": "markdown",
   "id": "421026d2",
   "metadata": {},
   "source": [
    "### 1.2.3、Series 创建 DataFrame"
   ]
  },
  {
   "cell_type": "code",
   "execution_count": 3,
   "id": "20ac2eaa",
   "metadata": {},
   "outputs": [
    {
     "data": {
      "text/html": [
       "<div>\n",
       "<style scoped>\n",
       "    .dataframe tbody tr th:only-of-type {\n",
       "        vertical-align: middle;\n",
       "    }\n",
       "\n",
       "    .dataframe tbody tr th {\n",
       "        vertical-align: top;\n",
       "    }\n",
       "\n",
       "    .dataframe thead th {\n",
       "        text-align: right;\n",
       "    }\n",
       "</style>\n",
       "<table border=\"1\" class=\"dataframe\">\n",
       "  <thead>\n",
       "    <tr style=\"text-align: right;\">\n",
       "      <th></th>\n",
       "      <th>one</th>\n",
       "      <th>two</th>\n",
       "    </tr>\n",
       "  </thead>\n",
       "  <tbody>\n",
       "    <tr>\n",
       "      <th>a</th>\n",
       "      <td>1.0</td>\n",
       "      <td>1</td>\n",
       "    </tr>\n",
       "    <tr>\n",
       "      <th>b</th>\n",
       "      <td>2.0</td>\n",
       "      <td>2</td>\n",
       "    </tr>\n",
       "    <tr>\n",
       "      <th>c</th>\n",
       "      <td>3.0</td>\n",
       "      <td>3</td>\n",
       "    </tr>\n",
       "    <tr>\n",
       "      <th>d</th>\n",
       "      <td>NaN</td>\n",
       "      <td>4</td>\n",
       "    </tr>\n",
       "  </tbody>\n",
       "</table>\n",
       "</div>"
      ],
      "text/plain": [
       "   one  two\n",
       "a  1.0    1\n",
       "b  2.0    2\n",
       "c  3.0    3\n",
       "d  NaN    4"
      ]
     },
     "execution_count": 3,
     "metadata": {},
     "output_type": "execute_result"
    }
   ],
   "source": [
    "import pandas as pd\n",
    "#Series创建DataFrame对象\n",
    "d = {'one' : pd.Series([1, 2, 3], index=['a', 'b', 'c']),\n",
    "   'two' : pd.Series([1, 2, 3, 4], index=['a', 'b', 'c', 'd'])}\n",
    "df = pd.DataFrame(d)\n",
    "df"
   ]
  },
  {
   "cell_type": "markdown",
   "id": "2bd6fca8",
   "metadata": {},
   "source": [
    "### 1.2.4、导入文件创建  DataFrame"
   ]
  },
  {
   "cell_type": "code",
   "execution_count": 8,
   "id": "bcdb84b2",
   "metadata": {},
   "outputs": [
    {
     "data": {
      "text/html": [
       "<div>\n",
       "<style scoped>\n",
       "    .dataframe tbody tr th:only-of-type {\n",
       "        vertical-align: middle;\n",
       "    }\n",
       "\n",
       "    .dataframe tbody tr th {\n",
       "        vertical-align: top;\n",
       "    }\n",
       "\n",
       "    .dataframe thead th {\n",
       "        text-align: right;\n",
       "    }\n",
       "</style>\n",
       "<table border=\"1\" class=\"dataframe\">\n",
       "  <thead>\n",
       "    <tr style=\"text-align: right;\">\n",
       "      <th></th>\n",
       "      <th>货号</th>\n",
       "      <th>商品代码</th>\n",
       "      <th>颜色代码</th>\n",
       "      <th>商品名称</th>\n",
       "      <th>品牌</th>\n",
       "      <th>成本</th>\n",
       "      <th>季节</th>\n",
       "      <th>商品年份</th>\n",
       "      <th>上架费</th>\n",
       "      <th>在售</th>\n",
       "      <th>商家日期</th>\n",
       "    </tr>\n",
       "  </thead>\n",
       "  <tbody>\n",
       "    <tr>\n",
       "      <th>0</th>\n",
       "      <td>qwx125</td>\n",
       "      <td>qwx</td>\n",
       "      <td>125</td>\n",
       "      <td>是法</td>\n",
       "      <td>a</td>\n",
       "      <td>180</td>\n",
       "      <td>春</td>\n",
       "      <td>2020</td>\n",
       "      <td>2.5</td>\n",
       "      <td>True</td>\n",
       "      <td>2018-01-01</td>\n",
       "    </tr>\n",
       "    <tr>\n",
       "      <th>1</th>\n",
       "      <td>sfh582</td>\n",
       "      <td>sfh</td>\n",
       "      <td>582</td>\n",
       "      <td>从给</td>\n",
       "      <td>b</td>\n",
       "      <td>150</td>\n",
       "      <td>夏</td>\n",
       "      <td>2020</td>\n",
       "      <td>3.5</td>\n",
       "      <td>False</td>\n",
       "      <td>2019-02-01</td>\n",
       "    </tr>\n",
       "    <tr>\n",
       "      <th>2</th>\n",
       "      <td>cfr584</td>\n",
       "      <td>cfr</td>\n",
       "      <td>584</td>\n",
       "      <td>人发</td>\n",
       "      <td>c</td>\n",
       "      <td>160</td>\n",
       "      <td>秋</td>\n",
       "      <td>2020</td>\n",
       "      <td>4.5</td>\n",
       "      <td>True</td>\n",
       "      <td>2018-03-01</td>\n",
       "    </tr>\n",
       "    <tr>\n",
       "      <th>3</th>\n",
       "      <td>dfr154</td>\n",
       "      <td>dfr</td>\n",
       "      <td>154</td>\n",
       "      <td>同意</td>\n",
       "      <td>a</td>\n",
       "      <td>561</td>\n",
       "      <td>东</td>\n",
       "      <td>2020</td>\n",
       "      <td>5.5</td>\n",
       "      <td>False</td>\n",
       "      <td>2019-04-01</td>\n",
       "    </tr>\n",
       "    <tr>\n",
       "      <th>4</th>\n",
       "      <td>zdr547</td>\n",
       "      <td>zdr</td>\n",
       "      <td>547</td>\n",
       "      <td>余就</td>\n",
       "      <td>b</td>\n",
       "      <td>174</td>\n",
       "      <td>夏</td>\n",
       "      <td>2020</td>\n",
       "      <td>6.5</td>\n",
       "      <td>True</td>\n",
       "      <td>2020-05-01</td>\n",
       "    </tr>\n",
       "    <tr>\n",
       "      <th>5</th>\n",
       "      <td>sht547</td>\n",
       "      <td>sht</td>\n",
       "      <td>547</td>\n",
       "      <td>号内</td>\n",
       "      <td>c</td>\n",
       "      <td>185</td>\n",
       "      <td>春</td>\n",
       "      <td>2020</td>\n",
       "      <td>7.5</td>\n",
       "      <td>False</td>\n",
       "      <td>2018-06-01</td>\n",
       "    </tr>\n",
       "    <tr>\n",
       "      <th>6</th>\n",
       "      <td>xdf428</td>\n",
       "      <td>xdf</td>\n",
       "      <td>428</td>\n",
       "      <td>符个</td>\n",
       "      <td>b</td>\n",
       "      <td>541</td>\n",
       "      <td>东</td>\n",
       "      <td>2020</td>\n",
       "      <td>8.5</td>\n",
       "      <td>True</td>\n",
       "      <td>2020-07-01</td>\n",
       "    </tr>\n",
       "  </tbody>\n",
       "</table>\n",
       "</div>"
      ],
      "text/plain": [
       "       货号 商品代码  颜色代码 商品名称 品牌   成本 季节  商品年份  上架费     在售       商家日期\n",
       "0  qwx125  qwx   125   是法  a  180  春  2020  2.5   True 2018-01-01\n",
       "1  sfh582  sfh   582   从给  b  150  夏  2020  3.5  False 2019-02-01\n",
       "2  cfr584  cfr   584   人发  c  160  秋  2020  4.5   True 2018-03-01\n",
       "3  dfr154  dfr   154   同意  a  561  东  2020  5.5  False 2019-04-01\n",
       "4  zdr547  zdr   547   余就  b  174  夏  2020  6.5   True 2020-05-01\n",
       "5  sht547  sht   547   号内  c  185  春  2020  7.5  False 2018-06-01\n",
       "6  xdf428  xdf   428   符个  b  541  东  2020  8.5   True 2020-07-01"
      ]
     },
     "execution_count": 8,
     "metadata": {},
     "output_type": "execute_result"
    }
   ],
   "source": [
    "import pandas as pd \n",
    "df = pd.read_excel(\"./data.xlsx\")\n",
    "df"
   ]
  },
  {
   "cell_type": "markdown",
   "id": "e5055366",
   "metadata": {},
   "source": [
    "## 1.3、DataFrame 属性用法综合"
   ]
  },
  {
   "cell_type": "code",
   "execution_count": 4,
   "id": "9471b97c",
   "metadata": {},
   "outputs": [
    {
     "name": "stdout",
     "output_type": "stream",
     "text": [
      "原始表格--------------------------------------------\n",
      "     id       date         city category  age   price\n",
      "0  1001 2013-01-02     Beijing     100-A   23  1200.0\n",
      "1  1002 2013-01-03        WuHan    100-B   44     NaN\n",
      "2  1003 2013-01-04   guangzhou     110-A   54  2133.0\n",
      "3  1004 2013-01-05     Shenzhen    110-C   32  5433.0\n",
      "4  1005 2013-01-06     shanghai    210-A   34     NaN\n",
      "5  1006 2013-01-07     BEIJING     130-F   32  4432.0\n",
      "\n",
      "DataFrame的维度------df.shape-------------------------------\n",
      "(6, 6)\n",
      "\n",
      "数据表基本信息 df.info() （维度、列名称、数据格式、所占空间等）\n",
      "<class 'pandas.core.frame.DataFrame'>\n",
      "RangeIndex: 6 entries, 0 to 5\n",
      "Data columns (total 6 columns):\n",
      " #   Column    Non-Null Count  Dtype         \n",
      "---  ------    --------------  -----         \n",
      " 0   id        6 non-null      int64         \n",
      " 1   date      6 non-null      datetime64[ns]\n",
      " 2   city      6 non-null      object        \n",
      " 3   category  6 non-null      object        \n",
      " 4   age       6 non-null      int64         \n",
      " 5   price     4 non-null      float64       \n",
      "dtypes: datetime64[ns](1), float64(1), int64(2), object(2)\n",
      "memory usage: 420.0+ bytes\n",
      "None\n",
      "\n",
      "每列的数据类型--------df.dtypes-----------------------------\n",
      "id                   int64\n",
      "date        datetime64[ns]\n",
      "city                object\n",
      "category            object\n",
      "age                  int64\n",
      "price              float64\n",
      "dtype: object\n",
      "\n",
      "一列的数据类型---------df['price'].dtype----------------------------\n",
      "float64\n",
      "\n",
      "查看某所有空值---------df.isnull()----------------------------\n",
      "      id   date   city  category    age  price\n",
      "0  False  False  False     False  False  False\n",
      "1  False  False  False     False  False   True\n",
      "2  False  False  False     False  False  False\n",
      "3  False  False  False     False  False  False\n",
      "4  False  False  False     False  False   True\n",
      "5  False  False  False     False  False  False\n",
      "\n",
      "查看某一列空值----------df['price'].isnull()---------------------------\n",
      "0    False\n",
      "1     True\n",
      "2    False\n",
      "3    False\n",
      "4     True\n",
      "5    False\n",
      "Name: price, dtype: bool\n",
      "\n",
      "查看某一列的唯一值（提取唯一值）df['price'].unique()-------------------\n",
      "[1200.   nan 2133. 5433. 4432.]\n",
      "\n",
      "查看数据表的值-----------df.values-------------------------\n",
      "[[1001 Timestamp('2013-01-02 00:00:00') 'Beijing ' '100-A' 23 1200.0]\n",
      " [1002 Timestamp('2013-01-03 00:00:00') 'WuHan' '100-B' 44 nan]\n",
      " [1003 Timestamp('2013-01-04 00:00:00') ' guangzhou ' '110-A' 54 2133.0]\n",
      " [1004 Timestamp('2013-01-05 00:00:00') 'Shenzhen' '110-C' 32 5433.0]\n",
      " [1005 Timestamp('2013-01-06 00:00:00') 'shanghai' '210-A' 34 nan]\n",
      " [1006 Timestamp('2013-01-07 00:00:00') 'BEIJING ' '130-F' 32 4432.0]]\n",
      "\n",
      "获取列名称----------------df.columns------------------------\n",
      "Index(['id', 'date', 'city', 'category', 'age', 'price'], dtype='object')\n",
      "\n",
      "查看前5行数据、后5行数据---df.head()-----------------------\n",
      "     id       date         city category  age   price\n",
      "0  1001 2013-01-02     Beijing     100-A   23  1200.0\n",
      "1  1002 2013-01-03        WuHan    100-B   44     NaN\n",
      "2  1003 2013-01-04   guangzhou     110-A   54  2133.0\n",
      "3  1004 2013-01-05     Shenzhen    110-C   32  5433.0\n",
      "4  1005 2013-01-06     shanghai    210-A   34     NaN\n",
      "\n",
      "     id       date         city category  age   price\n",
      "1  1002 2013-01-03        WuHan    100-B   44     NaN\n",
      "2  1003 2013-01-04   guangzhou     110-A   54  2133.0\n",
      "3  1004 2013-01-05     Shenzhen    110-C   32  5433.0\n",
      "4  1005 2013-01-06     shanghai    210-A   34     NaN\n",
      "5  1006 2013-01-07     BEIJING     130-F   32  4432.0\n"
     ]
    }
   ],
   "source": [
    "import pandas as pd \n",
    "df = pd.DataFrame({\"id\":[1001,1002,1003,1004,1005,1006], \n",
    "\"date\":pd.date_range('20130102', periods=6),\n",
    "\"city\":['Beijing ', 'WuHan', ' guangzhou ', 'Shenzhen', 'shanghai', 'BEIJING '],\n",
    "\"age\":[23,44,54,32,34,32],\n",
    "\"category\":['100-A','100-B','110-A','110-C','210-A','130-F'],\n",
    "\"price\":[1200,None,2133,5433,None,4432]},\n",
    "columns =['id','date','city','category','age','price'])\n",
    "print(\"原始表格--------------------------------------------\")\n",
    "print(df)\n",
    "print()\n",
    "print(\"DataFrame的维度------df.shape-------------------------------\")\n",
    "#DataFrame的维度\n",
    "print(df.shape)\n",
    "print()\n",
    "print(\"数据表基本信息 df.info() （维度、列名称、数据格式、所占空间等）\")\n",
    "#数据表基本信息（维度、列名称、数据格式、所占空间等）\n",
    "print(df.info())\n",
    "print()\n",
    "print(\"每列的数据类型--------df.dtypes-----------------------------\")\n",
    "#每列的数据类型\n",
    "print(df.dtypes)\n",
    "print()\n",
    "print(\"一列的数据类型---------df['price'].dtype----------------------------\")\n",
    "#一列的数据类型\n",
    "print(df[\"price\"].dtype)\n",
    "print()\n",
    "print(\"查看某所有空值---------df.isnull()----------------------------\")\n",
    "#查看某所有空值\n",
    "print(df.isnull())\n",
    "print()\n",
    "print(\"查看某一列空值----------df['price'].isnull()---------------------------\")\n",
    "#查看某一列空值\n",
    "print(df[\"price\"].isnull())\n",
    "print()\n",
    "print(\"查看某一列的唯一值（提取唯一值）df['price'].unique()-------------------\")\n",
    "#查看某一列的唯一值（提取唯一值）\n",
    "print(df['price'].unique())\n",
    "print()\n",
    "print(\"查看数据表的值-----------df.values-------------------------\")\n",
    "# 查看数据表的值\n",
    "print(df.values)\n",
    "print()\n",
    "print(\"获取列名称----------------df.columns------------------------\")\n",
    "# 获取列名称\n",
    "print(df.columns)\n",
    "print()\n",
    "print(\"查看前5行数据、后5行数据---df.head()-----------------------\")\n",
    "# 查看前5行数据、后5行数据\n",
    "print(df.head())\n",
    "print()\n",
    "print(df.tail())"
   ]
  },
  {
   "cell_type": "markdown",
   "id": "336220b2",
   "metadata": {},
   "source": [
    "# 2、Excel相关 read_excel() 参数用法"
   ]
  },
  {
   "cell_type": "markdown",
   "id": "aab892ad",
   "metadata": {},
   "source": [
    "***语法：***"
   ]
  },
  {
   "cell_type": "markdown",
   "id": "9de8aa1a",
   "metadata": {},
   "source": [
    "pandas.read_excel(***io***, ***sheet_name=0***, *, ***header=0***, ***names=None***, ***index_col=None***, ***usecols=None***, ***dtype=None***, engine=None, ***converters=None***, true_values=None, false_values=None, ***skiprows=None***, nrows=None, na_values=None, keep_default_na=True, na_filter=True, verbose=False, parse_dates=False, date_parser=_NoDefault.no_default, ***date_format=None***, thousands=None, decimal='.', comment=None, skipfooter=0, storage_options=None, dtype_backend=_NoDefault.no_default, engine_kwargs=None)"
   ]
  },
  {
   "cell_type": "markdown",
   "id": "3b292bc5",
   "metadata": {},
   "source": [
    "参考官方文档：https://pandas.pydata.org/docs/reference/api/pandas.read_excel.html"
   ]
  },
  {
   "cell_type": "markdown",
   "id": "1b961987",
   "metadata": {},
   "source": [
    "## 2.1、文件路径 io"
   ]
  },
  {
   "cell_type": "code",
   "execution_count": 9,
   "id": "803d4db0",
   "metadata": {},
   "outputs": [
    {
     "data": {
      "text/html": [
       "<div>\n",
       "<style scoped>\n",
       "    .dataframe tbody tr th:only-of-type {\n",
       "        vertical-align: middle;\n",
       "    }\n",
       "\n",
       "    .dataframe tbody tr th {\n",
       "        vertical-align: top;\n",
       "    }\n",
       "\n",
       "    .dataframe thead th {\n",
       "        text-align: right;\n",
       "    }\n",
       "</style>\n",
       "<table border=\"1\" class=\"dataframe\">\n",
       "  <thead>\n",
       "    <tr style=\"text-align: right;\">\n",
       "      <th></th>\n",
       "      <th>货号</th>\n",
       "      <th>商品代码</th>\n",
       "      <th>颜色代码</th>\n",
       "      <th>商品名称</th>\n",
       "      <th>品牌</th>\n",
       "      <th>成本</th>\n",
       "      <th>季节</th>\n",
       "      <th>商品年份</th>\n",
       "      <th>上架费</th>\n",
       "      <th>在售</th>\n",
       "      <th>商家日期</th>\n",
       "    </tr>\n",
       "  </thead>\n",
       "  <tbody>\n",
       "    <tr>\n",
       "      <th>0</th>\n",
       "      <td>qwx125</td>\n",
       "      <td>qwx</td>\n",
       "      <td>125</td>\n",
       "      <td>是法</td>\n",
       "      <td>a</td>\n",
       "      <td>180</td>\n",
       "      <td>春</td>\n",
       "      <td>2020</td>\n",
       "      <td>2.5</td>\n",
       "      <td>True</td>\n",
       "      <td>2018-01-01</td>\n",
       "    </tr>\n",
       "    <tr>\n",
       "      <th>1</th>\n",
       "      <td>sfh582</td>\n",
       "      <td>sfh</td>\n",
       "      <td>582</td>\n",
       "      <td>从给</td>\n",
       "      <td>b</td>\n",
       "      <td>150</td>\n",
       "      <td>夏</td>\n",
       "      <td>2020</td>\n",
       "      <td>3.5</td>\n",
       "      <td>False</td>\n",
       "      <td>2019-02-01</td>\n",
       "    </tr>\n",
       "    <tr>\n",
       "      <th>2</th>\n",
       "      <td>cfr584</td>\n",
       "      <td>cfr</td>\n",
       "      <td>584</td>\n",
       "      <td>人发</td>\n",
       "      <td>c</td>\n",
       "      <td>160</td>\n",
       "      <td>秋</td>\n",
       "      <td>2020</td>\n",
       "      <td>4.5</td>\n",
       "      <td>True</td>\n",
       "      <td>2018-03-01</td>\n",
       "    </tr>\n",
       "    <tr>\n",
       "      <th>3</th>\n",
       "      <td>dfr154</td>\n",
       "      <td>dfr</td>\n",
       "      <td>154</td>\n",
       "      <td>同意</td>\n",
       "      <td>a</td>\n",
       "      <td>561</td>\n",
       "      <td>东</td>\n",
       "      <td>2020</td>\n",
       "      <td>5.5</td>\n",
       "      <td>False</td>\n",
       "      <td>2019-04-01</td>\n",
       "    </tr>\n",
       "    <tr>\n",
       "      <th>4</th>\n",
       "      <td>zdr547</td>\n",
       "      <td>zdr</td>\n",
       "      <td>547</td>\n",
       "      <td>余就</td>\n",
       "      <td>b</td>\n",
       "      <td>174</td>\n",
       "      <td>夏</td>\n",
       "      <td>2020</td>\n",
       "      <td>6.5</td>\n",
       "      <td>True</td>\n",
       "      <td>2020-05-01</td>\n",
       "    </tr>\n",
       "    <tr>\n",
       "      <th>5</th>\n",
       "      <td>sht547</td>\n",
       "      <td>sht</td>\n",
       "      <td>547</td>\n",
       "      <td>号内</td>\n",
       "      <td>c</td>\n",
       "      <td>185</td>\n",
       "      <td>春</td>\n",
       "      <td>2020</td>\n",
       "      <td>7.5</td>\n",
       "      <td>False</td>\n",
       "      <td>2018-06-01</td>\n",
       "    </tr>\n",
       "    <tr>\n",
       "      <th>6</th>\n",
       "      <td>xdf428</td>\n",
       "      <td>xdf</td>\n",
       "      <td>428</td>\n",
       "      <td>符个</td>\n",
       "      <td>b</td>\n",
       "      <td>541</td>\n",
       "      <td>东</td>\n",
       "      <td>2020</td>\n",
       "      <td>8.5</td>\n",
       "      <td>True</td>\n",
       "      <td>2020-07-01</td>\n",
       "    </tr>\n",
       "  </tbody>\n",
       "</table>\n",
       "</div>"
      ],
      "text/plain": [
       "       货号 商品代码  颜色代码 商品名称 品牌   成本 季节  商品年份  上架费     在售       商家日期\n",
       "0  qwx125  qwx   125   是法  a  180  春  2020  2.5   True 2018-01-01\n",
       "1  sfh582  sfh   582   从给  b  150  夏  2020  3.5  False 2019-02-01\n",
       "2  cfr584  cfr   584   人发  c  160  秋  2020  4.5   True 2018-03-01\n",
       "3  dfr154  dfr   154   同意  a  561  东  2020  5.5  False 2019-04-01\n",
       "4  zdr547  zdr   547   余就  b  174  夏  2020  6.5   True 2020-05-01\n",
       "5  sht547  sht   547   号内  c  185  春  2020  7.5  False 2018-06-01\n",
       "6  xdf428  xdf   428   符个  b  541  东  2020  8.5   True 2020-07-01"
      ]
     },
     "execution_count": 9,
     "metadata": {},
     "output_type": "execute_result"
    }
   ],
   "source": [
    "import pandas as pd \n",
    "df = pd.read_excel(\"./data.xlsx\")\n",
    "df"
   ]
  },
  {
   "cell_type": "markdown",
   "id": "95bd9936",
   "metadata": {},
   "source": [
    "## 2.2、工作表名 sheet_name"
   ]
  },
  {
   "cell_type": "code",
   "execution_count": 10,
   "id": "9846fdb3",
   "metadata": {},
   "outputs": [
    {
     "data": {
      "text/html": [
       "<div>\n",
       "<style scoped>\n",
       "    .dataframe tbody tr th:only-of-type {\n",
       "        vertical-align: middle;\n",
       "    }\n",
       "\n",
       "    .dataframe tbody tr th {\n",
       "        vertical-align: top;\n",
       "    }\n",
       "\n",
       "    .dataframe thead th {\n",
       "        text-align: right;\n",
       "    }\n",
       "</style>\n",
       "<table border=\"1\" class=\"dataframe\">\n",
       "  <thead>\n",
       "    <tr style=\"text-align: right;\">\n",
       "      <th></th>\n",
       "      <th>dfr154</th>\n",
       "      <th>dfr</th>\n",
       "      <th>154</th>\n",
       "      <th>同意</th>\n",
       "      <th>a</th>\n",
       "      <th>561</th>\n",
       "      <th>东</th>\n",
       "      <th>2019</th>\n",
       "    </tr>\n",
       "  </thead>\n",
       "  <tbody>\n",
       "    <tr>\n",
       "      <th>0</th>\n",
       "      <td>zdr547</td>\n",
       "      <td>zdr</td>\n",
       "      <td>547</td>\n",
       "      <td>余就</td>\n",
       "      <td>b</td>\n",
       "      <td>174</td>\n",
       "      <td>夏</td>\n",
       "      <td>2020</td>\n",
       "    </tr>\n",
       "    <tr>\n",
       "      <th>1</th>\n",
       "      <td>sht547</td>\n",
       "      <td>sht</td>\n",
       "      <td>547</td>\n",
       "      <td>号内</td>\n",
       "      <td>c</td>\n",
       "      <td>185</td>\n",
       "      <td>春</td>\n",
       "      <td>2018</td>\n",
       "    </tr>\n",
       "    <tr>\n",
       "      <th>2</th>\n",
       "      <td>xdf428</td>\n",
       "      <td>xdf</td>\n",
       "      <td>428</td>\n",
       "      <td>符个</td>\n",
       "      <td>b</td>\n",
       "      <td>541</td>\n",
       "      <td>东</td>\n",
       "      <td>2020</td>\n",
       "    </tr>\n",
       "  </tbody>\n",
       "</table>\n",
       "</div>"
      ],
      "text/plain": [
       "   dfr154  dfr  154  同意  a  561  东  2019\n",
       "0  zdr547  zdr  547  余就  b  174  夏  2020\n",
       "1  sht547  sht  547  号内  c  185  春  2018\n",
       "2  xdf428  xdf  428  符个  b  541  东  2020"
      ]
     },
     "execution_count": 10,
     "metadata": {},
     "output_type": "execute_result"
    }
   ],
   "source": [
    "import pandas as pd \n",
    "df = pd.read_excel(\"./data.xlsx\",\n",
    "                  sheet_name=1\n",
    "                  )\n",
    "df\n"
   ]
  },
  {
   "cell_type": "code",
   "execution_count": 11,
   "id": "e1869c5f",
   "metadata": {},
   "outputs": [
    {
     "data": {
      "text/html": [
       "<div>\n",
       "<style scoped>\n",
       "    .dataframe tbody tr th:only-of-type {\n",
       "        vertical-align: middle;\n",
       "    }\n",
       "\n",
       "    .dataframe tbody tr th {\n",
       "        vertical-align: top;\n",
       "    }\n",
       "\n",
       "    .dataframe thead th {\n",
       "        text-align: right;\n",
       "    }\n",
       "</style>\n",
       "<table border=\"1\" class=\"dataframe\">\n",
       "  <thead>\n",
       "    <tr style=\"text-align: right;\">\n",
       "      <th></th>\n",
       "      <th>dfr154</th>\n",
       "      <th>dfr</th>\n",
       "      <th>154</th>\n",
       "      <th>同意</th>\n",
       "      <th>a</th>\n",
       "      <th>561</th>\n",
       "      <th>东</th>\n",
       "      <th>2019</th>\n",
       "    </tr>\n",
       "  </thead>\n",
       "  <tbody>\n",
       "    <tr>\n",
       "      <th>0</th>\n",
       "      <td>zdr547</td>\n",
       "      <td>zdr</td>\n",
       "      <td>547</td>\n",
       "      <td>余就</td>\n",
       "      <td>b</td>\n",
       "      <td>174</td>\n",
       "      <td>夏</td>\n",
       "      <td>2020</td>\n",
       "    </tr>\n",
       "    <tr>\n",
       "      <th>1</th>\n",
       "      <td>sht547</td>\n",
       "      <td>sht</td>\n",
       "      <td>547</td>\n",
       "      <td>号内</td>\n",
       "      <td>c</td>\n",
       "      <td>185</td>\n",
       "      <td>春</td>\n",
       "      <td>2018</td>\n",
       "    </tr>\n",
       "    <tr>\n",
       "      <th>2</th>\n",
       "      <td>xdf428</td>\n",
       "      <td>xdf</td>\n",
       "      <td>428</td>\n",
       "      <td>符个</td>\n",
       "      <td>b</td>\n",
       "      <td>541</td>\n",
       "      <td>东</td>\n",
       "      <td>2020</td>\n",
       "    </tr>\n",
       "  </tbody>\n",
       "</table>\n",
       "</div>"
      ],
      "text/plain": [
       "   dfr154  dfr  154  同意  a  561  东  2019\n",
       "0  zdr547  zdr  547  余就  b  174  夏  2020\n",
       "1  sht547  sht  547  号内  c  185  春  2018\n",
       "2  xdf428  xdf  428  符个  b  541  东  2020"
      ]
     },
     "execution_count": 11,
     "metadata": {},
     "output_type": "execute_result"
    }
   ],
   "source": [
    "import pandas as pd \n",
    "df = pd.read_excel(\"./data.xlsx\",\n",
    "                  sheet_name=\"Sheet2\"\n",
    "                  )\n",
    "df"
   ]
  },
  {
   "cell_type": "code",
   "execution_count": 12,
   "id": "eb6085e7",
   "metadata": {},
   "outputs": [
    {
     "name": "stdout",
     "output_type": "stream",
     "text": [
      "{'Sheet2':    dfr154  dfr  154  同意  a  561  东  2019\n",
      "0  zdr547  zdr  547  余就  b  174  夏  2020\n",
      "1  sht547  sht  547  号内  c  185  春  2018\n",
      "2  xdf428  xdf  428  符个  b  541  东  2020, 'Sheet3':   Unnamed: 0 Unnamed: 1 Unnamed: 2 Unnamed: 3 Unnamed: 4 Unnamed: 5  \\\n",
      "0         货号       商品代码       颜色代码       商品名称         品牌         成本   \n",
      "1     zdr547        zdr        547         余就          b        174   \n",
      "2     sht547        sht        547         号内          c        185   \n",
      "\n",
      "  Unnamed: 6 Unnamed: 7  \n",
      "0         季节       商品年份  \n",
      "1          夏       2020  \n",
      "2          春       2018  }\n",
      "\n"
     ]
    },
    {
     "data": {
      "text/html": [
       "<div>\n",
       "<style scoped>\n",
       "    .dataframe tbody tr th:only-of-type {\n",
       "        vertical-align: middle;\n",
       "    }\n",
       "\n",
       "    .dataframe tbody tr th {\n",
       "        vertical-align: top;\n",
       "    }\n",
       "\n",
       "    .dataframe thead th {\n",
       "        text-align: right;\n",
       "    }\n",
       "</style>\n",
       "<table border=\"1\" class=\"dataframe\">\n",
       "  <thead>\n",
       "    <tr style=\"text-align: right;\">\n",
       "      <th></th>\n",
       "      <th>dfr154</th>\n",
       "      <th>dfr</th>\n",
       "      <th>154</th>\n",
       "      <th>同意</th>\n",
       "      <th>a</th>\n",
       "      <th>561</th>\n",
       "      <th>东</th>\n",
       "      <th>2019</th>\n",
       "    </tr>\n",
       "  </thead>\n",
       "  <tbody>\n",
       "    <tr>\n",
       "      <th>0</th>\n",
       "      <td>zdr547</td>\n",
       "      <td>zdr</td>\n",
       "      <td>547</td>\n",
       "      <td>余就</td>\n",
       "      <td>b</td>\n",
       "      <td>174</td>\n",
       "      <td>夏</td>\n",
       "      <td>2020</td>\n",
       "    </tr>\n",
       "    <tr>\n",
       "      <th>1</th>\n",
       "      <td>sht547</td>\n",
       "      <td>sht</td>\n",
       "      <td>547</td>\n",
       "      <td>号内</td>\n",
       "      <td>c</td>\n",
       "      <td>185</td>\n",
       "      <td>春</td>\n",
       "      <td>2018</td>\n",
       "    </tr>\n",
       "    <tr>\n",
       "      <th>2</th>\n",
       "      <td>xdf428</td>\n",
       "      <td>xdf</td>\n",
       "      <td>428</td>\n",
       "      <td>符个</td>\n",
       "      <td>b</td>\n",
       "      <td>541</td>\n",
       "      <td>东</td>\n",
       "      <td>2020</td>\n",
       "    </tr>\n",
       "  </tbody>\n",
       "</table>\n",
       "</div>"
      ],
      "text/plain": [
       "   dfr154  dfr  154  同意  a  561  东  2019\n",
       "0  zdr547  zdr  547  余就  b  174  夏  2020\n",
       "1  sht547  sht  547  号内  c  185  春  2018\n",
       "2  xdf428  xdf  428  符个  b  541  东  2020"
      ]
     },
     "execution_count": 12,
     "metadata": {},
     "output_type": "execute_result"
    }
   ],
   "source": [
    "import pandas as pd \n",
    "# 返回的是字典\n",
    "d_df = pd.read_excel(\"./data.xlsx\",\n",
    "                  sheet_name=[\"Sheet2\",\"Sheet3\"]\n",
    "                  )\n",
    "print(d_df)\n",
    "print()\n",
    "d_df[\"Sheet2\"]"
   ]
  },
  {
   "cell_type": "code",
   "execution_count": 5,
   "id": "e8d1c63f",
   "metadata": {},
   "outputs": [
    {
     "data": {
      "text/html": [
       "<div>\n",
       "<style scoped>\n",
       "    .dataframe tbody tr th:only-of-type {\n",
       "        vertical-align: middle;\n",
       "    }\n",
       "\n",
       "    .dataframe tbody tr th {\n",
       "        vertical-align: top;\n",
       "    }\n",
       "\n",
       "    .dataframe thead th {\n",
       "        text-align: right;\n",
       "    }\n",
       "</style>\n",
       "<table border=\"1\" class=\"dataframe\">\n",
       "  <thead>\n",
       "    <tr style=\"text-align: right;\">\n",
       "      <th></th>\n",
       "      <th>dfr154</th>\n",
       "      <th>dfr</th>\n",
       "      <th>154</th>\n",
       "      <th>同意</th>\n",
       "      <th>a</th>\n",
       "      <th>561</th>\n",
       "      <th>东</th>\n",
       "      <th>2019</th>\n",
       "    </tr>\n",
       "  </thead>\n",
       "  <tbody>\n",
       "    <tr>\n",
       "      <th>0</th>\n",
       "      <td>zdr547</td>\n",
       "      <td>zdr</td>\n",
       "      <td>547</td>\n",
       "      <td>余就</td>\n",
       "      <td>b</td>\n",
       "      <td>174</td>\n",
       "      <td>夏</td>\n",
       "      <td>2020</td>\n",
       "    </tr>\n",
       "    <tr>\n",
       "      <th>1</th>\n",
       "      <td>sht547</td>\n",
       "      <td>sht</td>\n",
       "      <td>547</td>\n",
       "      <td>号内</td>\n",
       "      <td>c</td>\n",
       "      <td>185</td>\n",
       "      <td>春</td>\n",
       "      <td>2018</td>\n",
       "    </tr>\n",
       "    <tr>\n",
       "      <th>2</th>\n",
       "      <td>xdf428</td>\n",
       "      <td>xdf</td>\n",
       "      <td>428</td>\n",
       "      <td>符个</td>\n",
       "      <td>b</td>\n",
       "      <td>541</td>\n",
       "      <td>东</td>\n",
       "      <td>2020</td>\n",
       "    </tr>\n",
       "  </tbody>\n",
       "</table>\n",
       "</div>"
      ],
      "text/plain": [
       "   dfr154  dfr  154  同意  a  561  东  2019\n",
       "0  zdr547  zdr  547  余就  b  174  夏  2020\n",
       "1  sht547  sht  547  号内  c  185  春  2018\n",
       "2  xdf428  xdf  428  符个  b  541  东  2020"
      ]
     },
     "execution_count": 5,
     "metadata": {},
     "output_type": "execute_result"
    }
   ],
   "source": [
    "import pandas as pd \n",
    "# 返回的是字典\n",
    "d_df = pd.read_excel(\"./data.xlsx\",\n",
    "                     sheet_name=None # 表示读取该工作簿所有的工作表\n",
    "                  )\n",
    "# 可全部输出\n",
    "# print(d_df) \n",
    "\n",
    "d_df[\"Sheet2\"] # 单独输出一个工作表"
   ]
  },
  {
   "cell_type": "markdown",
   "id": "6601dc12",
   "metadata": {},
   "source": [
    "## 2.3、指定作为索引的 行 / 列 header / index_col"
   ]
  },
  {
   "cell_type": "code",
   "execution_count": 6,
   "id": "ce6e8edc",
   "metadata": {},
   "outputs": [
    {
     "name": "stdout",
     "output_type": "stream",
     "text": [
      "   dfr154  dfr  154  同意  a  561  东  2019\n",
      "0  zdr547  zdr  547  余就  b  174  夏  2020\n",
      "1  sht547  sht  547  号内  c  185  春  2018\n",
      "2  xdf428  xdf  428  符个  b  541  东  2020\n",
      "---------------------------------------------\n",
      "        0    1    2   3  4    5  6     7\n",
      "0  dfr154  dfr  154  同意  a  561  东  2019\n",
      "1  zdr547  zdr  547  余就  b  174  夏  2020\n",
      "2  sht547  sht  547  号内  c  185  春  2018\n",
      "3  xdf428  xdf  428  符个  b  541  东  2020\n",
      "---------------------------------------------\n",
      "       货号 商品代码  颜色代码 商品名称 品牌   成本 季节  商品年份\n",
      "0  zdr547  zdr   547   余就  b  174  夏  2020\n",
      "1  sht547  sht   547   号内  c  185  春  2018\n",
      "---------------------------------------------\n",
      "         河滨           河滨后              \n",
      "货号     商品代码 颜色代码 商品名称  品牌   成本 季节  商品年份\n",
      "zdr547  zdr  547   余就   b  174  夏  2020\n",
      "sht547  sht  547   号内   c  185  春  2018\n"
     ]
    }
   ],
   "source": [
    "import pandas as pd \n",
    "df = pd.read_excel(\"./data.xlsx\",\n",
    "                  sheet_name=\"Sheet2\",\n",
    "                   header=0 # 默认为0，将第一行定义为表头\n",
    "                  )\n",
    "print(df)\n",
    "print(\"-\"*45)\n",
    "df = pd.read_excel(\"./data.xlsx\",\n",
    "                  sheet_name=\"Sheet2\",\n",
    "                  header=None # 表示读取的工作表没有表头，但dataframe加上默认索引表头\n",
    "                  )\n",
    "print(df)\n",
    "print(\"-\"*45)\n",
    "df = pd.read_excel(\"./data.xlsx\",\n",
    "                  sheet_name=\"Sheet3\",\n",
    "                  header=1 # 表示读取的工作表表头在第2行，将第二行作为表头\n",
    "                  )\n",
    "print(df)\n",
    "print(\"-\"*45)\n",
    "df = pd.read_excel(\"./data.xlsx\",\n",
    "                  sheet_name=\"Sheet4\",\n",
    "                  header=[0,1], # 表示读取的工作表表头在第1，2的两行，将第这两行都作为表头\n",
    "                  index_col=0   # 表示读取的工作表第1列定义为索引列\n",
    "                  )\n",
    "print(df)"
   ]
  },
  {
   "cell_type": "markdown",
   "id": "18f97817",
   "metadata": {},
   "source": [
    "## 2.4、使用列 usecols"
   ]
  },
  {
   "cell_type": "code",
   "execution_count": 15,
   "id": "0102a0ca",
   "metadata": {},
   "outputs": [
    {
     "data": {
      "text/html": [
       "<div>\n",
       "<style scoped>\n",
       "    .dataframe tbody tr th:only-of-type {\n",
       "        vertical-align: middle;\n",
       "    }\n",
       "\n",
       "    .dataframe tbody tr th {\n",
       "        vertical-align: top;\n",
       "    }\n",
       "\n",
       "    .dataframe thead th {\n",
       "        text-align: right;\n",
       "    }\n",
       "</style>\n",
       "<table border=\"1\" class=\"dataframe\">\n",
       "  <thead>\n",
       "    <tr style=\"text-align: right;\">\n",
       "      <th></th>\n",
       "      <th>货号</th>\n",
       "      <th>商品代码</th>\n",
       "      <th>颜色代码</th>\n",
       "      <th>商品名称</th>\n",
       "      <th>品牌</th>\n",
       "      <th>成本</th>\n",
       "      <th>季节</th>\n",
       "      <th>商品年份</th>\n",
       "      <th>上架费</th>\n",
       "      <th>在售</th>\n",
       "      <th>商家日期</th>\n",
       "    </tr>\n",
       "  </thead>\n",
       "  <tbody>\n",
       "    <tr>\n",
       "      <th>0</th>\n",
       "      <td>qwx125</td>\n",
       "      <td>qwx</td>\n",
       "      <td>125</td>\n",
       "      <td>是法</td>\n",
       "      <td>a</td>\n",
       "      <td>180</td>\n",
       "      <td>春</td>\n",
       "      <td>2020</td>\n",
       "      <td>2.5</td>\n",
       "      <td>True</td>\n",
       "      <td>2018-01-01</td>\n",
       "    </tr>\n",
       "    <tr>\n",
       "      <th>1</th>\n",
       "      <td>sfh582</td>\n",
       "      <td>sfh</td>\n",
       "      <td>582</td>\n",
       "      <td>从给</td>\n",
       "      <td>b</td>\n",
       "      <td>150</td>\n",
       "      <td>夏</td>\n",
       "      <td>2020</td>\n",
       "      <td>3.5</td>\n",
       "      <td>False</td>\n",
       "      <td>2019-02-01</td>\n",
       "    </tr>\n",
       "    <tr>\n",
       "      <th>2</th>\n",
       "      <td>cfr584</td>\n",
       "      <td>cfr</td>\n",
       "      <td>584</td>\n",
       "      <td>人发</td>\n",
       "      <td>c</td>\n",
       "      <td>160</td>\n",
       "      <td>秋</td>\n",
       "      <td>2020</td>\n",
       "      <td>4.5</td>\n",
       "      <td>True</td>\n",
       "      <td>2018-03-01</td>\n",
       "    </tr>\n",
       "    <tr>\n",
       "      <th>3</th>\n",
       "      <td>dfr154</td>\n",
       "      <td>dfr</td>\n",
       "      <td>154</td>\n",
       "      <td>同意</td>\n",
       "      <td>a</td>\n",
       "      <td>561</td>\n",
       "      <td>东</td>\n",
       "      <td>2020</td>\n",
       "      <td>5.5</td>\n",
       "      <td>False</td>\n",
       "      <td>2019-04-01</td>\n",
       "    </tr>\n",
       "    <tr>\n",
       "      <th>4</th>\n",
       "      <td>zdr547</td>\n",
       "      <td>zdr</td>\n",
       "      <td>547</td>\n",
       "      <td>余就</td>\n",
       "      <td>b</td>\n",
       "      <td>174</td>\n",
       "      <td>夏</td>\n",
       "      <td>2020</td>\n",
       "      <td>6.5</td>\n",
       "      <td>True</td>\n",
       "      <td>2020-05-01</td>\n",
       "    </tr>\n",
       "    <tr>\n",
       "      <th>5</th>\n",
       "      <td>sht547</td>\n",
       "      <td>sht</td>\n",
       "      <td>547</td>\n",
       "      <td>号内</td>\n",
       "      <td>c</td>\n",
       "      <td>185</td>\n",
       "      <td>春</td>\n",
       "      <td>2020</td>\n",
       "      <td>7.5</td>\n",
       "      <td>False</td>\n",
       "      <td>2018-06-01</td>\n",
       "    </tr>\n",
       "    <tr>\n",
       "      <th>6</th>\n",
       "      <td>xdf428</td>\n",
       "      <td>xdf</td>\n",
       "      <td>428</td>\n",
       "      <td>符个</td>\n",
       "      <td>b</td>\n",
       "      <td>541</td>\n",
       "      <td>东</td>\n",
       "      <td>2020</td>\n",
       "      <td>8.5</td>\n",
       "      <td>True</td>\n",
       "      <td>2020-07-01</td>\n",
       "    </tr>\n",
       "  </tbody>\n",
       "</table>\n",
       "</div>"
      ],
      "text/plain": [
       "       货号 商品代码  颜色代码 商品名称 品牌   成本 季节  商品年份  上架费     在售       商家日期\n",
       "0  qwx125  qwx   125   是法  a  180  春  2020  2.5   True 2018-01-01\n",
       "1  sfh582  sfh   582   从给  b  150  夏  2020  3.5  False 2019-02-01\n",
       "2  cfr584  cfr   584   人发  c  160  秋  2020  4.5   True 2018-03-01\n",
       "3  dfr154  dfr   154   同意  a  561  东  2020  5.5  False 2019-04-01\n",
       "4  zdr547  zdr   547   余就  b  174  夏  2020  6.5   True 2020-05-01\n",
       "5  sht547  sht   547   号内  c  185  春  2020  7.5  False 2018-06-01\n",
       "6  xdf428  xdf   428   符个  b  541  东  2020  8.5   True 2020-07-01"
      ]
     },
     "execution_count": 15,
     "metadata": {},
     "output_type": "execute_result"
    }
   ],
   "source": [
    "import pandas as pd \n",
    "df = pd.read_excel(\"./data.xlsx\")\n",
    "df"
   ]
  },
  {
   "cell_type": "code",
   "execution_count": 16,
   "id": "7a5c5a17",
   "metadata": {},
   "outputs": [
    {
     "data": {
      "text/html": [
       "<div>\n",
       "<style scoped>\n",
       "    .dataframe tbody tr th:only-of-type {\n",
       "        vertical-align: middle;\n",
       "    }\n",
       "\n",
       "    .dataframe tbody tr th {\n",
       "        vertical-align: top;\n",
       "    }\n",
       "\n",
       "    .dataframe thead th {\n",
       "        text-align: right;\n",
       "    }\n",
       "</style>\n",
       "<table border=\"1\" class=\"dataframe\">\n",
       "  <thead>\n",
       "    <tr style=\"text-align: right;\">\n",
       "      <th></th>\n",
       "      <th>货号</th>\n",
       "      <th>商品代码</th>\n",
       "      <th>颜色代码</th>\n",
       "      <th>商品名称</th>\n",
       "      <th>品牌</th>\n",
       "      <th>成本</th>\n",
       "      <th>季节</th>\n",
       "      <th>商品年份</th>\n",
       "      <th>上架费</th>\n",
       "      <th>在售</th>\n",
       "      <th>商家日期</th>\n",
       "    </tr>\n",
       "  </thead>\n",
       "  <tbody>\n",
       "    <tr>\n",
       "      <th>0</th>\n",
       "      <td>qwx125</td>\n",
       "      <td>qwx</td>\n",
       "      <td>125</td>\n",
       "      <td>是法</td>\n",
       "      <td>a</td>\n",
       "      <td>180</td>\n",
       "      <td>春</td>\n",
       "      <td>2020</td>\n",
       "      <td>2.5</td>\n",
       "      <td>True</td>\n",
       "      <td>2018-01-01</td>\n",
       "    </tr>\n",
       "    <tr>\n",
       "      <th>1</th>\n",
       "      <td>sfh582</td>\n",
       "      <td>sfh</td>\n",
       "      <td>582</td>\n",
       "      <td>从给</td>\n",
       "      <td>b</td>\n",
       "      <td>150</td>\n",
       "      <td>夏</td>\n",
       "      <td>2020</td>\n",
       "      <td>3.5</td>\n",
       "      <td>False</td>\n",
       "      <td>2019-02-01</td>\n",
       "    </tr>\n",
       "    <tr>\n",
       "      <th>2</th>\n",
       "      <td>cfr584</td>\n",
       "      <td>cfr</td>\n",
       "      <td>584</td>\n",
       "      <td>人发</td>\n",
       "      <td>c</td>\n",
       "      <td>160</td>\n",
       "      <td>秋</td>\n",
       "      <td>2020</td>\n",
       "      <td>4.5</td>\n",
       "      <td>True</td>\n",
       "      <td>2018-03-01</td>\n",
       "    </tr>\n",
       "    <tr>\n",
       "      <th>3</th>\n",
       "      <td>dfr154</td>\n",
       "      <td>dfr</td>\n",
       "      <td>154</td>\n",
       "      <td>同意</td>\n",
       "      <td>a</td>\n",
       "      <td>561</td>\n",
       "      <td>东</td>\n",
       "      <td>2020</td>\n",
       "      <td>5.5</td>\n",
       "      <td>False</td>\n",
       "      <td>2019-04-01</td>\n",
       "    </tr>\n",
       "    <tr>\n",
       "      <th>4</th>\n",
       "      <td>zdr547</td>\n",
       "      <td>zdr</td>\n",
       "      <td>547</td>\n",
       "      <td>余就</td>\n",
       "      <td>b</td>\n",
       "      <td>174</td>\n",
       "      <td>夏</td>\n",
       "      <td>2020</td>\n",
       "      <td>6.5</td>\n",
       "      <td>True</td>\n",
       "      <td>2020-05-01</td>\n",
       "    </tr>\n",
       "    <tr>\n",
       "      <th>5</th>\n",
       "      <td>sht547</td>\n",
       "      <td>sht</td>\n",
       "      <td>547</td>\n",
       "      <td>号内</td>\n",
       "      <td>c</td>\n",
       "      <td>185</td>\n",
       "      <td>春</td>\n",
       "      <td>2020</td>\n",
       "      <td>7.5</td>\n",
       "      <td>False</td>\n",
       "      <td>2018-06-01</td>\n",
       "    </tr>\n",
       "    <tr>\n",
       "      <th>6</th>\n",
       "      <td>xdf428</td>\n",
       "      <td>xdf</td>\n",
       "      <td>428</td>\n",
       "      <td>符个</td>\n",
       "      <td>b</td>\n",
       "      <td>541</td>\n",
       "      <td>东</td>\n",
       "      <td>2020</td>\n",
       "      <td>8.5</td>\n",
       "      <td>True</td>\n",
       "      <td>2020-07-01</td>\n",
       "    </tr>\n",
       "  </tbody>\n",
       "</table>\n",
       "</div>"
      ],
      "text/plain": [
       "       货号 商品代码  颜色代码 商品名称 品牌   成本 季节  商品年份  上架费     在售       商家日期\n",
       "0  qwx125  qwx   125   是法  a  180  春  2020  2.5   True 2018-01-01\n",
       "1  sfh582  sfh   582   从给  b  150  夏  2020  3.5  False 2019-02-01\n",
       "2  cfr584  cfr   584   人发  c  160  秋  2020  4.5   True 2018-03-01\n",
       "3  dfr154  dfr   154   同意  a  561  东  2020  5.5  False 2019-04-01\n",
       "4  zdr547  zdr   547   余就  b  174  夏  2020  6.5   True 2020-05-01\n",
       "5  sht547  sht   547   号内  c  185  春  2020  7.5  False 2018-06-01\n",
       "6  xdf428  xdf   428   符个  b  541  东  2020  8.5   True 2020-07-01"
      ]
     },
     "execution_count": 16,
     "metadata": {},
     "output_type": "execute_result"
    }
   ],
   "source": [
    "df = pd.read_excel(\"./data.xlsx\",\n",
    "                  usecols=None #默认全选\n",
    "                  )\n",
    "df"
   ]
  },
  {
   "cell_type": "code",
   "execution_count": 17,
   "id": "cc71f312",
   "metadata": {},
   "outputs": [
    {
     "data": {
      "text/html": [
       "<div>\n",
       "<style scoped>\n",
       "    .dataframe tbody tr th:only-of-type {\n",
       "        vertical-align: middle;\n",
       "    }\n",
       "\n",
       "    .dataframe tbody tr th {\n",
       "        vertical-align: top;\n",
       "    }\n",
       "\n",
       "    .dataframe thead th {\n",
       "        text-align: right;\n",
       "    }\n",
       "</style>\n",
       "<table border=\"1\" class=\"dataframe\">\n",
       "  <thead>\n",
       "    <tr style=\"text-align: right;\">\n",
       "      <th></th>\n",
       "      <th>货号</th>\n",
       "      <th>颜色代码</th>\n",
       "      <th>商品名称</th>\n",
       "      <th>品牌</th>\n",
       "    </tr>\n",
       "  </thead>\n",
       "  <tbody>\n",
       "    <tr>\n",
       "      <th>0</th>\n",
       "      <td>qwx125</td>\n",
       "      <td>125</td>\n",
       "      <td>是法</td>\n",
       "      <td>a</td>\n",
       "    </tr>\n",
       "    <tr>\n",
       "      <th>1</th>\n",
       "      <td>sfh582</td>\n",
       "      <td>582</td>\n",
       "      <td>从给</td>\n",
       "      <td>b</td>\n",
       "    </tr>\n",
       "    <tr>\n",
       "      <th>2</th>\n",
       "      <td>cfr584</td>\n",
       "      <td>584</td>\n",
       "      <td>人发</td>\n",
       "      <td>c</td>\n",
       "    </tr>\n",
       "    <tr>\n",
       "      <th>3</th>\n",
       "      <td>dfr154</td>\n",
       "      <td>154</td>\n",
       "      <td>同意</td>\n",
       "      <td>a</td>\n",
       "    </tr>\n",
       "    <tr>\n",
       "      <th>4</th>\n",
       "      <td>zdr547</td>\n",
       "      <td>547</td>\n",
       "      <td>余就</td>\n",
       "      <td>b</td>\n",
       "    </tr>\n",
       "    <tr>\n",
       "      <th>5</th>\n",
       "      <td>sht547</td>\n",
       "      <td>547</td>\n",
       "      <td>号内</td>\n",
       "      <td>c</td>\n",
       "    </tr>\n",
       "    <tr>\n",
       "      <th>6</th>\n",
       "      <td>xdf428</td>\n",
       "      <td>428</td>\n",
       "      <td>符个</td>\n",
       "      <td>b</td>\n",
       "    </tr>\n",
       "  </tbody>\n",
       "</table>\n",
       "</div>"
      ],
      "text/plain": [
       "       货号  颜色代码 商品名称 品牌\n",
       "0  qwx125   125   是法  a\n",
       "1  sfh582   582   从给  b\n",
       "2  cfr584   584   人发  c\n",
       "3  dfr154   154   同意  a\n",
       "4  zdr547   547   余就  b\n",
       "5  sht547   547   号内  c\n",
       "6  xdf428   428   符个  b"
      ]
     },
     "execution_count": 17,
     "metadata": {},
     "output_type": "execute_result"
    }
   ],
   "source": [
    "df = pd.read_excel(\"./data.xlsx\",\n",
    "                  usecols=\"a,c:e\"\n",
    "                  )\n",
    "df"
   ]
  },
  {
   "cell_type": "code",
   "execution_count": 18,
   "id": "bcedf922",
   "metadata": {},
   "outputs": [
    {
     "data": {
      "text/html": [
       "<div>\n",
       "<style scoped>\n",
       "    .dataframe tbody tr th:only-of-type {\n",
       "        vertical-align: middle;\n",
       "    }\n",
       "\n",
       "    .dataframe tbody tr th {\n",
       "        vertical-align: top;\n",
       "    }\n",
       "\n",
       "    .dataframe thead th {\n",
       "        text-align: right;\n",
       "    }\n",
       "</style>\n",
       "<table border=\"1\" class=\"dataframe\">\n",
       "  <thead>\n",
       "    <tr style=\"text-align: right;\">\n",
       "      <th></th>\n",
       "      <th>货号</th>\n",
       "      <th>颜色代码</th>\n",
       "    </tr>\n",
       "  </thead>\n",
       "  <tbody>\n",
       "    <tr>\n",
       "      <th>0</th>\n",
       "      <td>qwx125</td>\n",
       "      <td>125</td>\n",
       "    </tr>\n",
       "    <tr>\n",
       "      <th>1</th>\n",
       "      <td>sfh582</td>\n",
       "      <td>582</td>\n",
       "    </tr>\n",
       "    <tr>\n",
       "      <th>2</th>\n",
       "      <td>cfr584</td>\n",
       "      <td>584</td>\n",
       "    </tr>\n",
       "    <tr>\n",
       "      <th>3</th>\n",
       "      <td>dfr154</td>\n",
       "      <td>154</td>\n",
       "    </tr>\n",
       "    <tr>\n",
       "      <th>4</th>\n",
       "      <td>zdr547</td>\n",
       "      <td>547</td>\n",
       "    </tr>\n",
       "    <tr>\n",
       "      <th>5</th>\n",
       "      <td>sht547</td>\n",
       "      <td>547</td>\n",
       "    </tr>\n",
       "    <tr>\n",
       "      <th>6</th>\n",
       "      <td>xdf428</td>\n",
       "      <td>428</td>\n",
       "    </tr>\n",
       "  </tbody>\n",
       "</table>\n",
       "</div>"
      ],
      "text/plain": [
       "       货号  颜色代码\n",
       "0  qwx125   125\n",
       "1  sfh582   582\n",
       "2  cfr584   584\n",
       "3  dfr154   154\n",
       "4  zdr547   547\n",
       "5  sht547   547\n",
       "6  xdf428   428"
      ]
     },
     "execution_count": 18,
     "metadata": {},
     "output_type": "execute_result"
    }
   ],
   "source": [
    "df = pd.read_excel(\"./data.xlsx\",\n",
    "                  usecols=[0,2]\n",
    "                  )\n",
    "df"
   ]
  },
  {
   "cell_type": "code",
   "execution_count": 19,
   "id": "e3e75b7d",
   "metadata": {},
   "outputs": [
    {
     "data": {
      "text/html": [
       "<div>\n",
       "<style scoped>\n",
       "    .dataframe tbody tr th:only-of-type {\n",
       "        vertical-align: middle;\n",
       "    }\n",
       "\n",
       "    .dataframe tbody tr th {\n",
       "        vertical-align: top;\n",
       "    }\n",
       "\n",
       "    .dataframe thead th {\n",
       "        text-align: right;\n",
       "    }\n",
       "</style>\n",
       "<table border=\"1\" class=\"dataframe\">\n",
       "  <thead>\n",
       "    <tr style=\"text-align: right;\">\n",
       "      <th></th>\n",
       "      <th>货号</th>\n",
       "      <th>颜色代码</th>\n",
       "    </tr>\n",
       "  </thead>\n",
       "  <tbody>\n",
       "    <tr>\n",
       "      <th>0</th>\n",
       "      <td>qwx125</td>\n",
       "      <td>125</td>\n",
       "    </tr>\n",
       "    <tr>\n",
       "      <th>1</th>\n",
       "      <td>sfh582</td>\n",
       "      <td>582</td>\n",
       "    </tr>\n",
       "    <tr>\n",
       "      <th>2</th>\n",
       "      <td>cfr584</td>\n",
       "      <td>584</td>\n",
       "    </tr>\n",
       "    <tr>\n",
       "      <th>3</th>\n",
       "      <td>dfr154</td>\n",
       "      <td>154</td>\n",
       "    </tr>\n",
       "    <tr>\n",
       "      <th>4</th>\n",
       "      <td>zdr547</td>\n",
       "      <td>547</td>\n",
       "    </tr>\n",
       "    <tr>\n",
       "      <th>5</th>\n",
       "      <td>sht547</td>\n",
       "      <td>547</td>\n",
       "    </tr>\n",
       "    <tr>\n",
       "      <th>6</th>\n",
       "      <td>xdf428</td>\n",
       "      <td>428</td>\n",
       "    </tr>\n",
       "  </tbody>\n",
       "</table>\n",
       "</div>"
      ],
      "text/plain": [
       "       货号  颜色代码\n",
       "0  qwx125   125\n",
       "1  sfh582   582\n",
       "2  cfr584   584\n",
       "3  dfr154   154\n",
       "4  zdr547   547\n",
       "5  sht547   547\n",
       "6  xdf428   428"
      ]
     },
     "execution_count": 19,
     "metadata": {},
     "output_type": "execute_result"
    }
   ],
   "source": [
    "#推荐使用这种\n",
    "\n",
    "df = pd.read_excel(\"./data.xlsx\",\n",
    "                  usecols=[\"货号\",\"颜色代码\"]\n",
    "                  )\n",
    "df"
   ]
  },
  {
   "cell_type": "code",
   "execution_count": 20,
   "id": "7198e3c5",
   "metadata": {},
   "outputs": [
    {
     "data": {
      "text/html": [
       "<div>\n",
       "<style scoped>\n",
       "    .dataframe tbody tr th:only-of-type {\n",
       "        vertical-align: middle;\n",
       "    }\n",
       "\n",
       "    .dataframe tbody tr th {\n",
       "        vertical-align: top;\n",
       "    }\n",
       "\n",
       "    .dataframe thead th {\n",
       "        text-align: right;\n",
       "    }\n",
       "</style>\n",
       "<table border=\"1\" class=\"dataframe\">\n",
       "  <thead>\n",
       "    <tr style=\"text-align: right;\">\n",
       "      <th></th>\n",
       "      <th>货号</th>\n",
       "      <th>颜色代码</th>\n",
       "    </tr>\n",
       "  </thead>\n",
       "  <tbody>\n",
       "    <tr>\n",
       "      <th>0</th>\n",
       "      <td>qwx125</td>\n",
       "      <td>125</td>\n",
       "    </tr>\n",
       "    <tr>\n",
       "      <th>1</th>\n",
       "      <td>sfh582</td>\n",
       "      <td>582</td>\n",
       "    </tr>\n",
       "    <tr>\n",
       "      <th>2</th>\n",
       "      <td>cfr584</td>\n",
       "      <td>584</td>\n",
       "    </tr>\n",
       "    <tr>\n",
       "      <th>3</th>\n",
       "      <td>dfr154</td>\n",
       "      <td>154</td>\n",
       "    </tr>\n",
       "    <tr>\n",
       "      <th>4</th>\n",
       "      <td>zdr547</td>\n",
       "      <td>547</td>\n",
       "    </tr>\n",
       "    <tr>\n",
       "      <th>5</th>\n",
       "      <td>sht547</td>\n",
       "      <td>547</td>\n",
       "    </tr>\n",
       "    <tr>\n",
       "      <th>6</th>\n",
       "      <td>xdf428</td>\n",
       "      <td>428</td>\n",
       "    </tr>\n",
       "  </tbody>\n",
       "</table>\n",
       "</div>"
      ],
      "text/plain": [
       "       货号  颜色代码\n",
       "0  qwx125   125\n",
       "1  sfh582   582\n",
       "2  cfr584   584\n",
       "3  dfr154   154\n",
       "4  zdr547   547\n",
       "5  sht547   547\n",
       "6  xdf428   428"
      ]
     },
     "execution_count": 20,
     "metadata": {},
     "output_type": "execute_result"
    }
   ],
   "source": [
    "df = pd.read_excel(\"./data.xlsx\",\n",
    "                  usecols = lambda x :(x == \"货号\")|(x == \"颜色代码\")\n",
    "                  )\n",
    "df"
   ]
  },
  {
   "cell_type": "markdown",
   "id": "1a13643f",
   "metadata": {},
   "source": [
    "## 2.5、跳过行 skiprows"
   ]
  },
  {
   "cell_type": "code",
   "execution_count": 21,
   "id": "d0bb1ad9",
   "metadata": {},
   "outputs": [
    {
     "name": "stdout",
     "output_type": "stream",
     "text": [
      "        0     1     2     3   4    5   6     7\n",
      "0      货号  商品代码  颜色代码  商品名称  品牌   成本  季节  商品年份\n",
      "1  zdr547   zdr   547    余就   b  174   夏  2020\n",
      "2  sht547   sht   547    号内   c  185   春  2018\n"
     ]
    }
   ],
   "source": [
    "import pandas as pd \n",
    "df = pd.read_excel(\"./data.xlsx\",\n",
    "                  sheet_name=\"Sheet3\",\n",
    "                  header=None,\n",
    "                  skiprows = 1   #从第一行开始算\n",
    "                \n",
    "                  )\n",
    "print(df)"
   ]
  },
  {
   "cell_type": "markdown",
   "id": "721ab746",
   "metadata": {},
   "source": [
    "## 2.6、使用列名的列表 names"
   ]
  },
  {
   "cell_type": "code",
   "execution_count": 22,
   "id": "4f81e323",
   "metadata": {},
   "outputs": [
    {
     "data": {
      "text/html": [
       "<div>\n",
       "<style scoped>\n",
       "    .dataframe tbody tr th:only-of-type {\n",
       "        vertical-align: middle;\n",
       "    }\n",
       "\n",
       "    .dataframe tbody tr th {\n",
       "        vertical-align: top;\n",
       "    }\n",
       "\n",
       "    .dataframe thead th {\n",
       "        text-align: right;\n",
       "    }\n",
       "</style>\n",
       "<table border=\"1\" class=\"dataframe\">\n",
       "  <thead>\n",
       "    <tr style=\"text-align: right;\">\n",
       "      <th></th>\n",
       "      <th>货号</th>\n",
       "      <th>商品代码</th>\n",
       "      <th>颜色代码</th>\n",
       "      <th>商品名称</th>\n",
       "      <th>品牌</th>\n",
       "      <th>成本</th>\n",
       "      <th>季节</th>\n",
       "      <th>商品年份</th>\n",
       "    </tr>\n",
       "  </thead>\n",
       "  <tbody>\n",
       "    <tr>\n",
       "      <th>0</th>\n",
       "      <td>dfr154</td>\n",
       "      <td>dfr</td>\n",
       "      <td>154</td>\n",
       "      <td>同意</td>\n",
       "      <td>a</td>\n",
       "      <td>561</td>\n",
       "      <td>东</td>\n",
       "      <td>2019</td>\n",
       "    </tr>\n",
       "    <tr>\n",
       "      <th>1</th>\n",
       "      <td>zdr547</td>\n",
       "      <td>zdr</td>\n",
       "      <td>547</td>\n",
       "      <td>余就</td>\n",
       "      <td>b</td>\n",
       "      <td>174</td>\n",
       "      <td>夏</td>\n",
       "      <td>2020</td>\n",
       "    </tr>\n",
       "    <tr>\n",
       "      <th>2</th>\n",
       "      <td>sht547</td>\n",
       "      <td>sht</td>\n",
       "      <td>547</td>\n",
       "      <td>号内</td>\n",
       "      <td>c</td>\n",
       "      <td>185</td>\n",
       "      <td>春</td>\n",
       "      <td>2018</td>\n",
       "    </tr>\n",
       "    <tr>\n",
       "      <th>3</th>\n",
       "      <td>xdf428</td>\n",
       "      <td>xdf</td>\n",
       "      <td>428</td>\n",
       "      <td>符个</td>\n",
       "      <td>b</td>\n",
       "      <td>541</td>\n",
       "      <td>东</td>\n",
       "      <td>2020</td>\n",
       "    </tr>\n",
       "  </tbody>\n",
       "</table>\n",
       "</div>"
      ],
      "text/plain": [
       "       货号 商品代码  颜色代码 商品名称 品牌   成本 季节  商品年份\n",
       "0  dfr154  dfr   154   同意  a  561  东  2019\n",
       "1  zdr547  zdr   547   余就  b  174  夏  2020\n",
       "2  sht547  sht   547   号内  c  185  春  2018\n",
       "3  xdf428  xdf   428   符个  b  541  东  2020"
      ]
     },
     "execution_count": 22,
     "metadata": {},
     "output_type": "execute_result"
    }
   ],
   "source": [
    "import pandas as pd \n",
    "df = pd.read_excel(\"./data.xlsx\",\n",
    "                  sheet_name=\"Sheet2\",\n",
    "                  header=None,\n",
    "                  names=[\"货号\",\"商品代码\",\"颜色代码\",\"商品名称\",\"品牌\",\"成本\",\"季节\",\"商品年份\"]\n",
    "                  )\n",
    "df"
   ]
  },
  {
   "cell_type": "markdown",
   "id": "85551a5d",
   "metadata": {},
   "source": [
    "## 2.6、查看设置列的类型 dtype"
   ]
  },
  {
   "cell_type": "markdown",
   "id": "7925fbb6",
   "metadata": {},
   "source": [
    "字典，{\"列名\"：类型}"
   ]
  },
  {
   "cell_type": "code",
   "execution_count": 23,
   "id": "6fa605f9",
   "metadata": {},
   "outputs": [
    {
     "data": {
      "text/html": [
       "<div>\n",
       "<style scoped>\n",
       "    .dataframe tbody tr th:only-of-type {\n",
       "        vertical-align: middle;\n",
       "    }\n",
       "\n",
       "    .dataframe tbody tr th {\n",
       "        vertical-align: top;\n",
       "    }\n",
       "\n",
       "    .dataframe thead th {\n",
       "        text-align: right;\n",
       "    }\n",
       "</style>\n",
       "<table border=\"1\" class=\"dataframe\">\n",
       "  <thead>\n",
       "    <tr style=\"text-align: right;\">\n",
       "      <th></th>\n",
       "      <th>货号</th>\n",
       "      <th>商品代码</th>\n",
       "      <th>颜色代码</th>\n",
       "      <th>商品名称</th>\n",
       "      <th>品牌</th>\n",
       "      <th>成本</th>\n",
       "      <th>季节</th>\n",
       "      <th>商品年份</th>\n",
       "      <th>上架费</th>\n",
       "      <th>在售</th>\n",
       "      <th>商家日期</th>\n",
       "    </tr>\n",
       "  </thead>\n",
       "  <tbody>\n",
       "    <tr>\n",
       "      <th>0</th>\n",
       "      <td>qwx125</td>\n",
       "      <td>qwx</td>\n",
       "      <td>125</td>\n",
       "      <td>是法</td>\n",
       "      <td>a</td>\n",
       "      <td>180</td>\n",
       "      <td>春</td>\n",
       "      <td>2020</td>\n",
       "      <td>2.5</td>\n",
       "      <td>True</td>\n",
       "      <td>2018-01-01</td>\n",
       "    </tr>\n",
       "    <tr>\n",
       "      <th>1</th>\n",
       "      <td>sfh582</td>\n",
       "      <td>sfh</td>\n",
       "      <td>582</td>\n",
       "      <td>从给</td>\n",
       "      <td>b</td>\n",
       "      <td>150</td>\n",
       "      <td>夏</td>\n",
       "      <td>2020</td>\n",
       "      <td>3.5</td>\n",
       "      <td>False</td>\n",
       "      <td>2019-02-01</td>\n",
       "    </tr>\n",
       "    <tr>\n",
       "      <th>2</th>\n",
       "      <td>cfr584</td>\n",
       "      <td>cfr</td>\n",
       "      <td>584</td>\n",
       "      <td>人发</td>\n",
       "      <td>c</td>\n",
       "      <td>160</td>\n",
       "      <td>秋</td>\n",
       "      <td>2020</td>\n",
       "      <td>4.5</td>\n",
       "      <td>True</td>\n",
       "      <td>2018-03-01</td>\n",
       "    </tr>\n",
       "    <tr>\n",
       "      <th>3</th>\n",
       "      <td>dfr154</td>\n",
       "      <td>dfr</td>\n",
       "      <td>154</td>\n",
       "      <td>同意</td>\n",
       "      <td>a</td>\n",
       "      <td>561</td>\n",
       "      <td>东</td>\n",
       "      <td>2020</td>\n",
       "      <td>5.5</td>\n",
       "      <td>False</td>\n",
       "      <td>2019-04-01</td>\n",
       "    </tr>\n",
       "    <tr>\n",
       "      <th>4</th>\n",
       "      <td>zdr547</td>\n",
       "      <td>zdr</td>\n",
       "      <td>547</td>\n",
       "      <td>余就</td>\n",
       "      <td>b</td>\n",
       "      <td>174</td>\n",
       "      <td>夏</td>\n",
       "      <td>2020</td>\n",
       "      <td>6.5</td>\n",
       "      <td>True</td>\n",
       "      <td>2020-05-01</td>\n",
       "    </tr>\n",
       "    <tr>\n",
       "      <th>5</th>\n",
       "      <td>sht547</td>\n",
       "      <td>sht</td>\n",
       "      <td>547</td>\n",
       "      <td>号内</td>\n",
       "      <td>c</td>\n",
       "      <td>185</td>\n",
       "      <td>春</td>\n",
       "      <td>2020</td>\n",
       "      <td>7.5</td>\n",
       "      <td>False</td>\n",
       "      <td>2018-06-01</td>\n",
       "    </tr>\n",
       "    <tr>\n",
       "      <th>6</th>\n",
       "      <td>xdf428</td>\n",
       "      <td>xdf</td>\n",
       "      <td>428</td>\n",
       "      <td>符个</td>\n",
       "      <td>b</td>\n",
       "      <td>541</td>\n",
       "      <td>东</td>\n",
       "      <td>2020</td>\n",
       "      <td>8.5</td>\n",
       "      <td>True</td>\n",
       "      <td>2020-07-01</td>\n",
       "    </tr>\n",
       "  </tbody>\n",
       "</table>\n",
       "</div>"
      ],
      "text/plain": [
       "       货号 商品代码  颜色代码 商品名称 品牌   成本 季节  商品年份  上架费     在售       商家日期\n",
       "0  qwx125  qwx   125   是法  a  180  春  2020  2.5   True 2018-01-01\n",
       "1  sfh582  sfh   582   从给  b  150  夏  2020  3.5  False 2019-02-01\n",
       "2  cfr584  cfr   584   人发  c  160  秋  2020  4.5   True 2018-03-01\n",
       "3  dfr154  dfr   154   同意  a  561  东  2020  5.5  False 2019-04-01\n",
       "4  zdr547  zdr   547   余就  b  174  夏  2020  6.5   True 2020-05-01\n",
       "5  sht547  sht   547   号内  c  185  春  2020  7.5  False 2018-06-01\n",
       "6  xdf428  xdf   428   符个  b  541  东  2020  8.5   True 2020-07-01"
      ]
     },
     "execution_count": 23,
     "metadata": {},
     "output_type": "execute_result"
    }
   ],
   "source": [
    "import pandas as pd \n",
    "df = pd.read_excel(\"./data.xlsx\",\n",
    "                  )\n",
    "df"
   ]
  },
  {
   "cell_type": "code",
   "execution_count": 24,
   "id": "23e3514a",
   "metadata": {},
   "outputs": [
    {
     "data": {
      "text/plain": [
       "货号              object\n",
       "商品代码            object\n",
       "颜色代码             int64\n",
       "商品名称            object\n",
       "品牌              object\n",
       "成本               int64\n",
       "季节              object\n",
       "商品年份             int64\n",
       "上架费            float64\n",
       "在售                bool\n",
       "商家日期    datetime64[ns]\n",
       "dtype: object"
      ]
     },
     "execution_count": 24,
     "metadata": {},
     "output_type": "execute_result"
    }
   ],
   "source": [
    "df.dtypes"
   ]
  },
  {
   "cell_type": "code",
   "execution_count": 25,
   "id": "927a054b",
   "metadata": {},
   "outputs": [
    {
     "data": {
      "text/plain": [
       "货号              object\n",
       "商品代码    string[python]\n",
       "颜色代码             int64\n",
       "商品名称            object\n",
       "品牌            category\n",
       "成本               int64\n",
       "季节            category\n",
       "商品年份             int64\n",
       "上架费            float64\n",
       "在售                bool\n",
       "商家日期    datetime64[ns]\n",
       "dtype: object"
      ]
     },
     "execution_count": 25,
     "metadata": {},
     "output_type": "execute_result"
    }
   ],
   "source": [
    "df = pd.read_excel(\"./data.xlsx\",\n",
    "                  dtype={\n",
    "                      \"货号\":\"str\",\n",
    "                      \"商品代码\":\"string\",\n",
    "                      \"季节\":\"category\",\n",
    "                      \"品牌\":\"category\",\n",
    "                      #\"商品年份\":\"period[Y]\"\n",
    "                  }\n",
    "                )\n",
    "\n",
    "df.dtypes"
   ]
  },
  {
   "cell_type": "code",
   "execution_count": 26,
   "id": "084ef0d3",
   "metadata": {},
   "outputs": [
    {
     "data": {
      "text/plain": [
       "string[python]"
      ]
     },
     "execution_count": 26,
     "metadata": {},
     "output_type": "execute_result"
    }
   ],
   "source": [
    "# 修改数据类型\n",
    "df[\"商家日期\"] = df[\"商家日期\"].astype(\"string\")\n",
    "df[\"商家日期\"].dtype"
   ]
  },
  {
   "cell_type": "markdown",
   "id": "a73815f0",
   "metadata": {},
   "source": [
    " parse_dates"
   ]
  },
  {
   "cell_type": "markdown",
   "id": "56905df3",
   "metadata": {},
   "source": [
    "date_dates"
   ]
  },
  {
   "cell_type": "code",
   "execution_count": 27,
   "id": "0133e1c3",
   "metadata": {},
   "outputs": [
    {
     "name": "stdout",
     "output_type": "stream",
     "text": [
      "日期1    object\n",
      "日期2     int64\n",
      "dtype: object\n",
      "日期1    datetime64[ns]\n",
      "日期2    datetime64[ns]\n",
      "dtype: object\n"
     ]
    }
   ],
   "source": [
    "import pandas as pd \n",
    "df = pd.read_excel(\"./data.xlsx\",\n",
    "                   sheet_name=\"Sheet5\",\n",
    "                  )\n",
    "print(df.dtypes)\n",
    "df = pd.read_excel(\"./data.xlsx\",\n",
    "                   sheet_name=\"Sheet5\",\n",
    "                   parse_dates=[0,1]\n",
    "                  )\n",
    "df.dtypes\n",
    "print(df.dtypes)\n"
   ]
  },
  {
   "cell_type": "markdown",
   "id": "9b9c1189",
   "metadata": {},
   "source": [
    "## 2.7、解析日期 parse_dates / date_parser"
   ]
  },
  {
   "cell_type": "code",
   "execution_count": 3,
   "id": "eca16d9a",
   "metadata": {},
   "outputs": [
    {
     "name": "stdout",
     "output_type": "stream",
     "text": [
      "      年  月  日   笑脸\n",
      "0  2021  1  3  111\n",
      "1  2022  2  4  222\n",
      "       年_月_日   笑脸\n",
      "0 2021-01-03  111\n",
      "1 2022-02-04  222\n",
      "年_月_日    datetime64[ns]\n",
      "笑脸                int64\n",
      "dtype: object\n"
     ]
    }
   ],
   "source": [
    "import pandas as pd \n",
    "df = pd.read_excel(\"./data.xlsx\",\n",
    "                   sheet_name=\"Sheet6\",\n",
    "                  )\n",
    "print(df)\n",
    "df = pd.read_excel(\"./data.xlsx\",\n",
    "                   sheet_name=\"Sheet6\",\n",
    "                   parse_dates=[[0,1,2]]\n",
    "                  )\n",
    "print(df)\n",
    "print(df.dtypes)"
   ]
  },
  {
   "cell_type": "code",
   "execution_count": 4,
   "id": "a2aa9d18",
   "metadata": {},
   "outputs": [
    {
     "data": {
      "text/html": [
       "<div>\n",
       "<style scoped>\n",
       "    .dataframe tbody tr th:only-of-type {\n",
       "        vertical-align: middle;\n",
       "    }\n",
       "\n",
       "    .dataframe tbody tr th {\n",
       "        vertical-align: top;\n",
       "    }\n",
       "\n",
       "    .dataframe thead th {\n",
       "        text-align: right;\n",
       "    }\n",
       "</style>\n",
       "<table border=\"1\" class=\"dataframe\">\n",
       "  <thead>\n",
       "    <tr style=\"text-align: right;\">\n",
       "      <th></th>\n",
       "      <th>年</th>\n",
       "      <th>月</th>\n",
       "      <th>日</th>\n",
       "      <th>笑脸</th>\n",
       "    </tr>\n",
       "  </thead>\n",
       "  <tbody>\n",
       "    <tr>\n",
       "      <th>0</th>\n",
       "      <td>2021</td>\n",
       "      <td>1</td>\n",
       "      <td>3</td>\n",
       "      <td>111</td>\n",
       "    </tr>\n",
       "    <tr>\n",
       "      <th>1</th>\n",
       "      <td>2022</td>\n",
       "      <td>2</td>\n",
       "      <td>4</td>\n",
       "      <td>222</td>\n",
       "    </tr>\n",
       "  </tbody>\n",
       "</table>\n",
       "</div>"
      ],
      "text/plain": [
       "      年  月  日   笑脸\n",
       "0  2021  1  3  111\n",
       "1  2022  2  4  222"
      ]
     },
     "execution_count": 4,
     "metadata": {},
     "output_type": "execute_result"
    }
   ],
   "source": [
    "df = pd.read_excel(\"./data.xlsx\",\n",
    "                   sheet_name=\"Sheet6\",\n",
    "\n",
    "                  )\n",
    "df"
   ]
  },
  {
   "cell_type": "code",
   "execution_count": 5,
   "id": "c8cdacee",
   "metadata": {},
   "outputs": [
    {
     "data": {
      "text/html": [
       "<div>\n",
       "<style scoped>\n",
       "    .dataframe tbody tr th:only-of-type {\n",
       "        vertical-align: middle;\n",
       "    }\n",
       "\n",
       "    .dataframe tbody tr th {\n",
       "        vertical-align: top;\n",
       "    }\n",
       "\n",
       "    .dataframe thead th {\n",
       "        text-align: right;\n",
       "    }\n",
       "</style>\n",
       "<table border=\"1\" class=\"dataframe\">\n",
       "  <thead>\n",
       "    <tr style=\"text-align: right;\">\n",
       "      <th></th>\n",
       "      <th>日期</th>\n",
       "      <th>笑脸</th>\n",
       "    </tr>\n",
       "  </thead>\n",
       "  <tbody>\n",
       "    <tr>\n",
       "      <th>0</th>\n",
       "      <td>2021-01-03</td>\n",
       "      <td>111</td>\n",
       "    </tr>\n",
       "    <tr>\n",
       "      <th>1</th>\n",
       "      <td>2022-02-04</td>\n",
       "      <td>222</td>\n",
       "    </tr>\n",
       "  </tbody>\n",
       "</table>\n",
       "</div>"
      ],
      "text/plain": [
       "          日期   笑脸\n",
       "0 2021-01-03  111\n",
       "1 2022-02-04  222"
      ]
     },
     "execution_count": 5,
     "metadata": {},
     "output_type": "execute_result"
    }
   ],
   "source": [
    "df = pd.read_excel(\"./data.xlsx\",\n",
    "                   sheet_name=\"Sheet6\",\n",
    "\n",
    "                   parse_dates={\"日期\":[\"年\",\"月\",\"日\"]}\n",
    "                  )\n",
    "df"
   ]
  },
  {
   "cell_type": "code",
   "execution_count": 6,
   "id": "4f2de2ff",
   "metadata": {},
   "outputs": [
    {
     "data": {
      "text/html": [
       "<div>\n",
       "<style scoped>\n",
       "    .dataframe tbody tr th:only-of-type {\n",
       "        vertical-align: middle;\n",
       "    }\n",
       "\n",
       "    .dataframe tbody tr th {\n",
       "        vertical-align: top;\n",
       "    }\n",
       "\n",
       "    .dataframe thead th {\n",
       "        text-align: right;\n",
       "    }\n",
       "</style>\n",
       "<table border=\"1\" class=\"dataframe\">\n",
       "  <thead>\n",
       "    <tr style=\"text-align: right;\">\n",
       "      <th></th>\n",
       "      <th>年</th>\n",
       "      <th>月</th>\n",
       "      <th>日</th>\n",
       "      <th>笑脸</th>\n",
       "    </tr>\n",
       "  </thead>\n",
       "  <tbody>\n",
       "    <tr>\n",
       "      <th>0</th>\n",
       "      <td>2021</td>\n",
       "      <td>1</td>\n",
       "      <td>3</td>\n",
       "      <td>111</td>\n",
       "    </tr>\n",
       "    <tr>\n",
       "      <th>1</th>\n",
       "      <td>2022</td>\n",
       "      <td>2</td>\n",
       "      <td>4</td>\n",
       "      <td>222</td>\n",
       "    </tr>\n",
       "  </tbody>\n",
       "</table>\n",
       "</div>"
      ],
      "text/plain": [
       "      年  月  日   笑脸\n",
       "0  2021  1  3  111\n",
       "1  2022  2  4  222"
      ]
     },
     "execution_count": 6,
     "metadata": {},
     "output_type": "execute_result"
    }
   ],
   "source": [
    "df = pd.read_excel(\"./data.xlsx\",\n",
    "                   sheet_name=\"Sheet6\",\n",
    "\n",
    "                  )\n",
    "df"
   ]
  },
  {
   "cell_type": "code",
   "execution_count": 7,
   "id": "9bdaff5f",
   "metadata": {},
   "outputs": [
    {
     "data": {
      "text/plain": [
       "日期    object\n",
       "dtype: object"
      ]
     },
     "execution_count": 7,
     "metadata": {},
     "output_type": "execute_result"
    }
   ],
   "source": [
    "df = pd.read_excel(\"./data.xlsx\",\n",
    "                   sheet_name=\"Sheet7\",\n",
    "\n",
    "                  )\n",
    "df\n",
    "df.dtypes"
   ]
  },
  {
   "cell_type": "code",
   "execution_count": 9,
   "id": "63daf6fd",
   "metadata": {},
   "outputs": [
    {
     "name": "stderr",
     "output_type": "stream",
     "text": [
      "C:\\Users\\Ding\\AppData\\Local\\Temp\\ipykernel_1196\\1951835167.py:1: FutureWarning: The argument 'date_parser' is deprecated and will be removed in a future version. Please use 'date_format' instead, or read your data in as 'object' dtype and then call 'to_datetime'.\n",
      "  df = pd.read_excel(\"./data.xlsx\",\n"
     ]
    },
    {
     "data": {
      "text/plain": [
       "日期    datetime64[ns]\n",
       "dtype: object"
      ]
     },
     "execution_count": 9,
     "metadata": {},
     "output_type": "execute_result"
    }
   ],
   "source": [
    "df = pd.read_excel(\"./data.xlsx\",\n",
    "                   sheet_name=\"Sheet7\",\n",
    "\n",
    "                   parse_dates=[0],\n",
    "                   date_parser=lambda x :pd.to_datetime(\n",
    "                   x,format = \"%Y年%m月%d日\"\n",
    "                   )\n",
    "                  )\n",
    "df.dtypes\n",
    "# date_parser 新版本弃用，改用 date_format\n",
    "\n",
    "\n",
    "# date_format: str or dict of column -> format, default None\n",
    "# If used in conjunction with parse_dates, will parse dates according to this format. For anything more complex, please read in as object and then apply to_datetime() as-needed.\n"
   ]
  },
  {
   "cell_type": "code",
   "execution_count": 64,
   "id": "c1524a59",
   "metadata": {},
   "outputs": [
    {
     "data": {
      "text/plain": [
       "日期    datetime64[ns]\n",
       "dtype: object"
      ]
     },
     "execution_count": 64,
     "metadata": {},
     "output_type": "execute_result"
    }
   ],
   "source": [
    "df = pd.read_excel(\"./data.xlsx\",\n",
    "                   sheet_name=\"Sheet7\",\n",
    "                   parse_dates=[0],\n",
    "                   date_format=\"%Y年%m月%d日\"\n",
    "                   )\n",
    "df.dtypes"
   ]
  },
  {
   "cell_type": "markdown",
   "id": "f330da23",
   "metadata": {},
   "source": [
    "### 2.7.1、将长日期转化为短日期"
   ]
  },
  {
   "cell_type": "code",
   "execution_count": 1,
   "id": "132b1b9f",
   "metadata": {},
   "outputs": [
    {
     "name": "stdout",
     "output_type": "stream",
     "text": [
      "                 time1\n",
      "0  2022-02-05 01:02:09\n",
      "1  2022-03-08 01:02:09\n",
      "        time1\n",
      "0  2022-02-05\n",
      "1  2022-03-08\n"
     ]
    }
   ],
   "source": [
    "import pandas as pd \n",
    "# 创建一个dataframe\n",
    "data = {'time1': ['2022-02-05 01:02:09', '2022-03-08 01:02:09']}\n",
    "df = pd.DataFrame(data)\n",
    "print(df)\n",
    "# 将time1列转换为日期格式\n",
    "df['time1'] = pd.to_datetime(df['time1'])\n",
    "# 将日期时间格式转换为只包含年月日的格式\n",
    "df['time1'] = df['time1'].dt.date\n",
    "print(df)"
   ]
  },
  {
   "cell_type": "code",
   "execution_count": 2,
   "id": "a65d799e",
   "metadata": {},
   "outputs": [
    {
     "name": "stdout",
     "output_type": "stream",
     "text": [
      "                time1\n",
      "0 2018-01-02 13:08:12\n",
      "1 2020-12-12 03:18:02\n",
      "        time1\n",
      "0  2018-01-02\n",
      "1  2020-12-12\n"
     ]
    }
   ],
   "source": [
    "import pandas as pd \n",
    "from datetime import datetime\n",
    "\n",
    "df = pd.DataFrame({\"time1\":[datetime(2018,1,2,13,8,12),datetime(2020,12,12,3,18,2)]})\n",
    "print(df)\n",
    "\n",
    "df['time1'] = df['time1'].dt.date\n",
    "print(df)"
   ]
  },
  {
   "cell_type": "code",
   "execution_count": null,
   "id": "696d10a8",
   "metadata": {},
   "outputs": [],
   "source": [
    "import pandas as pd\n",
    "# 输出excel为短日期\n",
    "\n",
    "# 创建一个包含日期的DataFrame\n",
    "df = pd.DataFrame({\n",
    "    'date': pd.to_datetime([\n",
    "        '2023-01-01',\n",
    "        '2023-01-02',\n",
    "        '2023-01-03'\n",
    "    ])\n",
    "})\n",
    "# 设置日期格式\n",
    "df['date'] = df['date'].dt.strftime(\"%Y/%m/%d\")  # 根据需要设置你想要的日期格式\n",
    "print(df.dtypes) \n",
    "# 导出到Excel\n",
    "df.to_excel('output.xlsx', index=False)"
   ]
  },
  {
   "cell_type": "code",
   "execution_count": 9,
   "id": "39c7a7b7",
   "metadata": {},
   "outputs": [
    {
     "name": "stderr",
     "output_type": "stream",
     "text": [
      "C:\\Users\\Ding\\AppData\\Local\\Temp\\ipykernel_29668\\1518707819.py:13: SettingWithCopyWarning: \n",
      "A value is trying to be set on a copy of a slice from a DataFrame.\n",
      "Try using .loc[row_indexer,col_indexer] = value instead\n",
      "\n",
      "See the caveats in the documentation: https://pandas.pydata.org/pandas-docs/stable/user_guide/indexing.html#returning-a-view-versus-a-copy\n",
      "  result_df[\"合同日期\"] = result_df[\"合同日期\"].dt.strftime('%Y/%m/%d')\n",
      "C:\\Users\\Ding\\AppData\\Local\\Temp\\ipykernel_29668\\1518707819.py:14: SettingWithCopyWarning: \n",
      "A value is trying to be set on a copy of a slice from a DataFrame.\n",
      "Try using .loc[row_indexer,col_indexer] = value instead\n",
      "\n",
      "See the caveats in the documentation: https://pandas.pydata.org/pandas-docs/stable/user_guide/indexing.html#returning-a-view-versus-a-copy\n",
      "  result_df[\"截至日期\"] = result_df[\"截至日期\"].dt.strftime('%Y/%m/%d')\n"
     ]
    }
   ],
   "source": [
    "import pandas as pd \n",
    "from datetime import datetime\n",
    "df = pd.read_excel(\"./data.xlsx\",\n",
    "                  sheet_name=\"Sheet14\"\n",
    "                  )\n",
    "# 将合同日期列转化为 datetime 对象，如果转化失败，errors=\"coerce\",则会将无法转化的值设置为NaT（not a time）\n",
    "df[\"合同日期\"] = pd.to_datetime(df[\"合同日期\"],errors=\"coerce\")\n",
    "# dropna方法删除含有NaT的行\n",
    "df = df.dropna(subset = [\"合同日期\"])\n",
    "# 获取今天的日期\n",
    "today = datetime.now().date()\n",
    "# 条件判断\n",
    "result_df = df[(df[\"合同日期\"].dt.date == today) & (df[\"载体\"] > 5)]\n",
    "# 输出excel转化为短日期文本\n",
    "result_df[\"合同日期\"] = result_df[\"合同日期\"].dt.strftime('%Y/%m/%d')\n",
    "result_df[\"截至日期\"] = result_df[\"截至日期\"].dt.strftime('%Y/%m/%d')\n",
    "result_df.to_excel(\"./datetime.xlsx\",index = False)\n"
   ]
  },
  {
   "cell_type": "markdown",
   "id": "e2de63fe",
   "metadata": {},
   "source": [
    "### 2.7.1、获取当前日期 时间"
   ]
  },
  {
   "cell_type": "code",
   "execution_count": 9,
   "id": "3fd85003",
   "metadata": {},
   "outputs": [
    {
     "name": "stdout",
     "output_type": "stream",
     "text": [
      "今天的日期是： 2024-02-22\n",
      "\n",
      "现在的时间是： 2024-02-22 21:09:15.159510\n"
     ]
    }
   ],
   "source": [
    "from datetime import date\n",
    "from datetime import datetime\n",
    "today = date.today()\n",
    "print(\"今天的日期是：\", today)\n",
    "print()\n",
    "now = datetime.now()\n",
    "print(\"现在的时间是：\", now)"
   ]
  },
  {
   "cell_type": "markdown",
   "id": "e4e39604",
   "metadata": {},
   "source": [
    "## 2.8、缺失值 NaN (Not a Number)"
   ]
  },
  {
   "cell_type": "markdown",
   "id": "7f6524a6",
   "metadata": {},
   "source": [
    "na_values:scalar, str, list-like, or dict, default None"
   ]
  },
  {
   "cell_type": "markdown",
   "id": "a599ba04",
   "metadata": {},
   "source": [
    "NaN 的dtype是<float>类型"
   ]
  },
  {
   "cell_type": "code",
   "execution_count": 10,
   "id": "091ab869",
   "metadata": {},
   "outputs": [
    {
     "name": "stdout",
     "output_type": "stream",
     "text": [
      "    列1   列2\n",
      "0    a    0\n",
      "1  NaN  NaN\n",
      "2  NaN     \n",
      "3    B    1\n"
     ]
    }
   ],
   "source": [
    "import pandas as pd \n",
    "df = pd.read_excel(\"./data.xlsx\",\n",
    "                   sheet_name=\"Sheet8\",\n",
    "                  )\n",
    "print(df)"
   ]
  },
  {
   "cell_type": "code",
   "execution_count": 11,
   "id": "7a63c10a",
   "metadata": {},
   "outputs": [
    {
     "name": "stdout",
     "output_type": "stream",
     "text": [
      "    列1   列2\n",
      "0  NaN    0\n",
      "1  NaN  NaN\n",
      "2  NaN     \n",
      "3    B    1\n"
     ]
    }
   ],
   "source": [
    "df = pd.read_excel(\"./data.xlsx\",\n",
    "                   sheet_name=\"Sheet8\",\n",
    "                  na_values=\"a\"\n",
    "                  )\n",
    "print(df)"
   ]
  },
  {
   "cell_type": "code",
   "execution_count": 12,
   "id": "158ea795",
   "metadata": {},
   "outputs": [
    {
     "name": "stdout",
     "output_type": "stream",
     "text": [
      "   列1   列2\n",
      "0 NaN    0\n",
      "1 NaN  NaN\n",
      "2 NaN     \n",
      "3 NaN    1\n"
     ]
    }
   ],
   "source": [
    "df = pd.read_excel(\"./data.xlsx\",\n",
    "                   sheet_name=\"Sheet8\",\n",
    "                  na_values=[\"a\",\"B\"]\n",
    "                  )\n",
    "print(df)"
   ]
  },
  {
   "cell_type": "code",
   "execution_count": 13,
   "id": "63a26c93",
   "metadata": {},
   "outputs": [
    {
     "name": "stdout",
     "output_type": "stream",
     "text": [
      "    列1   列2\n",
      "0  NaN    0\n",
      "1  NaN  NaN\n",
      "2  NaN     \n",
      "3    B    1\n"
     ]
    }
   ],
   "source": [
    "import pandas as pd \n",
    "df = pd.read_excel(\"./data.xlsx\",\n",
    "                   sheet_name=\"Sheet8\",\n",
    "                   # 指定替换列\n",
    "                  na_values={\"列1\":[\"a\",0,\" \"]}\n",
    "                  )\n",
    "print(df)"
   ]
  },
  {
   "cell_type": "markdown",
   "id": "6572ae55",
   "metadata": {},
   "source": [
    "## 2.9、值转换器 converters"
   ]
  },
  {
   "cell_type": "markdown",
   "id": "502a50e6",
   "metadata": {},
   "source": [
    "converters：dict,默认None"
   ]
  },
  {
   "cell_type": "code",
   "execution_count": 76,
   "id": "e5031fb8",
   "metadata": {},
   "outputs": [
    {
     "data": {
      "text/html": [
       "<div>\n",
       "<style scoped>\n",
       "    .dataframe tbody tr th:only-of-type {\n",
       "        vertical-align: middle;\n",
       "    }\n",
       "\n",
       "    .dataframe tbody tr th {\n",
       "        vertical-align: top;\n",
       "    }\n",
       "\n",
       "    .dataframe thead th {\n",
       "        text-align: right;\n",
       "    }\n",
       "</style>\n",
       "<table border=\"1\" class=\"dataframe\">\n",
       "  <thead>\n",
       "    <tr style=\"text-align: right;\">\n",
       "      <th></th>\n",
       "      <th>huohao</th>\n",
       "      <th>xiaoliang</th>\n",
       "    </tr>\n",
       "  </thead>\n",
       "  <tbody>\n",
       "    <tr>\n",
       "      <th>0</th>\n",
       "      <td>na a</td>\n",
       "      <td>5</td>\n",
       "    </tr>\n",
       "    <tr>\n",
       "      <th>1</th>\n",
       "      <td>n bb</td>\n",
       "      <td>12</td>\n",
       "    </tr>\n",
       "  </tbody>\n",
       "</table>\n",
       "</div>"
      ],
      "text/plain": [
       "   huohao  xiaoliang\n",
       "0   na a           5\n",
       "1   n bb          12"
      ]
     },
     "execution_count": 76,
     "metadata": {},
     "output_type": "execute_result"
    }
   ],
   "source": [
    "import pandas as pd \n",
    "df = pd.read_excel(\"./data.xlsx\",\n",
    "                   sheet_name=\"Sheet9\"\n",
    "                  )                   \n",
    "df"
   ]
  },
  {
   "cell_type": "code",
   "execution_count": 80,
   "id": "3b132d3a",
   "metadata": {},
   "outputs": [
    {
     "name": "stdout",
     "output_type": "stream",
     "text": [
      "  huohao  xiaoliang\n",
      "0   na a          5\n",
      "1   n bb         12\n"
     ]
    }
   ],
   "source": [
    "df = pd.read_excel(\"./data.xlsx\",\n",
    "                   sheet_name=\"Sheet9\",\n",
    "                  converters={\n",
    "                      \"huohao\":lambda x :x.strip()\n",
    "                  }\n",
    "                  )                   \n",
    "print(df)"
   ]
  },
  {
   "cell_type": "code",
   "execution_count": 78,
   "id": "d16876ed",
   "metadata": {},
   "outputs": [
    {
     "name": "stdout",
     "output_type": "stream",
     "text": [
      "  huohao  xiaoliang\n",
      "0   na a          5\n",
      "1   n bb         12\n"
     ]
    }
   ],
   "source": [
    "df = pd.read_excel(\"./data.xlsx\",\n",
    "                   sheet_name=\"Sheet9\",\n",
    "                  converters={\n",
    "                      \"huohao\":str.strip\n",
    "                  }\n",
    "                  )                   \n",
    "print(df)"
   ]
  },
  {
   "cell_type": "markdown",
   "id": "813160f5",
   "metadata": {},
   "source": [
    "## 2.10、视为True / False的的值 true_values / false_values"
   ]
  },
  {
   "cell_type": "markdown",
   "id": "d0965a01",
   "metadata": {},
   "source": [
    "true_values:list,默认None"
   ]
  },
  {
   "cell_type": "markdown",
   "id": "655ea599",
   "metadata": {},
   "source": [
    "false_values:list,默认None"
   ]
  },
  {
   "cell_type": "markdown",
   "id": "beafb0b7",
   "metadata": {},
   "source": [
    "只对字符串起作用"
   ]
  },
  {
   "cell_type": "code",
   "execution_count": 21,
   "id": "65ef891b",
   "metadata": {},
   "outputs": [
    {
     "name": "stdout",
     "output_type": "stream",
     "text": [
      "  lie1 lie2\n",
      "0    a    b\n",
      "1    c    d\n",
      "2    e    f\n"
     ]
    }
   ],
   "source": [
    "import pandas as pd \n",
    "df = pd.read_excel(\"./data.xlsx\",\n",
    "                   sheet_name=\"Sheet10\",\n",
    "                  )                   \n",
    "print(df)"
   ]
  },
  {
   "cell_type": "code",
   "execution_count": 28,
   "id": "cfc9aff2",
   "metadata": {},
   "outputs": [
    {
     "name": "stdout",
     "output_type": "stream",
     "text": [
      "    lie1 lie2   lie3\n",
      "0   True    b  False\n",
      "1  False    d   True\n",
      "2  False    f   True\n"
     ]
    },
    {
     "data": {
      "text/plain": [
       "lie1      bool\n",
       "lie2    object\n",
       "lie3      bool\n",
       "dtype: object"
      ]
     },
     "execution_count": 28,
     "metadata": {},
     "output_type": "execute_result"
    }
   ],
   "source": [
    "df = pd.read_excel(\"./data.xlsx\",\n",
    "                   sheet_name=\"Sheet10\",\n",
    "                  true_values=[\"a\",\"b\"],\n",
    "                  false_values=[\"e\",\"c\"],\n",
    "                   dtype = {\"lie3\":bool}\n",
    "                  )                   \n",
    "print(df)\n",
    "df.dtypes"
   ]
  },
  {
   "cell_type": "markdown",
   "id": "ee87bf7c",
   "metadata": {},
   "source": [
    "## 2.11、是否重命名重复列  mangle_dupe_cols"
   ]
  },
  {
   "cell_type": "markdown",
   "id": "07109963",
   "metadata": {},
   "source": [
    "mangle_dupe_cols :bool,默认True"
   ]
  },
  {
   "cell_type": "markdown",
   "id": "dc217327",
   "metadata": {},
   "source": [
    "## 2.12、要解析的行数 norws"
   ]
  },
  {
   "cell_type": "markdown",
   "id": "8126202c",
   "metadata": {},
   "source": [
    "norws：int,默认None"
   ]
  },
  {
   "cell_type": "markdown",
   "id": "b39b2708",
   "metadata": {},
   "source": [
    "表头不算"
   ]
  },
  {
   "cell_type": "code",
   "execution_count": 31,
   "id": "7c6a4277",
   "metadata": {},
   "outputs": [
    {
     "name": "stdout",
     "output_type": "stream",
     "text": [
      "   a列\n",
      "0   1\n",
      "1   2\n",
      "2   3\n",
      "3   4\n",
      "   a列\n",
      "0   1\n",
      "1   2\n",
      "2   3\n"
     ]
    }
   ],
   "source": [
    "import pandas as pd \n",
    "df = pd.read_excel(\"./data.xlsx\",\n",
    "                   sheet_name=\"Sheet11\",\n",
    "                  )                   \n",
    "print(df)\n",
    "df = pd.read_excel(\"./data.xlsx\",\n",
    "                   sheet_name=\"Sheet11\",\n",
    "                   nrows=3\n",
    "                  )                   \n",
    "print(df)"
   ]
  },
  {
   "cell_type": "markdown",
   "id": "d304be6a",
   "metadata": {},
   "source": [
    "## 2.13、将千分位字符串解析为数字 thousands"
   ]
  },
  {
   "cell_type": "markdown",
   "id": "1835b63c",
   "metadata": {},
   "source": [
    "thousands:str,默认None"
   ]
  },
  {
   "cell_type": "markdown",
   "id": "cc52fca8",
   "metadata": {},
   "source": [
    "## 2.14、尽量将float转化为int convert_float"
   ]
  },
  {
   "cell_type": "markdown",
   "id": "8700d55a",
   "metadata": {},
   "source": [
    "convert_float：bool,默认True"
   ]
  },
  {
   "cell_type": "markdown",
   "id": "7826606e",
   "metadata": {},
   "source": [
    "# 3、Excel相关 to_excel() 参数用法"
   ]
  },
  {
   "cell_type": "markdown",
   "id": "9a158d81",
   "metadata": {},
   "source": [
    "DataFrame.to_excel(***excel_writer***, *, sheet_name='Sheet1', na_rep='', float_format=None, columns=None, header=True, ***index=True***, index_label=None, startrow=0, startcol=0, engine=None, merge_cells=True, inf_rep='inf', freeze_panes=None, storage_options=None, engine_kwargs=None)"
   ]
  },
  {
   "cell_type": "markdown",
   "id": "c3963d56",
   "metadata": {},
   "source": [
    "参考官方文档：https://pandas.pydata.org/docs/reference/api/pandas.DataFrame.to_excel.html"
   ]
  },
  {
   "cell_type": "markdown",
   "id": "03cbbadf",
   "metadata": {},
   "source": [
    "## 3.1、文件路径 excel_writer"
   ]
  },
  {
   "cell_type": "markdown",
   "id": "7e79a61a",
   "metadata": {},
   "source": [
    "excel_writer:path-like, file-like, or ExcelWriter object"
   ]
  },
  {
   "cell_type": "code",
   "execution_count": 2,
   "id": "f6a68cbb",
   "metadata": {},
   "outputs": [
    {
     "name": "stdout",
     "output_type": "stream",
     "text": [
      "        riqi  xiaoliang\n",
      "0 2020-11-01        995\n",
      "1 2023-11-05        556\n",
      "        riqi  xiaoliang\n",
      "0 2020-12-02        945\n",
      "1 2023-12-06        956\n"
     ]
    }
   ],
   "source": [
    "import pandas as pd \n",
    "from datetime import datetime \n",
    "df1 = pd.DataFrame({\n",
    "    \"日期\":[datetime(2020,11,1),datetime(2023,11,5)],\n",
    "    \"销量\":[995,556]\n",
    "})\n",
    "df2 = pd.DataFrame({\n",
    "    \"日期\":[datetime(2020,12,2),datetime(2023,12,6)],\n",
    "    \"销量\":[145,256]\n",
    "})\n",
    "print(df1)\n",
    "print(df2)\n",
    "with pd.ExcelWriter(\"./data_fu_ben.xlsx\",datetime_format=\"YYYY-MM-DD\") as writer:\n",
    "    df1.to_excel(writer,sheet_name=\"11\")\n",
    "    df2.to_excel(writer,sheet_name=\"22\")"
   ]
  },
  {
   "cell_type": "markdown",
   "id": "6d6dd389",
   "metadata": {},
   "source": [
    "## 3.2、输出工作表名 sheet_name"
   ]
  },
  {
   "cell_type": "markdown",
   "id": "b9273286",
   "metadata": {},
   "source": [
    "sheet_name：str, default \"Sheet1\""
   ]
  },
  {
   "cell_type": "markdown",
   "id": "00edfd64",
   "metadata": {},
   "source": [
    "## 3.3、是否输出索引列 index=True,"
   ]
  },
  {
   "cell_type": "markdown",
   "id": "ffe077e1",
   "metadata": {},
   "source": [
    "index：bool, default True"
   ]
  },
  {
   "cell_type": "markdown",
   "id": "903ec08d",
   "metadata": {},
   "source": [
    "## 3.4、浮点数格式输出 float_format=None,"
   ]
  },
  {
   "cell_type": "markdown",
   "id": "46fcbb40",
   "metadata": {},
   "source": [
    "float_format：str, optional"
   ]
  },
  {
   "cell_type": "markdown",
   "id": "23ee96a2",
   "metadata": {},
   "source": [
    "## 3.5、缺失值表达形式 na_rep=''\""
   ]
  },
  {
   "cell_type": "markdown",
   "id": "a629d8fe",
   "metadata": {},
   "source": [
    "na_rep：str, default \"\""
   ]
  },
  {
   "cell_type": "markdown",
   "id": "073a71a2",
   "metadata": {},
   "source": [
    "综合"
   ]
  },
  {
   "cell_type": "code",
   "execution_count": 38,
   "id": "fd526df6",
   "metadata": {},
   "outputs": [
    {
     "name": "stdout",
     "output_type": "stream",
     "text": [
      "   xiao_liang  sou_jia\n",
      "0          10   18.564\n",
      "1          25   14.257\n"
     ]
    }
   ],
   "source": [
    "import pandas as pd \n",
    "data = {\"xiao_liang\":[10,25],\n",
    "        \"sou_jia\":[18.564,14.257]\n",
    "}\n",
    "df=pd.DataFrame(data)\n",
    "print(df)\n",
    "#保留2位小数\n",
    "df.to_excel(\"./data_fu_ben.xlsx\",\n",
    "           sheet_name=\"first_sheet\",\n",
    "            index=False,\n",
    "            # 保留2位小数\n",
    "            float_format=\"%.2f\",\n",
    "            na_rep=\"空\"\n",
    "           )"
   ]
  },
  {
   "cell_type": "markdown",
   "id": "f14c1d2f",
   "metadata": {},
   "source": [
    "# 4、写读 csv文件"
   ]
  },
  {
   "cell_type": "markdown",
   "id": "73cbd747",
   "metadata": {},
   "source": [
    "## 4.1、写csv文件 to_csv"
   ]
  },
  {
   "cell_type": "markdown",
   "id": "9c830ca8",
   "metadata": {},
   "source": [
    "DataFrame.to_csv(***path_or_buf=None***, *, sep=',', na_rep='', float_format=None, columns=None, header=True, ***index=True***, index_label=None, mode='w', ***encoding=None***, compression='infer', quoting=None, quotechar='\"', lineterminator=None, chunksize=None, date_format=None, doublequote=True, escapechar=None, decimal='.', errors='strict', storage_options=None)"
   ]
  },
  {
   "cell_type": "markdown",
   "id": "f2069fa3",
   "metadata": {},
   "source": [
    "参考官方文档：https://pandas.pydata.org/docs/reference/api/pandas.DataFrame.to_csv.html"
   ]
  },
  {
   "cell_type": "code",
   "execution_count": 46,
   "id": "948c0eed",
   "metadata": {},
   "outputs": [],
   "source": [
    "import pandas as pd \n",
    "df = pd.DataFrame(\n",
    "{\n",
    "    \"一\":[1,2],\n",
    "    \"二\":[3,4]\n",
    "}\n",
    ")\n",
    "# 一般情况写下3个参数：\n",
    "df.to_csv(\"./data.csv\",index=False,encoding=\"utf-8\")"
   ]
  },
  {
   "cell_type": "markdown",
   "id": "6feccd24",
   "metadata": {},
   "source": [
    "## 4.2、读csv文件 read_csv"
   ]
  },
  {
   "cell_type": "markdown",
   "id": "9fdfdeaa",
   "metadata": {},
   "source": [
    "pandas.read_csv(***filepath_or_buffer***, *, sep=_NoDefault.no_default, delimiter=None, header='infer', names=_NoDefault.no_default, index_col=None, usecols=None, dtype=None, engine=None, converters=None, true_values=None, false_values=None, skipinitialspace=False, skiprows=None, skipfooter=0, nrows=None, na_values=None, keep_default_na=True, na_filter=True, verbose=_NoDefault.no_default, skip_blank_lines=True, parse_dates=None, infer_datetime_format=_NoDefault.no_default, keep_date_col=_NoDefault.no_default, date_parser=_NoDefault.no_default, date_format=None, dayfirst=False, cache_dates=True, iterator=False, chunksize=None, compression='infer', thousands=None, decimal='.', lineterminator=None, quotechar='\"', quoting=0, doublequote=True, escapechar=None, comment=None, encoding=None, encoding_errors='strict', dialect=None, on_bad_lines='error', delim_whitespace=_NoDefault.no_default, low_memory=True, memory_map=False, float_precision=None, storage_options=None, dtype_backend=_NoDefault.no_default)"
   ]
  },
  {
   "cell_type": "markdown",
   "id": "fe5340bc",
   "metadata": {},
   "source": [
    "参考官方文档：https://pandas.pydata.org/docs/reference/api/pandas.read_csv.html"
   ]
  },
  {
   "cell_type": "code",
   "execution_count": 47,
   "id": "75fef29e",
   "metadata": {},
   "outputs": [
    {
     "data": {
      "text/html": [
       "<div>\n",
       "<style scoped>\n",
       "    .dataframe tbody tr th:only-of-type {\n",
       "        vertical-align: middle;\n",
       "    }\n",
       "\n",
       "    .dataframe tbody tr th {\n",
       "        vertical-align: top;\n",
       "    }\n",
       "\n",
       "    .dataframe thead th {\n",
       "        text-align: right;\n",
       "    }\n",
       "</style>\n",
       "<table border=\"1\" class=\"dataframe\">\n",
       "  <thead>\n",
       "    <tr style=\"text-align: right;\">\n",
       "      <th></th>\n",
       "      <th>一</th>\n",
       "      <th>二</th>\n",
       "    </tr>\n",
       "  </thead>\n",
       "  <tbody>\n",
       "    <tr>\n",
       "      <th>0</th>\n",
       "      <td>1</td>\n",
       "      <td>3</td>\n",
       "    </tr>\n",
       "    <tr>\n",
       "      <th>1</th>\n",
       "      <td>2</td>\n",
       "      <td>4</td>\n",
       "    </tr>\n",
       "  </tbody>\n",
       "</table>\n",
       "</div>"
      ],
      "text/plain": [
       "   一  二\n",
       "0  1  3\n",
       "1  2  4"
      ]
     },
     "execution_count": 47,
     "metadata": {},
     "output_type": "execute_result"
    }
   ],
   "source": [
    "df = pd.read_csv(\"./data.csv\",encoding=\"utf-8\")\n",
    "df"
   ]
  },
  {
   "cell_type": "markdown",
   "id": "954e1420",
   "metadata": {},
   "source": [
    "# 5、DataFrame相关操作"
   ]
  },
  {
   "cell_type": "markdown",
   "id": "821935a5",
   "metadata": {},
   "source": [
    "## 5.1、选择数据区域 selecting "
   ]
  },
  {
   "cell_type": "markdown",
   "id": "be27a768",
   "metadata": {},
   "source": [
    "## 5.2、索引 index"
   ]
  },
  {
   "cell_type": "markdown",
   "id": "2bd31a69",
   "metadata": {},
   "source": [
    "作用：识别；对齐；获取和设置"
   ]
  },
  {
   "cell_type": "markdown",
   "id": "49065ea1",
   "metadata": {},
   "source": [
    "### 5.2.1、dict_like 类型选择"
   ]
  },
  {
   "cell_type": "code",
   "execution_count": 2,
   "id": "69c3bf3a",
   "metadata": {},
   "outputs": [
    {
     "data": {
      "text/html": [
       "<div>\n",
       "<style scoped>\n",
       "    .dataframe tbody tr th:only-of-type {\n",
       "        vertical-align: middle;\n",
       "    }\n",
       "\n",
       "    .dataframe tbody tr th {\n",
       "        vertical-align: top;\n",
       "    }\n",
       "\n",
       "    .dataframe thead th {\n",
       "        text-align: right;\n",
       "    }\n",
       "</style>\n",
       "<table border=\"1\" class=\"dataframe\">\n",
       "  <thead>\n",
       "    <tr style=\"text-align: right;\">\n",
       "      <th></th>\n",
       "      <th>a</th>\n",
       "      <th>b</th>\n",
       "      <th>c</th>\n",
       "    </tr>\n",
       "  </thead>\n",
       "  <tbody>\n",
       "    <tr>\n",
       "      <th>x</th>\n",
       "      <td>1</td>\n",
       "      <td>2</td>\n",
       "      <td>3</td>\n",
       "    </tr>\n",
       "    <tr>\n",
       "      <th>y</th>\n",
       "      <td>4</td>\n",
       "      <td>5</td>\n",
       "      <td>6</td>\n",
       "    </tr>\n",
       "    <tr>\n",
       "      <th>z</th>\n",
       "      <td>7</td>\n",
       "      <td>8</td>\n",
       "      <td>9</td>\n",
       "    </tr>\n",
       "  </tbody>\n",
       "</table>\n",
       "</div>"
      ],
      "text/plain": [
       "   a  b  c\n",
       "x  1  2  3\n",
       "y  4  5  6\n",
       "z  7  8  9"
      ]
     },
     "execution_count": 2,
     "metadata": {},
     "output_type": "execute_result"
    }
   ],
   "source": [
    "import pandas as pd \n",
    "s = pd.Series({\n",
    "    \"a\":1,\n",
    "    \"b\":2,\n",
    "    \"c\":3\n",
    "})\n",
    "s\n",
    "df =pd.DataFrame({\n",
    "    \"a\":[1,4,7],\n",
    "    \"b\":[2,5,8],\n",
    "    \"c\":[3,6,9],},\n",
    "    index=list(\"xyz\"))\n",
    "df"
   ]
  },
  {
   "cell_type": "code",
   "execution_count": 16,
   "id": "a034a81a",
   "metadata": {},
   "outputs": [
    {
     "data": {
      "text/plain": [
       "2"
      ]
     },
     "execution_count": 16,
     "metadata": {},
     "output_type": "execute_result"
    }
   ],
   "source": [
    "s[\"b\"]"
   ]
  },
  {
   "cell_type": "code",
   "execution_count": 17,
   "id": "70feeb36",
   "metadata": {},
   "outputs": [
    {
     "data": {
      "text/plain": [
       "x    2\n",
       "y    5\n",
       "z    8\n",
       "Name: b, dtype: int64"
      ]
     },
     "execution_count": 17,
     "metadata": {},
     "output_type": "execute_result"
    }
   ],
   "source": [
    "df[\"b\"]"
   ]
  },
  {
   "cell_type": "code",
   "execution_count": 18,
   "id": "02e9eeff",
   "metadata": {},
   "outputs": [
    {
     "data": {
      "text/plain": [
       "2"
      ]
     },
     "execution_count": 18,
     "metadata": {},
     "output_type": "execute_result"
    }
   ],
   "source": [
    "s[1]"
   ]
  },
  {
   "cell_type": "code",
   "execution_count": 19,
   "id": "9fbfd7af",
   "metadata": {},
   "outputs": [
    {
     "data": {
      "text/plain": [
       "a    1\n",
       "c    3\n",
       "dtype: int64"
      ]
     },
     "execution_count": 19,
     "metadata": {},
     "output_type": "execute_result"
    }
   ],
   "source": [
    "s[[\"a\",\"c\"]]"
   ]
  },
  {
   "cell_type": "code",
   "execution_count": 20,
   "id": "15d9b5f6",
   "metadata": {},
   "outputs": [
    {
     "data": {
      "text/html": [
       "<div>\n",
       "<style scoped>\n",
       "    .dataframe tbody tr th:only-of-type {\n",
       "        vertical-align: middle;\n",
       "    }\n",
       "\n",
       "    .dataframe tbody tr th {\n",
       "        vertical-align: top;\n",
       "    }\n",
       "\n",
       "    .dataframe thead th {\n",
       "        text-align: right;\n",
       "    }\n",
       "</style>\n",
       "<table border=\"1\" class=\"dataframe\">\n",
       "  <thead>\n",
       "    <tr style=\"text-align: right;\">\n",
       "      <th></th>\n",
       "      <th>a</th>\n",
       "      <th>c</th>\n",
       "    </tr>\n",
       "  </thead>\n",
       "  <tbody>\n",
       "    <tr>\n",
       "      <th>x</th>\n",
       "      <td>1</td>\n",
       "      <td>3</td>\n",
       "    </tr>\n",
       "    <tr>\n",
       "      <th>y</th>\n",
       "      <td>4</td>\n",
       "      <td>6</td>\n",
       "    </tr>\n",
       "    <tr>\n",
       "      <th>z</th>\n",
       "      <td>7</td>\n",
       "      <td>9</td>\n",
       "    </tr>\n",
       "  </tbody>\n",
       "</table>\n",
       "</div>"
      ],
      "text/plain": [
       "   a  c\n",
       "x  1  3\n",
       "y  4  6\n",
       "z  7  9"
      ]
     },
     "execution_count": 20,
     "metadata": {},
     "output_type": "execute_result"
    }
   ],
   "source": [
    "df[[\"a\",\"c\"]]"
   ]
  },
  {
   "cell_type": "code",
   "execution_count": 21,
   "id": "eaa1cb40",
   "metadata": {},
   "outputs": [
    {
     "data": {
      "text/html": [
       "<div>\n",
       "<style scoped>\n",
       "    .dataframe tbody tr th:only-of-type {\n",
       "        vertical-align: middle;\n",
       "    }\n",
       "\n",
       "    .dataframe tbody tr th {\n",
       "        vertical-align: top;\n",
       "    }\n",
       "\n",
       "    .dataframe thead th {\n",
       "        text-align: right;\n",
       "    }\n",
       "</style>\n",
       "<table border=\"1\" class=\"dataframe\">\n",
       "  <thead>\n",
       "    <tr style=\"text-align: right;\">\n",
       "      <th></th>\n",
       "      <th>a</th>\n",
       "      <th>b</th>\n",
       "      <th>c</th>\n",
       "    </tr>\n",
       "  </thead>\n",
       "  <tbody>\n",
       "    <tr>\n",
       "      <th>y</th>\n",
       "      <td>4</td>\n",
       "      <td>5</td>\n",
       "      <td>6</td>\n",
       "    </tr>\n",
       "    <tr>\n",
       "      <th>z</th>\n",
       "      <td>7</td>\n",
       "      <td>8</td>\n",
       "      <td>9</td>\n",
       "    </tr>\n",
       "  </tbody>\n",
       "</table>\n",
       "</div>"
      ],
      "text/plain": [
       "   a  b  c\n",
       "y  4  5  6\n",
       "z  7  8  9"
      ]
     },
     "execution_count": 21,
     "metadata": {},
     "output_type": "execute_result"
    }
   ],
   "source": [
    "df[1:3]"
   ]
  },
  {
   "cell_type": "code",
   "execution_count": 22,
   "id": "bb1771f8",
   "metadata": {},
   "outputs": [
    {
     "data": {
      "text/plain": [
       "b    2\n",
       "c    3\n",
       "dtype: int64"
      ]
     },
     "execution_count": 22,
     "metadata": {},
     "output_type": "execute_result"
    }
   ],
   "source": [
    "s[1:3]"
   ]
  },
  {
   "cell_type": "code",
   "execution_count": 23,
   "id": "81a60f55",
   "metadata": {},
   "outputs": [
    {
     "data": {
      "text/html": [
       "<div>\n",
       "<style scoped>\n",
       "    .dataframe tbody tr th:only-of-type {\n",
       "        vertical-align: middle;\n",
       "    }\n",
       "\n",
       "    .dataframe tbody tr th {\n",
       "        vertical-align: top;\n",
       "    }\n",
       "\n",
       "    .dataframe thead th {\n",
       "        text-align: right;\n",
       "    }\n",
       "</style>\n",
       "<table border=\"1\" class=\"dataframe\">\n",
       "  <thead>\n",
       "    <tr style=\"text-align: right;\">\n",
       "      <th></th>\n",
       "      <th>a</th>\n",
       "      <th>b</th>\n",
       "      <th>c</th>\n",
       "    </tr>\n",
       "  </thead>\n",
       "  <tbody>\n",
       "    <tr>\n",
       "      <th>y</th>\n",
       "      <td>4</td>\n",
       "      <td>5</td>\n",
       "      <td>6</td>\n",
       "    </tr>\n",
       "    <tr>\n",
       "      <th>z</th>\n",
       "      <td>7</td>\n",
       "      <td>8</td>\n",
       "      <td>9</td>\n",
       "    </tr>\n",
       "  </tbody>\n",
       "</table>\n",
       "</div>"
      ],
      "text/plain": [
       "   a  b  c\n",
       "y  4  5  6\n",
       "z  7  8  9"
      ]
     },
     "execution_count": 23,
     "metadata": {},
     "output_type": "execute_result"
    }
   ],
   "source": [
    "df[1:3]"
   ]
  },
  {
   "cell_type": "code",
   "execution_count": 24,
   "id": "57d453ef",
   "metadata": {},
   "outputs": [
    {
     "data": {
      "text/plain": [
       "a    1\n",
       "c    3\n",
       "dtype: int64"
      ]
     },
     "execution_count": 24,
     "metadata": {},
     "output_type": "execute_result"
    }
   ],
   "source": [
    "s[[True,False,True]]"
   ]
  },
  {
   "cell_type": "code",
   "execution_count": 25,
   "id": "86d09f42",
   "metadata": {},
   "outputs": [
    {
     "data": {
      "text/html": [
       "<div>\n",
       "<style scoped>\n",
       "    .dataframe tbody tr th:only-of-type {\n",
       "        vertical-align: middle;\n",
       "    }\n",
       "\n",
       "    .dataframe tbody tr th {\n",
       "        vertical-align: top;\n",
       "    }\n",
       "\n",
       "    .dataframe thead th {\n",
       "        text-align: right;\n",
       "    }\n",
       "</style>\n",
       "<table border=\"1\" class=\"dataframe\">\n",
       "  <thead>\n",
       "    <tr style=\"text-align: right;\">\n",
       "      <th></th>\n",
       "      <th>a</th>\n",
       "      <th>b</th>\n",
       "      <th>c</th>\n",
       "    </tr>\n",
       "  </thead>\n",
       "  <tbody>\n",
       "    <tr>\n",
       "      <th>x</th>\n",
       "      <td>1</td>\n",
       "      <td>2</td>\n",
       "      <td>3</td>\n",
       "    </tr>\n",
       "    <tr>\n",
       "      <th>z</th>\n",
       "      <td>7</td>\n",
       "      <td>8</td>\n",
       "      <td>9</td>\n",
       "    </tr>\n",
       "  </tbody>\n",
       "</table>\n",
       "</div>"
      ],
      "text/plain": [
       "   a  b  c\n",
       "x  1  2  3\n",
       "z  7  8  9"
      ]
     },
     "execution_count": 25,
     "metadata": {},
     "output_type": "execute_result"
    }
   ],
   "source": [
    "df[[True,False,True]]"
   ]
  },
  {
   "cell_type": "code",
   "execution_count": 3,
   "id": "2e544635",
   "metadata": {},
   "outputs": [
    {
     "data": {
      "text/html": [
       "<div>\n",
       "<style scoped>\n",
       "    .dataframe tbody tr th:only-of-type {\n",
       "        vertical-align: middle;\n",
       "    }\n",
       "\n",
       "    .dataframe tbody tr th {\n",
       "        vertical-align: top;\n",
       "    }\n",
       "\n",
       "    .dataframe thead th {\n",
       "        text-align: right;\n",
       "    }\n",
       "</style>\n",
       "<table border=\"1\" class=\"dataframe\">\n",
       "  <thead>\n",
       "    <tr style=\"text-align: right;\">\n",
       "      <th></th>\n",
       "      <th>a</th>\n",
       "      <th>b</th>\n",
       "      <th>c</th>\n",
       "    </tr>\n",
       "  </thead>\n",
       "  <tbody>\n",
       "    <tr>\n",
       "      <th>y</th>\n",
       "      <td>4</td>\n",
       "      <td>5</td>\n",
       "      <td>6</td>\n",
       "    </tr>\n",
       "  </tbody>\n",
       "</table>\n",
       "</div>"
      ],
      "text/plain": [
       "   a  b  c\n",
       "y  4  5  6"
      ]
     },
     "execution_count": 3,
     "metadata": {},
     "output_type": "execute_result"
    }
   ],
   "source": [
    "df[(df[\"b\"]>2) & (df[\"b\"]<6)]"
   ]
  },
  {
   "cell_type": "code",
   "execution_count": 4,
   "id": "4af5a175",
   "metadata": {},
   "outputs": [
    {
     "data": {
      "text/html": [
       "<div>\n",
       "<style scoped>\n",
       "    .dataframe tbody tr th:only-of-type {\n",
       "        vertical-align: middle;\n",
       "    }\n",
       "\n",
       "    .dataframe tbody tr th {\n",
       "        vertical-align: top;\n",
       "    }\n",
       "\n",
       "    .dataframe thead th {\n",
       "        text-align: right;\n",
       "    }\n",
       "</style>\n",
       "<table border=\"1\" class=\"dataframe\">\n",
       "  <thead>\n",
       "    <tr style=\"text-align: right;\">\n",
       "      <th></th>\n",
       "      <th>a</th>\n",
       "      <th>b</th>\n",
       "      <th>c</th>\n",
       "    </tr>\n",
       "  </thead>\n",
       "  <tbody>\n",
       "    <tr>\n",
       "      <th>x</th>\n",
       "      <td>1</td>\n",
       "      <td>2</td>\n",
       "      <td>3</td>\n",
       "    </tr>\n",
       "    <tr>\n",
       "      <th>z</th>\n",
       "      <td>7</td>\n",
       "      <td>8</td>\n",
       "      <td>9</td>\n",
       "    </tr>\n",
       "  </tbody>\n",
       "</table>\n",
       "</div>"
      ],
      "text/plain": [
       "   a  b  c\n",
       "x  1  2  3\n",
       "z  7  8  9"
      ]
     },
     "execution_count": 4,
     "metadata": {},
     "output_type": "execute_result"
    }
   ],
   "source": [
    "df[(df[\"b\"]==2) | (df[\"b\"]==8)]"
   ]
  },
  {
   "cell_type": "code",
   "execution_count": 8,
   "id": "5c89b3df",
   "metadata": {},
   "outputs": [
    {
     "data": {
      "text/html": [
       "<div>\n",
       "<style scoped>\n",
       "    .dataframe tbody tr th:only-of-type {\n",
       "        vertical-align: middle;\n",
       "    }\n",
       "\n",
       "    .dataframe tbody tr th {\n",
       "        vertical-align: top;\n",
       "    }\n",
       "\n",
       "    .dataframe thead th {\n",
       "        text-align: right;\n",
       "    }\n",
       "</style>\n",
       "<table border=\"1\" class=\"dataframe\">\n",
       "  <thead>\n",
       "    <tr style=\"text-align: right;\">\n",
       "      <th></th>\n",
       "      <th>a</th>\n",
       "      <th>b</th>\n",
       "      <th>c</th>\n",
       "    </tr>\n",
       "  </thead>\n",
       "  <tbody>\n",
       "  </tbody>\n",
       "</table>\n",
       "</div>"
      ],
      "text/plain": [
       "Empty DataFrame\n",
       "Columns: [a, b, c]\n",
       "Index: []"
      ]
     },
     "execution_count": 8,
     "metadata": {},
     "output_type": "execute_result"
    }
   ],
   "source": [
    "df[~df[\"b\"]==2]"
   ]
  },
  {
   "cell_type": "markdown",
   "id": "a7f3a1d1",
   "metadata": {},
   "source": [
    "### 5.2.1、dict_like 切片类型选择"
   ]
  },
  {
   "cell_type": "code",
   "execution_count": 11,
   "id": "989545c5",
   "metadata": {},
   "outputs": [
    {
     "name": "stdout",
     "output_type": "stream",
     "text": [
      "a    1\n",
      "b    2\n",
      "c    3\n",
      "dtype: int64\n"
     ]
    },
    {
     "data": {
      "text/html": [
       "<div>\n",
       "<style scoped>\n",
       "    .dataframe tbody tr th:only-of-type {\n",
       "        vertical-align: middle;\n",
       "    }\n",
       "\n",
       "    .dataframe tbody tr th {\n",
       "        vertical-align: top;\n",
       "    }\n",
       "\n",
       "    .dataframe thead th {\n",
       "        text-align: right;\n",
       "    }\n",
       "</style>\n",
       "<table border=\"1\" class=\"dataframe\">\n",
       "  <thead>\n",
       "    <tr style=\"text-align: right;\">\n",
       "      <th></th>\n",
       "      <th>a</th>\n",
       "      <th>b</th>\n",
       "      <th>c</th>\n",
       "    </tr>\n",
       "  </thead>\n",
       "  <tbody>\n",
       "    <tr>\n",
       "      <th>x</th>\n",
       "      <td>1</td>\n",
       "      <td>2</td>\n",
       "      <td>3</td>\n",
       "    </tr>\n",
       "    <tr>\n",
       "      <th>y</th>\n",
       "      <td>4</td>\n",
       "      <td>5</td>\n",
       "      <td>6</td>\n",
       "    </tr>\n",
       "    <tr>\n",
       "      <th>z</th>\n",
       "      <td>7</td>\n",
       "      <td>8</td>\n",
       "      <td>9</td>\n",
       "    </tr>\n",
       "  </tbody>\n",
       "</table>\n",
       "</div>"
      ],
      "text/plain": [
       "   a  b  c\n",
       "x  1  2  3\n",
       "y  4  5  6\n",
       "z  7  8  9"
      ]
     },
     "execution_count": 11,
     "metadata": {},
     "output_type": "execute_result"
    }
   ],
   "source": [
    "import pandas as pd \n",
    "s = pd.Series({\n",
    "    \"a\":1,\n",
    "    \"b\":2,\n",
    "    \"c\":3\n",
    "})\n",
    "print(s)\n",
    "df =pd.DataFrame({\n",
    "    \"a\":[1,4,7],\n",
    "    \"b\":[2,5,8],\n",
    "    \"c\":[3,6,9],},\n",
    "    index=list(\"xyz\"))\n",
    "df"
   ]
  },
  {
   "cell_type": "code",
   "execution_count": 10,
   "id": "f82b977f",
   "metadata": {},
   "outputs": [
    {
     "data": {
      "text/plain": [
       "a    1\n",
       "b    2\n",
       "dtype: int64"
      ]
     },
     "execution_count": 10,
     "metadata": {},
     "output_type": "execute_result"
    }
   ],
   "source": [
    "s[0:2]"
   ]
  },
  {
   "cell_type": "code",
   "execution_count": 12,
   "id": "d0971bd4",
   "metadata": {},
   "outputs": [
    {
     "data": {
      "text/plain": [
       "a    1\n",
       "b    2\n",
       "dtype: int64"
      ]
     },
     "execution_count": 12,
     "metadata": {},
     "output_type": "execute_result"
    }
   ],
   "source": [
    "s[0:-1]"
   ]
  },
  {
   "cell_type": "code",
   "execution_count": 13,
   "id": "8f139509",
   "metadata": {},
   "outputs": [
    {
     "data": {
      "text/plain": [
       "c    3\n",
       "b    2\n",
       "a    1\n",
       "dtype: int64"
      ]
     },
     "execution_count": 13,
     "metadata": {},
     "output_type": "execute_result"
    }
   ],
   "source": [
    "s[::-1]"
   ]
  },
  {
   "cell_type": "code",
   "execution_count": 14,
   "id": "0ff665d6",
   "metadata": {},
   "outputs": [
    {
     "data": {
      "text/plain": [
       "c    3\n",
       "a    1\n",
       "dtype: int64"
      ]
     },
     "execution_count": 14,
     "metadata": {},
     "output_type": "execute_result"
    }
   ],
   "source": [
    "s[::-2]"
   ]
  },
  {
   "cell_type": "code",
   "execution_count": 15,
   "id": "62b6ba14",
   "metadata": {},
   "outputs": [
    {
     "data": {
      "text/html": [
       "<div>\n",
       "<style scoped>\n",
       "    .dataframe tbody tr th:only-of-type {\n",
       "        vertical-align: middle;\n",
       "    }\n",
       "\n",
       "    .dataframe tbody tr th {\n",
       "        vertical-align: top;\n",
       "    }\n",
       "\n",
       "    .dataframe thead th {\n",
       "        text-align: right;\n",
       "    }\n",
       "</style>\n",
       "<table border=\"1\" class=\"dataframe\">\n",
       "  <thead>\n",
       "    <tr style=\"text-align: right;\">\n",
       "      <th></th>\n",
       "      <th>a</th>\n",
       "      <th>b</th>\n",
       "      <th>c</th>\n",
       "    </tr>\n",
       "  </thead>\n",
       "  <tbody>\n",
       "    <tr>\n",
       "      <th>x</th>\n",
       "      <td>1</td>\n",
       "      <td>2</td>\n",
       "      <td>3</td>\n",
       "    </tr>\n",
       "    <tr>\n",
       "      <th>y</th>\n",
       "      <td>4</td>\n",
       "      <td>5</td>\n",
       "      <td>6</td>\n",
       "    </tr>\n",
       "  </tbody>\n",
       "</table>\n",
       "</div>"
      ],
      "text/plain": [
       "   a  b  c\n",
       "x  1  2  3\n",
       "y  4  5  6"
      ]
     },
     "execution_count": 15,
     "metadata": {},
     "output_type": "execute_result"
    }
   ],
   "source": [
    "df[0:2]"
   ]
  },
  {
   "cell_type": "code",
   "execution_count": 16,
   "id": "54f3876a",
   "metadata": {},
   "outputs": [
    {
     "data": {
      "text/plain": [
       "a    1\n",
       "b    2\n",
       "dtype: int64"
      ]
     },
     "execution_count": 16,
     "metadata": {},
     "output_type": "execute_result"
    }
   ],
   "source": [
    "s[\"a\":\"b\"]"
   ]
  },
  {
   "cell_type": "code",
   "execution_count": 22,
   "id": "caee1d1d",
   "metadata": {},
   "outputs": [
    {
     "data": {
      "text/html": [
       "<div>\n",
       "<style scoped>\n",
       "    .dataframe tbody tr th:only-of-type {\n",
       "        vertical-align: middle;\n",
       "    }\n",
       "\n",
       "    .dataframe tbody tr th {\n",
       "        vertical-align: top;\n",
       "    }\n",
       "\n",
       "    .dataframe thead th {\n",
       "        text-align: right;\n",
       "    }\n",
       "</style>\n",
       "<table border=\"1\" class=\"dataframe\">\n",
       "  <thead>\n",
       "    <tr style=\"text-align: right;\">\n",
       "      <th></th>\n",
       "      <th>a</th>\n",
       "      <th>b</th>\n",
       "      <th>c</th>\n",
       "    </tr>\n",
       "  </thead>\n",
       "  <tbody>\n",
       "    <tr>\n",
       "      <th>x</th>\n",
       "      <td>1</td>\n",
       "      <td>2</td>\n",
       "      <td>3</td>\n",
       "    </tr>\n",
       "    <tr>\n",
       "      <th>y</th>\n",
       "      <td>4</td>\n",
       "      <td>5</td>\n",
       "      <td>6</td>\n",
       "    </tr>\n",
       "  </tbody>\n",
       "</table>\n",
       "</div>"
      ],
      "text/plain": [
       "   a  b  c\n",
       "x  1  2  3\n",
       "y  4  5  6"
      ]
     },
     "execution_count": 22,
     "metadata": {},
     "output_type": "execute_result"
    }
   ],
   "source": [
    "df[\"x\":\"y\"]"
   ]
  },
  {
   "cell_type": "markdown",
   "id": "2c5c129d",
   "metadata": {},
   "source": [
    "## 5.3、选择数据 df.loc "
   ]
  },
  {
   "cell_type": "markdown",
   "id": "c49e8798",
   "metadata": {},
   "source": [
    "loc(location位置缩写)"
   ]
  },
  {
   "cell_type": "markdown",
   "id": "d8f292a5",
   "metadata": {},
   "source": [
    "df.loc [row_indexer,column_indexer]"
   ]
  },
  {
   "cell_type": "markdown",
   "id": "9ed129cb",
   "metadata": {},
   "source": [
    "主要运用在行标签和列标签的选择上,参数为str"
   ]
  },
  {
   "cell_type": "code",
   "execution_count": 27,
   "id": "5b16775d",
   "metadata": {},
   "outputs": [
    {
     "data": {
      "text/html": [
       "<div>\n",
       "<style scoped>\n",
       "    .dataframe tbody tr th:only-of-type {\n",
       "        vertical-align: middle;\n",
       "    }\n",
       "\n",
       "    .dataframe tbody tr th {\n",
       "        vertical-align: top;\n",
       "    }\n",
       "\n",
       "    .dataframe thead th {\n",
       "        text-align: right;\n",
       "    }\n",
       "</style>\n",
       "<table border=\"1\" class=\"dataframe\">\n",
       "  <thead>\n",
       "    <tr style=\"text-align: right;\">\n",
       "      <th></th>\n",
       "      <th>a</th>\n",
       "      <th>b</th>\n",
       "      <th>c</th>\n",
       "      <th>d</th>\n",
       "    </tr>\n",
       "  </thead>\n",
       "  <tbody>\n",
       "    <tr>\n",
       "      <th>x</th>\n",
       "      <td>1</td>\n",
       "      <td>2</td>\n",
       "      <td>3</td>\n",
       "      <td>12</td>\n",
       "    </tr>\n",
       "    <tr>\n",
       "      <th>y</th>\n",
       "      <td>4</td>\n",
       "      <td>5</td>\n",
       "      <td>6</td>\n",
       "      <td>15</td>\n",
       "    </tr>\n",
       "    <tr>\n",
       "      <th>z</th>\n",
       "      <td>7</td>\n",
       "      <td>8</td>\n",
       "      <td>9</td>\n",
       "      <td>18</td>\n",
       "    </tr>\n",
       "  </tbody>\n",
       "</table>\n",
       "</div>"
      ],
      "text/plain": [
       "   a  b  c   d\n",
       "x  1  2  3  12\n",
       "y  4  5  6  15\n",
       "z  7  8  9  18"
      ]
     },
     "execution_count": 27,
     "metadata": {},
     "output_type": "execute_result"
    }
   ],
   "source": [
    "import pandas as pd \n",
    "df =pd.DataFrame({\n",
    "    \"a\":[1,4,7],\n",
    "    \"b\":[2,5,8],\n",
    "    \"c\":[3,6,9],\n",
    "    \"d\":[12,15,18],},\n",
    "    index=list(\"xyz\"))\n",
    "df"
   ]
  },
  {
   "cell_type": "code",
   "execution_count": 28,
   "id": "6a5b8fbc",
   "metadata": {},
   "outputs": [
    {
     "data": {
      "text/plain": [
       "a     1\n",
       "b     2\n",
       "c     3\n",
       "d    12\n",
       "Name: x, dtype: int64"
      ]
     },
     "execution_count": 28,
     "metadata": {},
     "output_type": "execute_result"
    }
   ],
   "source": [
    "df.loc[\"x\"]"
   ]
  },
  {
   "cell_type": "code",
   "execution_count": 29,
   "id": "6bf237d5",
   "metadata": {},
   "outputs": [
    {
     "data": {
      "text/plain": [
       "2"
      ]
     },
     "execution_count": 29,
     "metadata": {},
     "output_type": "execute_result"
    }
   ],
   "source": [
    "df.loc[\"x\",\"b\"]"
   ]
  },
  {
   "cell_type": "code",
   "execution_count": 30,
   "id": "d5f98ff2",
   "metadata": {},
   "outputs": [
    {
     "data": {
      "text/html": [
       "<div>\n",
       "<style scoped>\n",
       "    .dataframe tbody tr th:only-of-type {\n",
       "        vertical-align: middle;\n",
       "    }\n",
       "\n",
       "    .dataframe tbody tr th {\n",
       "        vertical-align: top;\n",
       "    }\n",
       "\n",
       "    .dataframe thead th {\n",
       "        text-align: right;\n",
       "    }\n",
       "</style>\n",
       "<table border=\"1\" class=\"dataframe\">\n",
       "  <thead>\n",
       "    <tr style=\"text-align: right;\">\n",
       "      <th></th>\n",
       "      <th>b</th>\n",
       "      <th>d</th>\n",
       "    </tr>\n",
       "  </thead>\n",
       "  <tbody>\n",
       "    <tr>\n",
       "      <th>x</th>\n",
       "      <td>2</td>\n",
       "      <td>12</td>\n",
       "    </tr>\n",
       "    <tr>\n",
       "      <th>y</th>\n",
       "      <td>5</td>\n",
       "      <td>15</td>\n",
       "    </tr>\n",
       "  </tbody>\n",
       "</table>\n",
       "</div>"
      ],
      "text/plain": [
       "   b   d\n",
       "x  2  12\n",
       "y  5  15"
      ]
     },
     "execution_count": 30,
     "metadata": {},
     "output_type": "execute_result"
    }
   ],
   "source": [
    "df.loc[[\"x\",\"y\"],[\"b\",\"d\"]]"
   ]
  },
  {
   "cell_type": "code",
   "execution_count": 31,
   "id": "ea2448ce",
   "metadata": {},
   "outputs": [
    {
     "data": {
      "text/html": [
       "<div>\n",
       "<style scoped>\n",
       "    .dataframe tbody tr th:only-of-type {\n",
       "        vertical-align: middle;\n",
       "    }\n",
       "\n",
       "    .dataframe tbody tr th {\n",
       "        vertical-align: top;\n",
       "    }\n",
       "\n",
       "    .dataframe thead th {\n",
       "        text-align: right;\n",
       "    }\n",
       "</style>\n",
       "<table border=\"1\" class=\"dataframe\">\n",
       "  <thead>\n",
       "    <tr style=\"text-align: right;\">\n",
       "      <th></th>\n",
       "      <th>a</th>\n",
       "      <th>c</th>\n",
       "    </tr>\n",
       "  </thead>\n",
       "  <tbody>\n",
       "    <tr>\n",
       "      <th>x</th>\n",
       "      <td>1</td>\n",
       "      <td>3</td>\n",
       "    </tr>\n",
       "    <tr>\n",
       "      <th>z</th>\n",
       "      <td>7</td>\n",
       "      <td>9</td>\n",
       "    </tr>\n",
       "  </tbody>\n",
       "</table>\n",
       "</div>"
      ],
      "text/plain": [
       "   a  c\n",
       "x  1  3\n",
       "z  7  9"
      ]
     },
     "execution_count": 31,
     "metadata": {},
     "output_type": "execute_result"
    }
   ],
   "source": [
    "df.loc[[True,False,True],[True,False,True,False]]"
   ]
  },
  {
   "cell_type": "code",
   "execution_count": 32,
   "id": "bbbd57d6",
   "metadata": {},
   "outputs": [
    {
     "data": {
      "text/html": [
       "<div>\n",
       "<style scoped>\n",
       "    .dataframe tbody tr th:only-of-type {\n",
       "        vertical-align: middle;\n",
       "    }\n",
       "\n",
       "    .dataframe tbody tr th {\n",
       "        vertical-align: top;\n",
       "    }\n",
       "\n",
       "    .dataframe thead th {\n",
       "        text-align: right;\n",
       "    }\n",
       "</style>\n",
       "<table border=\"1\" class=\"dataframe\">\n",
       "  <thead>\n",
       "    <tr style=\"text-align: right;\">\n",
       "      <th></th>\n",
       "      <th>b</th>\n",
       "      <th>c</th>\n",
       "      <th>d</th>\n",
       "    </tr>\n",
       "  </thead>\n",
       "  <tbody>\n",
       "    <tr>\n",
       "      <th>x</th>\n",
       "      <td>2</td>\n",
       "      <td>3</td>\n",
       "      <td>12</td>\n",
       "    </tr>\n",
       "    <tr>\n",
       "      <th>y</th>\n",
       "      <td>5</td>\n",
       "      <td>6</td>\n",
       "      <td>15</td>\n",
       "    </tr>\n",
       "  </tbody>\n",
       "</table>\n",
       "</div>"
      ],
      "text/plain": [
       "   b  c   d\n",
       "x  2  3  12\n",
       "y  5  6  15"
      ]
     },
     "execution_count": 32,
     "metadata": {},
     "output_type": "execute_result"
    }
   ],
   "source": [
    "df.loc[\"x\":\"y\",\"b\":\"d\"]"
   ]
  },
  {
   "cell_type": "code",
   "execution_count": 33,
   "id": "432b1725",
   "metadata": {},
   "outputs": [
    {
     "data": {
      "text/html": [
       "<div>\n",
       "<style scoped>\n",
       "    .dataframe tbody tr th:only-of-type {\n",
       "        vertical-align: middle;\n",
       "    }\n",
       "\n",
       "    .dataframe tbody tr th {\n",
       "        vertical-align: top;\n",
       "    }\n",
       "\n",
       "    .dataframe thead th {\n",
       "        text-align: right;\n",
       "    }\n",
       "</style>\n",
       "<table border=\"1\" class=\"dataframe\">\n",
       "  <thead>\n",
       "    <tr style=\"text-align: right;\">\n",
       "      <th></th>\n",
       "      <th>b</th>\n",
       "      <th>c</th>\n",
       "      <th>d</th>\n",
       "    </tr>\n",
       "  </thead>\n",
       "  <tbody>\n",
       "    <tr>\n",
       "      <th>x</th>\n",
       "      <td>2</td>\n",
       "      <td>3</td>\n",
       "      <td>12</td>\n",
       "    </tr>\n",
       "    <tr>\n",
       "      <th>y</th>\n",
       "      <td>5</td>\n",
       "      <td>6</td>\n",
       "      <td>15</td>\n",
       "    </tr>\n",
       "    <tr>\n",
       "      <th>z</th>\n",
       "      <td>8</td>\n",
       "      <td>9</td>\n",
       "      <td>18</td>\n",
       "    </tr>\n",
       "  </tbody>\n",
       "</table>\n",
       "</div>"
      ],
      "text/plain": [
       "   b  c   d\n",
       "x  2  3  12\n",
       "y  5  6  15\n",
       "z  8  9  18"
      ]
     },
     "execution_count": 33,
     "metadata": {},
     "output_type": "execute_result"
    }
   ],
   "source": [
    "df.loc[:,\"b\":\"d\"]"
   ]
  },
  {
   "cell_type": "code",
   "execution_count": 35,
   "id": "8fda5c7d",
   "metadata": {},
   "outputs": [
    {
     "data": {
      "text/html": [
       "<div>\n",
       "<style scoped>\n",
       "    .dataframe tbody tr th:only-of-type {\n",
       "        vertical-align: middle;\n",
       "    }\n",
       "\n",
       "    .dataframe tbody tr th {\n",
       "        vertical-align: top;\n",
       "    }\n",
       "\n",
       "    .dataframe thead th {\n",
       "        text-align: right;\n",
       "    }\n",
       "</style>\n",
       "<table border=\"1\" class=\"dataframe\">\n",
       "  <thead>\n",
       "    <tr style=\"text-align: right;\">\n",
       "      <th></th>\n",
       "      <th>a</th>\n",
       "      <th>c</th>\n",
       "    </tr>\n",
       "  </thead>\n",
       "  <tbody>\n",
       "    <tr>\n",
       "      <th>x</th>\n",
       "      <td>1</td>\n",
       "      <td>3</td>\n",
       "    </tr>\n",
       "    <tr>\n",
       "      <th>y</th>\n",
       "      <td>4</td>\n",
       "      <td>6</td>\n",
       "    </tr>\n",
       "    <tr>\n",
       "      <th>z</th>\n",
       "      <td>7</td>\n",
       "      <td>9</td>\n",
       "    </tr>\n",
       "  </tbody>\n",
       "</table>\n",
       "</div>"
      ],
      "text/plain": [
       "   a  c\n",
       "x  1  3\n",
       "y  4  6\n",
       "z  7  9"
      ]
     },
     "execution_count": 35,
     "metadata": {},
     "output_type": "execute_result"
    }
   ],
   "source": [
    "# 切片\n",
    "df.loc[:,::2]"
   ]
  },
  {
   "cell_type": "markdown",
   "id": "528fe27e",
   "metadata": {},
   "source": [
    "## 5.4、选择数据 df.iloc "
   ]
  },
  {
   "cell_type": "markdown",
   "id": "9f7ff9e1",
   "metadata": {},
   "source": [
    "df.iloc[row_indexer,column_indexer]"
   ]
  },
  {
   "cell_type": "markdown",
   "id": "15a845f0",
   "metadata": {},
   "source": [
    "主要运用在行索引和列索引的选择上，参数为int"
   ]
  },
  {
   "cell_type": "code",
   "execution_count": 42,
   "id": "4c7f497f",
   "metadata": {},
   "outputs": [
    {
     "data": {
      "text/html": [
       "<div>\n",
       "<style scoped>\n",
       "    .dataframe tbody tr th:only-of-type {\n",
       "        vertical-align: middle;\n",
       "    }\n",
       "\n",
       "    .dataframe tbody tr th {\n",
       "        vertical-align: top;\n",
       "    }\n",
       "\n",
       "    .dataframe thead th {\n",
       "        text-align: right;\n",
       "    }\n",
       "</style>\n",
       "<table border=\"1\" class=\"dataframe\">\n",
       "  <thead>\n",
       "    <tr style=\"text-align: right;\">\n",
       "      <th></th>\n",
       "      <th>a</th>\n",
       "      <th>b</th>\n",
       "      <th>c</th>\n",
       "      <th>d</th>\n",
       "    </tr>\n",
       "  </thead>\n",
       "  <tbody>\n",
       "    <tr>\n",
       "      <th>x</th>\n",
       "      <td>1</td>\n",
       "      <td>2</td>\n",
       "      <td>3</td>\n",
       "      <td>12</td>\n",
       "    </tr>\n",
       "    <tr>\n",
       "      <th>y</th>\n",
       "      <td>4</td>\n",
       "      <td>5</td>\n",
       "      <td>6</td>\n",
       "      <td>15</td>\n",
       "    </tr>\n",
       "    <tr>\n",
       "      <th>z</th>\n",
       "      <td>7</td>\n",
       "      <td>8</td>\n",
       "      <td>9</td>\n",
       "      <td>18</td>\n",
       "    </tr>\n",
       "  </tbody>\n",
       "</table>\n",
       "</div>"
      ],
      "text/plain": [
       "   a  b  c   d\n",
       "x  1  2  3  12\n",
       "y  4  5  6  15\n",
       "z  7  8  9  18"
      ]
     },
     "execution_count": 42,
     "metadata": {},
     "output_type": "execute_result"
    }
   ],
   "source": [
    "import pandas as pd \n",
    "df =pd.DataFrame({\n",
    "    \"a\":[1,4,7],\n",
    "    \"b\":[2,5,8],\n",
    "    \"c\":[3,6,9],\n",
    "    \"d\":[12,15,18],},\n",
    "    index=list(\"xyz\"))\n",
    "df"
   ]
  },
  {
   "cell_type": "code",
   "execution_count": 43,
   "id": "2dcab34f",
   "metadata": {},
   "outputs": [
    {
     "data": {
      "text/plain": [
       "a     1\n",
       "b     2\n",
       "c     3\n",
       "d    12\n",
       "Name: x, dtype: int64"
      ]
     },
     "execution_count": 43,
     "metadata": {},
     "output_type": "execute_result"
    }
   ],
   "source": [
    "df.iloc[0]"
   ]
  },
  {
   "cell_type": "code",
   "execution_count": 45,
   "id": "6e2512db",
   "metadata": {},
   "outputs": [
    {
     "data": {
      "text/plain": [
       "2"
      ]
     },
     "execution_count": 45,
     "metadata": {},
     "output_type": "execute_result"
    }
   ],
   "source": [
    "df.iloc[0,1]"
   ]
  },
  {
   "cell_type": "code",
   "execution_count": 46,
   "id": "6ea3e7d7",
   "metadata": {},
   "outputs": [
    {
     "data": {
      "text/html": [
       "<div>\n",
       "<style scoped>\n",
       "    .dataframe tbody tr th:only-of-type {\n",
       "        vertical-align: middle;\n",
       "    }\n",
       "\n",
       "    .dataframe tbody tr th {\n",
       "        vertical-align: top;\n",
       "    }\n",
       "\n",
       "    .dataframe thead th {\n",
       "        text-align: right;\n",
       "    }\n",
       "</style>\n",
       "<table border=\"1\" class=\"dataframe\">\n",
       "  <thead>\n",
       "    <tr style=\"text-align: right;\">\n",
       "      <th></th>\n",
       "      <th>b</th>\n",
       "      <th>d</th>\n",
       "    </tr>\n",
       "  </thead>\n",
       "  <tbody>\n",
       "    <tr>\n",
       "      <th>x</th>\n",
       "      <td>2</td>\n",
       "      <td>12</td>\n",
       "    </tr>\n",
       "    <tr>\n",
       "      <th>y</th>\n",
       "      <td>5</td>\n",
       "      <td>15</td>\n",
       "    </tr>\n",
       "  </tbody>\n",
       "</table>\n",
       "</div>"
      ],
      "text/plain": [
       "   b   d\n",
       "x  2  12\n",
       "y  5  15"
      ]
     },
     "execution_count": 46,
     "metadata": {},
     "output_type": "execute_result"
    }
   ],
   "source": [
    "df.iloc[[0,1],[1,3]]"
   ]
  },
  {
   "cell_type": "code",
   "execution_count": 49,
   "id": "4673be0d",
   "metadata": {},
   "outputs": [
    {
     "data": {
      "text/html": [
       "<div>\n",
       "<style scoped>\n",
       "    .dataframe tbody tr th:only-of-type {\n",
       "        vertical-align: middle;\n",
       "    }\n",
       "\n",
       "    .dataframe tbody tr th {\n",
       "        vertical-align: top;\n",
       "    }\n",
       "\n",
       "    .dataframe thead th {\n",
       "        text-align: right;\n",
       "    }\n",
       "</style>\n",
       "<table border=\"1\" class=\"dataframe\">\n",
       "  <thead>\n",
       "    <tr style=\"text-align: right;\">\n",
       "      <th></th>\n",
       "      <th>b</th>\n",
       "      <th>c</th>\n",
       "    </tr>\n",
       "  </thead>\n",
       "  <tbody>\n",
       "    <tr>\n",
       "      <th>x</th>\n",
       "      <td>2</td>\n",
       "      <td>3</td>\n",
       "    </tr>\n",
       "    <tr>\n",
       "      <th>y</th>\n",
       "      <td>5</td>\n",
       "      <td>6</td>\n",
       "    </tr>\n",
       "  </tbody>\n",
       "</table>\n",
       "</div>"
      ],
      "text/plain": [
       "   b  c\n",
       "x  2  3\n",
       "y  5  6"
      ]
     },
     "execution_count": 49,
     "metadata": {},
     "output_type": "execute_result"
    }
   ],
   "source": [
    "df.iloc[0:2,1:3]"
   ]
  },
  {
   "cell_type": "code",
   "execution_count": 47,
   "id": "2ce947eb",
   "metadata": {},
   "outputs": [
    {
     "data": {
      "text/html": [
       "<div>\n",
       "<style scoped>\n",
       "    .dataframe tbody tr th:only-of-type {\n",
       "        vertical-align: middle;\n",
       "    }\n",
       "\n",
       "    .dataframe tbody tr th {\n",
       "        vertical-align: top;\n",
       "    }\n",
       "\n",
       "    .dataframe thead th {\n",
       "        text-align: right;\n",
       "    }\n",
       "</style>\n",
       "<table border=\"1\" class=\"dataframe\">\n",
       "  <thead>\n",
       "    <tr style=\"text-align: right;\">\n",
       "      <th></th>\n",
       "      <th>a</th>\n",
       "      <th>c</th>\n",
       "    </tr>\n",
       "  </thead>\n",
       "  <tbody>\n",
       "    <tr>\n",
       "      <th>x</th>\n",
       "      <td>1</td>\n",
       "      <td>3</td>\n",
       "    </tr>\n",
       "    <tr>\n",
       "      <th>z</th>\n",
       "      <td>7</td>\n",
       "      <td>9</td>\n",
       "    </tr>\n",
       "  </tbody>\n",
       "</table>\n",
       "</div>"
      ],
      "text/plain": [
       "   a  c\n",
       "x  1  3\n",
       "z  7  9"
      ]
     },
     "execution_count": 47,
     "metadata": {},
     "output_type": "execute_result"
    }
   ],
   "source": [
    "df.iloc[[True,False,True],[True,False,True,False]]"
   ]
  },
  {
   "cell_type": "markdown",
   "id": "f3385645",
   "metadata": {},
   "source": [
    "# 5、数据赋值"
   ]
  },
  {
   "cell_type": "code",
   "execution_count": 60,
   "id": "814594b8",
   "metadata": {},
   "outputs": [
    {
     "name": "stdout",
     "output_type": "stream",
     "text": [
      "a    1\n",
      "b    2\n",
      "c    3\n",
      "dtype: int64\n"
     ]
    },
    {
     "data": {
      "text/html": [
       "<div>\n",
       "<style scoped>\n",
       "    .dataframe tbody tr th:only-of-type {\n",
       "        vertical-align: middle;\n",
       "    }\n",
       "\n",
       "    .dataframe tbody tr th {\n",
       "        vertical-align: top;\n",
       "    }\n",
       "\n",
       "    .dataframe thead th {\n",
       "        text-align: right;\n",
       "    }\n",
       "</style>\n",
       "<table border=\"1\" class=\"dataframe\">\n",
       "  <thead>\n",
       "    <tr style=\"text-align: right;\">\n",
       "      <th></th>\n",
       "      <th>a</th>\n",
       "      <th>b</th>\n",
       "      <th>c</th>\n",
       "      <th>d</th>\n",
       "    </tr>\n",
       "  </thead>\n",
       "  <tbody>\n",
       "    <tr>\n",
       "      <th>x</th>\n",
       "      <td>1</td>\n",
       "      <td>2</td>\n",
       "      <td>3</td>\n",
       "      <td>4</td>\n",
       "    </tr>\n",
       "    <tr>\n",
       "      <th>y</th>\n",
       "      <td>5</td>\n",
       "      <td>6</td>\n",
       "      <td>7</td>\n",
       "      <td>8</td>\n",
       "    </tr>\n",
       "    <tr>\n",
       "      <th>z</th>\n",
       "      <td>9</td>\n",
       "      <td>10</td>\n",
       "      <td>11</td>\n",
       "      <td>12</td>\n",
       "    </tr>\n",
       "  </tbody>\n",
       "</table>\n",
       "</div>"
      ],
      "text/plain": [
       "   a   b   c   d\n",
       "x  1   2   3   4\n",
       "y  5   6   7   8\n",
       "z  9  10  11  12"
      ]
     },
     "execution_count": 60,
     "metadata": {},
     "output_type": "execute_result"
    }
   ],
   "source": [
    "import pandas as pd \n",
    "s = pd.Series({\n",
    "    \"a\":1,\n",
    "    \"b\":2,\n",
    "    \"c\":3\n",
    "})\n",
    "print(s)\n",
    "df =pd.DataFrame({\n",
    "    \"a\":[1,5,9],\n",
    "    \"b\":[2,6,10],\n",
    "    \"c\":[3,7,11],\n",
    "    \"d\":[4,8,12],},\n",
    "    index=list(\"xyz\"))\n",
    "df"
   ]
  },
  {
   "cell_type": "code",
   "execution_count": 51,
   "id": "5b3ba473",
   "metadata": {},
   "outputs": [
    {
     "data": {
      "text/plain": [
       "a    10\n",
       "b     2\n",
       "c     3\n",
       "dtype: int64"
      ]
     },
     "execution_count": 51,
     "metadata": {},
     "output_type": "execute_result"
    }
   ],
   "source": [
    "s[0]=10\n",
    "s"
   ]
  },
  {
   "cell_type": "code",
   "execution_count": 52,
   "id": "a948d7d4",
   "metadata": {},
   "outputs": [
    {
     "data": {
      "text/plain": [
       "a    10\n",
       "b    11\n",
       "c     3\n",
       "dtype: int64"
      ]
     },
     "execution_count": 52,
     "metadata": {},
     "output_type": "execute_result"
    }
   ],
   "source": [
    "s.iloc[1]=11\n",
    "s"
   ]
  },
  {
   "cell_type": "code",
   "execution_count": 53,
   "id": "c2c6abcf",
   "metadata": {},
   "outputs": [
    {
     "data": {
      "text/plain": [
       "a    10\n",
       "b    11\n",
       "c    12\n",
       "dtype: int64"
      ]
     },
     "execution_count": 53,
     "metadata": {},
     "output_type": "execute_result"
    }
   ],
   "source": [
    "s.loc[\"c\"]=12\n",
    "s"
   ]
  },
  {
   "cell_type": "code",
   "execution_count": 54,
   "id": "2238e919",
   "metadata": {},
   "outputs": [
    {
     "data": {
      "text/plain": [
       "a    10\n",
       "b    11\n",
       "c    12\n",
       "d    13\n",
       "dtype: int64"
      ]
     },
     "execution_count": 54,
     "metadata": {},
     "output_type": "execute_result"
    }
   ],
   "source": [
    "#新增数据只能用 loc\n",
    "s.loc[\"d\"]=13\n",
    "s"
   ]
  },
  {
   "cell_type": "code",
   "execution_count": 55,
   "id": "481fb96d",
   "metadata": {},
   "outputs": [
    {
     "data": {
      "text/plain": [
       "a    10\n",
       "b    20\n",
       "c    20\n",
       "d    13\n",
       "dtype: int64"
      ]
     },
     "execution_count": 55,
     "metadata": {},
     "output_type": "execute_result"
    }
   ],
   "source": [
    "s.iloc[1:3]=20\n",
    "s"
   ]
  },
  {
   "cell_type": "code",
   "execution_count": 56,
   "id": "ceaf1c03",
   "metadata": {},
   "outputs": [
    {
     "data": {
      "text/plain": [
       "a    10\n",
       "b    20\n",
       "c    30\n",
       "d    30\n",
       "dtype: int64"
      ]
     },
     "execution_count": 56,
     "metadata": {},
     "output_type": "execute_result"
    }
   ],
   "source": [
    "s.loc[\"c\":\"d\"] = 30\n",
    "s"
   ]
  },
  {
   "cell_type": "code",
   "execution_count": 59,
   "id": "4a804d27",
   "metadata": {},
   "outputs": [
    {
     "data": {
      "text/plain": [
       "a     10\n",
       "b     20\n",
       "c    100\n",
       "d    100\n",
       "dtype: int64"
      ]
     },
     "execution_count": 59,
     "metadata": {},
     "output_type": "execute_result"
    }
   ],
   "source": [
    "s[s>25] = 100\n",
    "s"
   ]
  },
  {
   "cell_type": "code",
   "execution_count": 62,
   "id": "3afe190b",
   "metadata": {},
   "outputs": [
    {
     "data": {
      "text/html": [
       "<div>\n",
       "<style scoped>\n",
       "    .dataframe tbody tr th:only-of-type {\n",
       "        vertical-align: middle;\n",
       "    }\n",
       "\n",
       "    .dataframe tbody tr th {\n",
       "        vertical-align: top;\n",
       "    }\n",
       "\n",
       "    .dataframe thead th {\n",
       "        text-align: right;\n",
       "    }\n",
       "</style>\n",
       "<table border=\"1\" class=\"dataframe\">\n",
       "  <thead>\n",
       "    <tr style=\"text-align: right;\">\n",
       "      <th></th>\n",
       "      <th>a</th>\n",
       "      <th>b</th>\n",
       "      <th>c</th>\n",
       "      <th>d</th>\n",
       "    </tr>\n",
       "  </thead>\n",
       "  <tbody>\n",
       "    <tr>\n",
       "      <th>x</th>\n",
       "      <td>100</td>\n",
       "      <td>2</td>\n",
       "      <td>3</td>\n",
       "      <td>4</td>\n",
       "    </tr>\n",
       "    <tr>\n",
       "      <th>y</th>\n",
       "      <td>100</td>\n",
       "      <td>6</td>\n",
       "      <td>7</td>\n",
       "      <td>8</td>\n",
       "    </tr>\n",
       "    <tr>\n",
       "      <th>z</th>\n",
       "      <td>100</td>\n",
       "      <td>10</td>\n",
       "      <td>11</td>\n",
       "      <td>12</td>\n",
       "    </tr>\n",
       "  </tbody>\n",
       "</table>\n",
       "</div>"
      ],
      "text/plain": [
       "     a   b   c   d\n",
       "x  100   2   3   4\n",
       "y  100   6   7   8\n",
       "z  100  10  11  12"
      ]
     },
     "execution_count": 62,
     "metadata": {},
     "output_type": "execute_result"
    }
   ],
   "source": [
    "df[\"a\"]=100\n",
    "df"
   ]
  },
  {
   "cell_type": "code",
   "execution_count": 63,
   "id": "36be782d",
   "metadata": {},
   "outputs": [
    {
     "data": {
      "text/html": [
       "<div>\n",
       "<style scoped>\n",
       "    .dataframe tbody tr th:only-of-type {\n",
       "        vertical-align: middle;\n",
       "    }\n",
       "\n",
       "    .dataframe tbody tr th {\n",
       "        vertical-align: top;\n",
       "    }\n",
       "\n",
       "    .dataframe thead th {\n",
       "        text-align: right;\n",
       "    }\n",
       "</style>\n",
       "<table border=\"1\" class=\"dataframe\">\n",
       "  <thead>\n",
       "    <tr style=\"text-align: right;\">\n",
       "      <th></th>\n",
       "      <th>a</th>\n",
       "      <th>b</th>\n",
       "      <th>c</th>\n",
       "      <th>d</th>\n",
       "    </tr>\n",
       "  </thead>\n",
       "  <tbody>\n",
       "    <tr>\n",
       "      <th>x</th>\n",
       "      <td>100</td>\n",
       "      <td>20</td>\n",
       "      <td>3</td>\n",
       "      <td>4</td>\n",
       "    </tr>\n",
       "    <tr>\n",
       "      <th>y</th>\n",
       "      <td>100</td>\n",
       "      <td>60</td>\n",
       "      <td>7</td>\n",
       "      <td>8</td>\n",
       "    </tr>\n",
       "    <tr>\n",
       "      <th>z</th>\n",
       "      <td>100</td>\n",
       "      <td>100</td>\n",
       "      <td>11</td>\n",
       "      <td>12</td>\n",
       "    </tr>\n",
       "  </tbody>\n",
       "</table>\n",
       "</div>"
      ],
      "text/plain": [
       "     a    b   c   d\n",
       "x  100   20   3   4\n",
       "y  100   60   7   8\n",
       "z  100  100  11  12"
      ]
     },
     "execution_count": 63,
     "metadata": {},
     "output_type": "execute_result"
    }
   ],
   "source": [
    "df[\"b\"] = df[\"b\"]*10\n",
    "df"
   ]
  },
  {
   "cell_type": "code",
   "execution_count": 65,
   "id": "f4941f88",
   "metadata": {},
   "outputs": [
    {
     "data": {
      "text/html": [
       "<div>\n",
       "<style scoped>\n",
       "    .dataframe tbody tr th:only-of-type {\n",
       "        vertical-align: middle;\n",
       "    }\n",
       "\n",
       "    .dataframe tbody tr th {\n",
       "        vertical-align: top;\n",
       "    }\n",
       "\n",
       "    .dataframe thead th {\n",
       "        text-align: right;\n",
       "    }\n",
       "</style>\n",
       "<table border=\"1\" class=\"dataframe\">\n",
       "  <thead>\n",
       "    <tr style=\"text-align: right;\">\n",
       "      <th></th>\n",
       "      <th>a</th>\n",
       "      <th>b</th>\n",
       "      <th>c</th>\n",
       "      <th>d</th>\n",
       "      <th>e</th>\n",
       "    </tr>\n",
       "  </thead>\n",
       "  <tbody>\n",
       "    <tr>\n",
       "      <th>x</th>\n",
       "      <td>100</td>\n",
       "      <td>20</td>\n",
       "      <td>3</td>\n",
       "      <td>4</td>\n",
       "      <td>7</td>\n",
       "    </tr>\n",
       "    <tr>\n",
       "      <th>y</th>\n",
       "      <td>100</td>\n",
       "      <td>60</td>\n",
       "      <td>7</td>\n",
       "      <td>8</td>\n",
       "      <td>15</td>\n",
       "    </tr>\n",
       "    <tr>\n",
       "      <th>z</th>\n",
       "      <td>100</td>\n",
       "      <td>100</td>\n",
       "      <td>11</td>\n",
       "      <td>12</td>\n",
       "      <td>23</td>\n",
       "    </tr>\n",
       "  </tbody>\n",
       "</table>\n",
       "</div>"
      ],
      "text/plain": [
       "     a    b   c   d   e\n",
       "x  100   20   3   4   7\n",
       "y  100   60   7   8  15\n",
       "z  100  100  11  12  23"
      ]
     },
     "execution_count": 65,
     "metadata": {},
     "output_type": "execute_result"
    }
   ],
   "source": [
    "df[\"e\"] = df[\"c\"]+df[\"d\"]\n",
    "df"
   ]
  },
  {
   "cell_type": "code",
   "execution_count": 67,
   "id": "ba6810db",
   "metadata": {},
   "outputs": [
    {
     "data": {
      "text/html": [
       "<div>\n",
       "<style scoped>\n",
       "    .dataframe tbody tr th:only-of-type {\n",
       "        vertical-align: middle;\n",
       "    }\n",
       "\n",
       "    .dataframe tbody tr th {\n",
       "        vertical-align: top;\n",
       "    }\n",
       "\n",
       "    .dataframe thead th {\n",
       "        text-align: right;\n",
       "    }\n",
       "</style>\n",
       "<table border=\"1\" class=\"dataframe\">\n",
       "  <thead>\n",
       "    <tr style=\"text-align: right;\">\n",
       "      <th></th>\n",
       "      <th>a</th>\n",
       "      <th>b</th>\n",
       "      <th>c</th>\n",
       "      <th>d</th>\n",
       "      <th>e</th>\n",
       "    </tr>\n",
       "  </thead>\n",
       "  <tbody>\n",
       "    <tr>\n",
       "      <th>x</th>\n",
       "      <td>100</td>\n",
       "      <td>20</td>\n",
       "      <td>3</td>\n",
       "      <td>4</td>\n",
       "      <td>7</td>\n",
       "    </tr>\n",
       "    <tr>\n",
       "      <th>y</th>\n",
       "      <td>100</td>\n",
       "      <td>60</td>\n",
       "      <td>7</td>\n",
       "      <td>8</td>\n",
       "      <td>200</td>\n",
       "    </tr>\n",
       "    <tr>\n",
       "      <th>z</th>\n",
       "      <td>100</td>\n",
       "      <td>100</td>\n",
       "      <td>11</td>\n",
       "      <td>12</td>\n",
       "      <td>200</td>\n",
       "    </tr>\n",
       "  </tbody>\n",
       "</table>\n",
       "</div>"
      ],
      "text/plain": [
       "     a    b   c   d    e\n",
       "x  100   20   3   4    7\n",
       "y  100   60   7   8  200\n",
       "z  100  100  11  12  200"
      ]
     },
     "execution_count": 67,
     "metadata": {},
     "output_type": "execute_result"
    }
   ],
   "source": [
    "df.loc[df[\"e\"]>10,\"e\"] = 200\n",
    "df"
   ]
  },
  {
   "cell_type": "code",
   "execution_count": 69,
   "id": "51db7e35",
   "metadata": {},
   "outputs": [
    {
     "data": {
      "text/html": [
       "<div>\n",
       "<style scoped>\n",
       "    .dataframe tbody tr th:only-of-type {\n",
       "        vertical-align: middle;\n",
       "    }\n",
       "\n",
       "    .dataframe tbody tr th {\n",
       "        vertical-align: top;\n",
       "    }\n",
       "\n",
       "    .dataframe thead th {\n",
       "        text-align: right;\n",
       "    }\n",
       "</style>\n",
       "<table border=\"1\" class=\"dataframe\">\n",
       "  <thead>\n",
       "    <tr style=\"text-align: right;\">\n",
       "      <th></th>\n",
       "      <th>a</th>\n",
       "      <th>b</th>\n",
       "      <th>c</th>\n",
       "      <th>d</th>\n",
       "      <th>e</th>\n",
       "    </tr>\n",
       "  </thead>\n",
       "  <tbody>\n",
       "    <tr>\n",
       "      <th>x</th>\n",
       "      <td>100</td>\n",
       "      <td>20</td>\n",
       "      <td>3</td>\n",
       "      <td>4</td>\n",
       "      <td>7</td>\n",
       "    </tr>\n",
       "    <tr>\n",
       "      <th>y</th>\n",
       "      <td>100</td>\n",
       "      <td>60</td>\n",
       "      <td>666</td>\n",
       "      <td>666</td>\n",
       "      <td>200</td>\n",
       "    </tr>\n",
       "    <tr>\n",
       "      <th>z</th>\n",
       "      <td>100</td>\n",
       "      <td>100</td>\n",
       "      <td>666</td>\n",
       "      <td>666</td>\n",
       "      <td>200</td>\n",
       "    </tr>\n",
       "  </tbody>\n",
       "</table>\n",
       "</div>"
      ],
      "text/plain": [
       "     a    b    c    d    e\n",
       "x  100   20    3    4    7\n",
       "y  100   60  666  666  200\n",
       "z  100  100  666  666  200"
      ]
     },
     "execution_count": 69,
     "metadata": {},
     "output_type": "execute_result"
    }
   ],
   "source": [
    "df.loc[\"y\":\"z\",\"c\":\"d\"] = 666\n",
    "df"
   ]
  },
  {
   "cell_type": "markdown",
   "id": "163e08ab",
   "metadata": {},
   "source": [
    "# 6、数据计算"
   ]
  },
  {
   "cell_type": "markdown",
   "id": "56f3c9f6",
   "metadata": {},
   "source": [
    "## 6.1、对空值的处理"
   ]
  },
  {
   "cell_type": "markdown",
   "id": "694962cb",
   "metadata": {},
   "source": [
    "number +-*/ NaN == NaN"
   ]
  },
  {
   "cell_type": "markdown",
   "id": "6d47d117",
   "metadata": {},
   "source": [
    "NaN +-*/ number == NaN"
   ]
  },
  {
   "cell_type": "markdown",
   "id": "3d577341",
   "metadata": {},
   "source": [
    "### 6.1.1、对空值进行填充 fillna()"
   ]
  },
  {
   "cell_type": "markdown",
   "id": "0374d088",
   "metadata": {},
   "source": [
    "faillna(0)"
   ]
  },
  {
   "cell_type": "markdown",
   "id": "c232efc2",
   "metadata": {},
   "source": [
    "### 6.1.2、获取对应符号的获取函数操作"
   ]
  },
  {
   "cell_type": "markdown",
   "id": "81cb286e",
   "metadata": {},
   "source": [
    "\" + \" --> add(fill_value = 0)"
   ]
  },
  {
   "cell_type": "markdown",
   "id": "c956701d",
   "metadata": {},
   "source": [
    "\" - \" --> sub(fill_value = 0)"
   ]
  },
  {
   "cell_type": "markdown",
   "id": "72e7e348",
   "metadata": {},
   "source": [
    "\" * \" --> mul(fill_value = 0)"
   ]
  },
  {
   "cell_type": "markdown",
   "id": "4cbcc185",
   "metadata": {},
   "source": [
    "\" / \" --> div(fill_value = 0)"
   ]
  },
  {
   "cell_type": "code",
   "execution_count": 71,
   "id": "cc1898d1",
   "metadata": {},
   "outputs": [
    {
     "data": {
      "text/html": [
       "<div>\n",
       "<style scoped>\n",
       "    .dataframe tbody tr th:only-of-type {\n",
       "        vertical-align: middle;\n",
       "    }\n",
       "\n",
       "    .dataframe tbody tr th {\n",
       "        vertical-align: top;\n",
       "    }\n",
       "\n",
       "    .dataframe thead th {\n",
       "        text-align: right;\n",
       "    }\n",
       "</style>\n",
       "<table border=\"1\" class=\"dataframe\">\n",
       "  <thead>\n",
       "    <tr style=\"text-align: right;\">\n",
       "      <th></th>\n",
       "      <th>a</th>\n",
       "      <th>b</th>\n",
       "    </tr>\n",
       "  </thead>\n",
       "  <tbody>\n",
       "    <tr>\n",
       "      <th>0</th>\n",
       "      <td>1.0</td>\n",
       "      <td>2.0</td>\n",
       "    </tr>\n",
       "    <tr>\n",
       "      <th>1</th>\n",
       "      <td>1.0</td>\n",
       "      <td>NaN</td>\n",
       "    </tr>\n",
       "    <tr>\n",
       "      <th>2</th>\n",
       "      <td>NaN</td>\n",
       "      <td>1.0</td>\n",
       "    </tr>\n",
       "  </tbody>\n",
       "</table>\n",
       "</div>"
      ],
      "text/plain": [
       "     a    b\n",
       "0  1.0  2.0\n",
       "1  1.0  NaN\n",
       "2  NaN  1.0"
      ]
     },
     "execution_count": 71,
     "metadata": {},
     "output_type": "execute_result"
    }
   ],
   "source": [
    "import pandas as pd \n",
    "import numpy as np\n",
    "\n",
    "df =pd.DataFrame(\n",
    "[[1,2],\n",
    "[1,np.NaN],\n",
    "[np.NaN,1]],\n",
    "    columns=[\"a\",\"b\"]\n",
    ")\n",
    "df"
   ]
  },
  {
   "cell_type": "code",
   "execution_count": 72,
   "id": "f7498d36",
   "metadata": {},
   "outputs": [
    {
     "data": {
      "text/plain": [
       "0    3.0\n",
       "1    NaN\n",
       "2    NaN\n",
       "dtype: float64"
      ]
     },
     "execution_count": 72,
     "metadata": {},
     "output_type": "execute_result"
    }
   ],
   "source": [
    "df[\"a\"]+df[\"b\"]"
   ]
  },
  {
   "cell_type": "code",
   "execution_count": 76,
   "id": "3f70587b",
   "metadata": {},
   "outputs": [
    {
     "data": {
      "text/plain": [
       "0    3.0\n",
       "1    1.0\n",
       "2    1.0\n",
       "dtype: float64"
      ]
     },
     "execution_count": 76,
     "metadata": {},
     "output_type": "execute_result"
    }
   ],
   "source": [
    "df[\"a\"].fillna(0)+df[\"b\"].fillna(0)"
   ]
  },
  {
   "cell_type": "code",
   "execution_count": 73,
   "id": "6a32059f",
   "metadata": {},
   "outputs": [
    {
     "data": {
      "text/plain": [
       "0   -1.0\n",
       "1    NaN\n",
       "2    NaN\n",
       "dtype: float64"
      ]
     },
     "execution_count": 73,
     "metadata": {},
     "output_type": "execute_result"
    }
   ],
   "source": [
    "df[\"a\"]-df[\"b\"]"
   ]
  },
  {
   "cell_type": "code",
   "execution_count": 77,
   "id": "c9413e27",
   "metadata": {},
   "outputs": [
    {
     "data": {
      "text/plain": [
       "0   -1.0\n",
       "1    1.0\n",
       "2   -1.0\n",
       "dtype: float64"
      ]
     },
     "execution_count": 77,
     "metadata": {},
     "output_type": "execute_result"
    }
   ],
   "source": [
    "df[\"a\"].fillna(0)-df[\"b\"].fillna(0)"
   ]
  },
  {
   "cell_type": "code",
   "execution_count": 74,
   "id": "c22b7afe",
   "metadata": {},
   "outputs": [
    {
     "data": {
      "text/plain": [
       "0    2.0\n",
       "1    NaN\n",
       "2    NaN\n",
       "dtype: float64"
      ]
     },
     "execution_count": 74,
     "metadata": {},
     "output_type": "execute_result"
    }
   ],
   "source": [
    "df[\"a\"]*df[\"b\"]"
   ]
  },
  {
   "cell_type": "code",
   "execution_count": 75,
   "id": "e98949e3",
   "metadata": {},
   "outputs": [
    {
     "data": {
      "text/plain": [
       "0    0.5\n",
       "1    NaN\n",
       "2    NaN\n",
       "dtype: float64"
      ]
     },
     "execution_count": 75,
     "metadata": {},
     "output_type": "execute_result"
    }
   ],
   "source": [
    "df[\"a\"]/df[\"b\"]"
   ]
  },
  {
   "cell_type": "code",
   "execution_count": 79,
   "id": "f9ee9a13",
   "metadata": {},
   "outputs": [
    {
     "data": {
      "text/plain": [
       "0    3.0\n",
       "1    1.0\n",
       "2    1.0\n",
       "dtype: float64"
      ]
     },
     "execution_count": 79,
     "metadata": {},
     "output_type": "execute_result"
    }
   ],
   "source": [
    "df[\"a\"].add(df[\"b\"],fill_value=0)"
   ]
  },
  {
   "cell_type": "code",
   "execution_count": 80,
   "id": "1860bf80",
   "metadata": {},
   "outputs": [
    {
     "data": {
      "text/plain": [
       "0   -1.0\n",
       "1    1.0\n",
       "2   -1.0\n",
       "dtype: float64"
      ]
     },
     "execution_count": 80,
     "metadata": {},
     "output_type": "execute_result"
    }
   ],
   "source": [
    "df[\"a\"].sub(df[\"b\"],fill_value=0)"
   ]
  },
  {
   "cell_type": "code",
   "execution_count": 81,
   "id": "b7b8f2b8",
   "metadata": {},
   "outputs": [
    {
     "data": {
      "text/plain": [
       "0    2.0\n",
       "1    0.0\n",
       "2    0.0\n",
       "dtype: float64"
      ]
     },
     "execution_count": 81,
     "metadata": {},
     "output_type": "execute_result"
    }
   ],
   "source": [
    "df[\"a\"].mul(df[\"b\"],fill_value=0)"
   ]
  },
  {
   "cell_type": "code",
   "execution_count": 82,
   "id": "e8cfa4d5",
   "metadata": {},
   "outputs": [
    {
     "data": {
      "text/plain": [
       "0    0.5\n",
       "1    inf\n",
       "2    0.0\n",
       "dtype: float64"
      ]
     },
     "execution_count": 82,
     "metadata": {},
     "output_type": "execute_result"
    }
   ],
   "source": [
    "df[\"a\"].div(df[\"b\"],fill_value=0)"
   ]
  },
  {
   "cell_type": "markdown",
   "id": "2dec8ebf",
   "metadata": {},
   "source": [
    "## 6.2、对除数为0的处理"
   ]
  },
  {
   "cell_type": "markdown",
   "id": "babf736d",
   "metadata": {},
   "source": [
    "inf(infinty无穷大)"
   ]
  },
  {
   "cell_type": "markdown",
   "id": "07a62873",
   "metadata": {},
   "source": [
    "number / 0 == inf"
   ]
  },
  {
   "cell_type": "markdown",
   "id": "83c2cc2a",
   "metadata": {},
   "source": [
    "-number / 0 == -inf"
   ]
  },
  {
   "cell_type": "markdown",
   "id": "861a33bb",
   "metadata": {},
   "source": [
    "pandas.options.mode.use_inf_as_na = True"
   ]
  },
  {
   "cell_type": "markdown",
   "id": "fdeba966",
   "metadata": {},
   "source": [
    "当有无穷大的数时当作na处理"
   ]
  },
  {
   "cell_type": "markdown",
   "id": "e9b7531f",
   "metadata": {},
   "source": [
    "number / 0 == NaN"
   ]
  },
  {
   "cell_type": "markdown",
   "id": "a7c64fa2",
   "metadata": {},
   "source": [
    "-number / 0 == NaN"
   ]
  },
  {
   "cell_type": "code",
   "execution_count": 83,
   "id": "ce1821a1",
   "metadata": {},
   "outputs": [
    {
     "data": {
      "text/html": [
       "<div>\n",
       "<style scoped>\n",
       "    .dataframe tbody tr th:only-of-type {\n",
       "        vertical-align: middle;\n",
       "    }\n",
       "\n",
       "    .dataframe tbody tr th {\n",
       "        vertical-align: top;\n",
       "    }\n",
       "\n",
       "    .dataframe thead th {\n",
       "        text-align: right;\n",
       "    }\n",
       "</style>\n",
       "<table border=\"1\" class=\"dataframe\">\n",
       "  <thead>\n",
       "    <tr style=\"text-align: right;\">\n",
       "      <th></th>\n",
       "      <th>a</th>\n",
       "      <th>b</th>\n",
       "    </tr>\n",
       "  </thead>\n",
       "  <tbody>\n",
       "    <tr>\n",
       "      <th>0</th>\n",
       "      <td>1</td>\n",
       "      <td>0</td>\n",
       "    </tr>\n",
       "    <tr>\n",
       "      <th>1</th>\n",
       "      <td>-1</td>\n",
       "      <td>0</td>\n",
       "    </tr>\n",
       "    <tr>\n",
       "      <th>2</th>\n",
       "      <td>0</td>\n",
       "      <td>0</td>\n",
       "    </tr>\n",
       "  </tbody>\n",
       "</table>\n",
       "</div>"
      ],
      "text/plain": [
       "   a  b\n",
       "0  1  0\n",
       "1 -1  0\n",
       "2  0  0"
      ]
     },
     "execution_count": 83,
     "metadata": {},
     "output_type": "execute_result"
    }
   ],
   "source": [
    "import pandas as pd \n",
    "import numpy as np\n",
    "\n",
    "df =pd.DataFrame(\n",
    "[[1,0],\n",
    "[-1,0],\n",
    "[0,0]],\n",
    "    columns=[\"a\",\"b\"]\n",
    ")\n",
    "df"
   ]
  },
  {
   "cell_type": "code",
   "execution_count": 85,
   "id": "8d65e5d6",
   "metadata": {},
   "outputs": [
    {
     "data": {
      "text/plain": [
       "0    inf\n",
       "1   -inf\n",
       "2    NaN\n",
       "dtype: float64"
      ]
     },
     "execution_count": 85,
     "metadata": {},
     "output_type": "execute_result"
    }
   ],
   "source": [
    "s = df[\"a\"].div(df[\"b\"])\n",
    "s"
   ]
  },
  {
   "cell_type": "code",
   "execution_count": 86,
   "id": "71a2c0c6",
   "metadata": {},
   "outputs": [
    {
     "data": {
      "text/plain": [
       "0     True\n",
       "1    False\n",
       "2    False\n",
       "dtype: bool"
      ]
     },
     "execution_count": 86,
     "metadata": {},
     "output_type": "execute_result"
    }
   ],
   "source": [
    "s == np.inf"
   ]
  },
  {
   "cell_type": "code",
   "execution_count": 87,
   "id": "0df51020",
   "metadata": {},
   "outputs": [
    {
     "data": {
      "text/plain": [
       "0   NaN\n",
       "1   NaN\n",
       "2   NaN\n",
       "dtype: float64"
      ]
     },
     "execution_count": 87,
     "metadata": {},
     "output_type": "execute_result"
    }
   ],
   "source": [
    "pd.options.mode.use_inf_as_na = True\n",
    "df[\"a\"].div(df[\"b\"])"
   ]
  },
  {
   "cell_type": "markdown",
   "id": "c8884d8f",
   "metadata": {},
   "source": [
    "## 6.3、计算操作中Series的index不对齐情况"
   ]
  },
  {
   "cell_type": "code",
   "execution_count": 103,
   "id": "63d7f682",
   "metadata": {},
   "outputs": [
    {
     "name": "stdout",
     "output_type": "stream",
     "text": [
      "a    1\n",
      "b    2\n",
      "dtype: int64\n",
      "b    10\n",
      "d    20\n",
      "dtype: int64\n"
     ]
    }
   ],
   "source": [
    "import pandas as pd \n",
    "s1 = pd.Series(\n",
    "[1,2],index=[\"a\",\"b\"]\n",
    ")\n",
    "print(s1)\n",
    "s2 = pd.Series(\n",
    "[10,20],index=[\"b\",\"d\"]\n",
    ")\n",
    "print(s2)"
   ]
  },
  {
   "cell_type": "code",
   "execution_count": 106,
   "id": "06c3fe1e",
   "metadata": {},
   "outputs": [
    {
     "data": {
      "text/plain": [
       "a     NaN\n",
       "b    12.0\n",
       "d     NaN\n",
       "dtype: float64"
      ]
     },
     "execution_count": 106,
     "metadata": {},
     "output_type": "execute_result"
    }
   ],
   "source": [
    "pd.Series.add(s1,s2)"
   ]
  },
  {
   "cell_type": "code",
   "execution_count": 105,
   "id": "36658128",
   "metadata": {},
   "outputs": [
    {
     "data": {
      "text/plain": [
       "a     NaN\n",
       "b    12.0\n",
       "d     NaN\n",
       "dtype: float64"
      ]
     },
     "execution_count": 105,
     "metadata": {},
     "output_type": "execute_result"
    }
   ],
   "source": [
    "s1.add(s2)"
   ]
  },
  {
   "cell_type": "code",
   "execution_count": 107,
   "id": "39e05dd4",
   "metadata": {},
   "outputs": [
    {
     "data": {
      "text/plain": [
       "a     1.0\n",
       "b    12.0\n",
       "d    20.0\n",
       "dtype: float64"
      ]
     },
     "execution_count": 107,
     "metadata": {},
     "output_type": "execute_result"
    }
   ],
   "source": [
    "s1.add(s2,fill_value = 0)"
   ]
  },
  {
   "cell_type": "code",
   "execution_count": 109,
   "id": "6cdb368f",
   "metadata": {},
   "outputs": [
    {
     "data": {
      "text/html": [
       "<div>\n",
       "<style scoped>\n",
       "    .dataframe tbody tr th:only-of-type {\n",
       "        vertical-align: middle;\n",
       "    }\n",
       "\n",
       "    .dataframe tbody tr th {\n",
       "        vertical-align: top;\n",
       "    }\n",
       "\n",
       "    .dataframe thead th {\n",
       "        text-align: right;\n",
       "    }\n",
       "</style>\n",
       "<table border=\"1\" class=\"dataframe\">\n",
       "  <thead>\n",
       "    <tr style=\"text-align: right;\">\n",
       "      <th></th>\n",
       "      <th>a</th>\n",
       "      <th>b</th>\n",
       "    </tr>\n",
       "  </thead>\n",
       "  <tbody>\n",
       "    <tr>\n",
       "      <th>x</th>\n",
       "      <td>1</td>\n",
       "      <td>2</td>\n",
       "    </tr>\n",
       "    <tr>\n",
       "      <th>y</th>\n",
       "      <td>3</td>\n",
       "      <td>4</td>\n",
       "    </tr>\n",
       "  </tbody>\n",
       "</table>\n",
       "</div>"
      ],
      "text/plain": [
       "   a  b\n",
       "x  1  2\n",
       "y  3  4"
      ]
     },
     "execution_count": 109,
     "metadata": {},
     "output_type": "execute_result"
    }
   ],
   "source": [
    "import pandas as pd \n",
    "df1 =pd.DataFrame(\n",
    "[[1,2],\n",
    "[3,4]],\n",
    "    columns=[\"a\",\"b\"],index=[\"x\",\"y\"]\n",
    ")\n",
    "df1"
   ]
  },
  {
   "cell_type": "code",
   "execution_count": 112,
   "id": "d2b39caa",
   "metadata": {},
   "outputs": [
    {
     "data": {
      "text/html": [
       "<div>\n",
       "<style scoped>\n",
       "    .dataframe tbody tr th:only-of-type {\n",
       "        vertical-align: middle;\n",
       "    }\n",
       "\n",
       "    .dataframe tbody tr th {\n",
       "        vertical-align: top;\n",
       "    }\n",
       "\n",
       "    .dataframe thead th {\n",
       "        text-align: right;\n",
       "    }\n",
       "</style>\n",
       "<table border=\"1\" class=\"dataframe\">\n",
       "  <thead>\n",
       "    <tr style=\"text-align: right;\">\n",
       "      <th></th>\n",
       "      <th>c</th>\n",
       "      <th>b</th>\n",
       "    </tr>\n",
       "  </thead>\n",
       "  <tbody>\n",
       "    <tr>\n",
       "      <th>z</th>\n",
       "      <td>10</td>\n",
       "      <td>20</td>\n",
       "    </tr>\n",
       "    <tr>\n",
       "      <th>y</th>\n",
       "      <td>30</td>\n",
       "      <td>40</td>\n",
       "    </tr>\n",
       "  </tbody>\n",
       "</table>\n",
       "</div>"
      ],
      "text/plain": [
       "    c   b\n",
       "z  10  20\n",
       "y  30  40"
      ]
     },
     "execution_count": 112,
     "metadata": {},
     "output_type": "execute_result"
    }
   ],
   "source": [
    "import pandas as pd \n",
    "df2 =pd.DataFrame(\n",
    "[[10,20],\n",
    "[30,40]],\n",
    "    columns=[\"c\",\"b\"],index=[\"z\",\"y\"]\n",
    ")\n",
    "df2"
   ]
  },
  {
   "cell_type": "code",
   "execution_count": 113,
   "id": "d7599937",
   "metadata": {},
   "outputs": [
    {
     "data": {
      "text/html": [
       "<div>\n",
       "<style scoped>\n",
       "    .dataframe tbody tr th:only-of-type {\n",
       "        vertical-align: middle;\n",
       "    }\n",
       "\n",
       "    .dataframe tbody tr th {\n",
       "        vertical-align: top;\n",
       "    }\n",
       "\n",
       "    .dataframe thead th {\n",
       "        text-align: right;\n",
       "    }\n",
       "</style>\n",
       "<table border=\"1\" class=\"dataframe\">\n",
       "  <thead>\n",
       "    <tr style=\"text-align: right;\">\n",
       "      <th></th>\n",
       "      <th>a</th>\n",
       "      <th>b</th>\n",
       "      <th>c</th>\n",
       "    </tr>\n",
       "  </thead>\n",
       "  <tbody>\n",
       "    <tr>\n",
       "      <th>x</th>\n",
       "      <td>NaN</td>\n",
       "      <td>NaN</td>\n",
       "      <td>NaN</td>\n",
       "    </tr>\n",
       "    <tr>\n",
       "      <th>y</th>\n",
       "      <td>NaN</td>\n",
       "      <td>44.0</td>\n",
       "      <td>NaN</td>\n",
       "    </tr>\n",
       "    <tr>\n",
       "      <th>z</th>\n",
       "      <td>NaN</td>\n",
       "      <td>NaN</td>\n",
       "      <td>NaN</td>\n",
       "    </tr>\n",
       "  </tbody>\n",
       "</table>\n",
       "</div>"
      ],
      "text/plain": [
       "    a     b   c\n",
       "x NaN   NaN NaN\n",
       "y NaN  44.0 NaN\n",
       "z NaN   NaN NaN"
      ]
     },
     "execution_count": 113,
     "metadata": {},
     "output_type": "execute_result"
    }
   ],
   "source": [
    "df1.add(df2)"
   ]
  },
  {
   "cell_type": "code",
   "execution_count": 114,
   "id": "c8bde478",
   "metadata": {},
   "outputs": [
    {
     "data": {
      "text/html": [
       "<div>\n",
       "<style scoped>\n",
       "    .dataframe tbody tr th:only-of-type {\n",
       "        vertical-align: middle;\n",
       "    }\n",
       "\n",
       "    .dataframe tbody tr th {\n",
       "        vertical-align: top;\n",
       "    }\n",
       "\n",
       "    .dataframe thead th {\n",
       "        text-align: right;\n",
       "    }\n",
       "</style>\n",
       "<table border=\"1\" class=\"dataframe\">\n",
       "  <thead>\n",
       "    <tr style=\"text-align: right;\">\n",
       "      <th></th>\n",
       "      <th>a</th>\n",
       "      <th>b</th>\n",
       "      <th>c</th>\n",
       "    </tr>\n",
       "  </thead>\n",
       "  <tbody>\n",
       "    <tr>\n",
       "      <th>x</th>\n",
       "      <td>1.0</td>\n",
       "      <td>2.0</td>\n",
       "      <td>NaN</td>\n",
       "    </tr>\n",
       "    <tr>\n",
       "      <th>y</th>\n",
       "      <td>3.0</td>\n",
       "      <td>44.0</td>\n",
       "      <td>30.0</td>\n",
       "    </tr>\n",
       "    <tr>\n",
       "      <th>z</th>\n",
       "      <td>NaN</td>\n",
       "      <td>20.0</td>\n",
       "      <td>10.0</td>\n",
       "    </tr>\n",
       "  </tbody>\n",
       "</table>\n",
       "</div>"
      ],
      "text/plain": [
       "     a     b     c\n",
       "x  1.0   2.0   NaN\n",
       "y  3.0  44.0  30.0\n",
       "z  NaN  20.0  10.0"
      ]
     },
     "execution_count": 114,
     "metadata": {},
     "output_type": "execute_result"
    }
   ],
   "source": [
    "df1.add(df2,fill_value = 0)"
   ]
  },
  {
   "cell_type": "markdown",
   "id": "14d5fd85",
   "metadata": {},
   "source": [
    "## 6.3、计算操作中 MultiIndex 多重索引"
   ]
  },
  {
   "cell_type": "code",
   "execution_count": 126,
   "id": "97d448d1",
   "metadata": {},
   "outputs": [
    {
     "data": {
      "text/html": [
       "<div>\n",
       "<style scoped>\n",
       "    .dataframe tbody tr th:only-of-type {\n",
       "        vertical-align: middle;\n",
       "    }\n",
       "\n",
       "    .dataframe tbody tr th {\n",
       "        vertical-align: top;\n",
       "    }\n",
       "\n",
       "    .dataframe thead tr th {\n",
       "        text-align: left;\n",
       "    }\n",
       "</style>\n",
       "<table border=\"1\" class=\"dataframe\">\n",
       "  <thead>\n",
       "    <tr>\n",
       "      <th></th>\n",
       "      <th colspan=\"2\" halign=\"left\">今冬</th>\n",
       "      <th colspan=\"2\" halign=\"left\">淘宝</th>\n",
       "    </tr>\n",
       "    <tr>\n",
       "      <th></th>\n",
       "      <th>销售</th>\n",
       "      <th>利润</th>\n",
       "      <th>销售</th>\n",
       "      <th>利润</th>\n",
       "    </tr>\n",
       "  </thead>\n",
       "  <tbody>\n",
       "    <tr>\n",
       "      <th>0</th>\n",
       "      <td>1</td>\n",
       "      <td>2</td>\n",
       "      <td>3</td>\n",
       "      <td>4</td>\n",
       "    </tr>\n",
       "    <tr>\n",
       "      <th>1</th>\n",
       "      <td>5</td>\n",
       "      <td>6</td>\n",
       "      <td>7</td>\n",
       "      <td>8</td>\n",
       "    </tr>\n",
       "  </tbody>\n",
       "</table>\n",
       "</div>"
      ],
      "text/plain": [
       "  今冬    淘宝   \n",
       "  销售 利润 销售 利润\n",
       "0  1  2  3  4\n",
       "1  5  6  7  8"
      ]
     },
     "execution_count": 126,
     "metadata": {},
     "output_type": "execute_result"
    }
   ],
   "source": [
    "import pandas as pd \n",
    "df = pd.read_excel(\"./data.xlsx\",\n",
    "                   sheet_name=\"Sheet13\",\n",
    "                   header=[0,1]\n",
    "                  )\n",
    "df"
   ]
  },
  {
   "cell_type": "code",
   "execution_count": 127,
   "id": "0576924a",
   "metadata": {},
   "outputs": [
    {
     "data": {
      "text/plain": [
       "MultiIndex([('今冬', '销售'),\n",
       "            ('今冬', '利润'),\n",
       "            ('淘宝', '销售'),\n",
       "            ('淘宝', '利润')],\n",
       "           )"
      ]
     },
     "execution_count": 127,
     "metadata": {},
     "output_type": "execute_result"
    }
   ],
   "source": [
    "df.columns"
   ]
  },
  {
   "cell_type": "code",
   "execution_count": 128,
   "id": "1b96a775",
   "metadata": {},
   "outputs": [
    {
     "data": {
      "text/plain": [
       "0     4\n",
       "1    12\n",
       "dtype: int64"
      ]
     },
     "execution_count": 128,
     "metadata": {},
     "output_type": "execute_result"
    }
   ],
   "source": [
    "df[('今冬', '销售')]+df[('淘宝', '销售')]"
   ]
  },
  {
   "cell_type": "code",
   "execution_count": 133,
   "id": "0cb2fa48",
   "metadata": {},
   "outputs": [
    {
     "data": {
      "text/html": [
       "<div>\n",
       "<style scoped>\n",
       "    .dataframe tbody tr th:only-of-type {\n",
       "        vertical-align: middle;\n",
       "    }\n",
       "\n",
       "    .dataframe tbody tr th {\n",
       "        vertical-align: top;\n",
       "    }\n",
       "\n",
       "    .dataframe thead th {\n",
       "        text-align: right;\n",
       "    }\n",
       "</style>\n",
       "<table border=\"1\" class=\"dataframe\">\n",
       "  <thead>\n",
       "    <tr style=\"text-align: right;\">\n",
       "      <th></th>\n",
       "      <th>销售</th>\n",
       "      <th>利润</th>\n",
       "    </tr>\n",
       "  </thead>\n",
       "  <tbody>\n",
       "    <tr>\n",
       "      <th>0</th>\n",
       "      <td>4</td>\n",
       "      <td>6</td>\n",
       "    </tr>\n",
       "    <tr>\n",
       "      <th>1</th>\n",
       "      <td>12</td>\n",
       "      <td>14</td>\n",
       "    </tr>\n",
       "  </tbody>\n",
       "</table>\n",
       "</div>"
      ],
      "text/plain": [
       "   销售  利润\n",
       "0   4   6\n",
       "1  12  14"
      ]
     },
     "execution_count": 133,
     "metadata": {},
     "output_type": "execute_result"
    }
   ],
   "source": [
    "df_total=df[\"今冬\"]+df[\"淘宝\"]\n",
    "df_total"
   ]
  },
  {
   "cell_type": "code",
   "execution_count": 134,
   "id": "f292bf79",
   "metadata": {},
   "outputs": [
    {
     "data": {
      "text/html": [
       "<div>\n",
       "<style scoped>\n",
       "    .dataframe tbody tr th:only-of-type {\n",
       "        vertical-align: middle;\n",
       "    }\n",
       "\n",
       "    .dataframe tbody tr th {\n",
       "        vertical-align: top;\n",
       "    }\n",
       "\n",
       "    .dataframe thead tr th {\n",
       "        text-align: left;\n",
       "    }\n",
       "</style>\n",
       "<table border=\"1\" class=\"dataframe\">\n",
       "  <thead>\n",
       "    <tr>\n",
       "      <th></th>\n",
       "      <th colspan=\"2\" halign=\"left\">总</th>\n",
       "    </tr>\n",
       "    <tr>\n",
       "      <th></th>\n",
       "      <th>销售</th>\n",
       "      <th>利润</th>\n",
       "    </tr>\n",
       "  </thead>\n",
       "  <tbody>\n",
       "    <tr>\n",
       "      <th>0</th>\n",
       "      <td>4</td>\n",
       "      <td>6</td>\n",
       "    </tr>\n",
       "    <tr>\n",
       "      <th>1</th>\n",
       "      <td>12</td>\n",
       "      <td>14</td>\n",
       "    </tr>\n",
       "  </tbody>\n",
       "</table>\n",
       "</div>"
      ],
      "text/plain": [
       "    总    \n",
       "   销售  利润\n",
       "0   4   6\n",
       "1  12  14"
      ]
     },
     "execution_count": 134,
     "metadata": {},
     "output_type": "execute_result"
    }
   ],
   "source": [
    "df_total.columns = pd.MultiIndex.from_product(\n",
    "    [\n",
    "        [\"总\"],df_total.columns\n",
    "    ]\n",
    ")\n",
    "df_total"
   ]
  },
  {
   "cell_type": "code",
   "execution_count": 135,
   "id": "f5780e1b",
   "metadata": {},
   "outputs": [
    {
     "data": {
      "text/html": [
       "<div>\n",
       "<style scoped>\n",
       "    .dataframe tbody tr th:only-of-type {\n",
       "        vertical-align: middle;\n",
       "    }\n",
       "\n",
       "    .dataframe tbody tr th {\n",
       "        vertical-align: top;\n",
       "    }\n",
       "\n",
       "    .dataframe thead tr th {\n",
       "        text-align: left;\n",
       "    }\n",
       "</style>\n",
       "<table border=\"1\" class=\"dataframe\">\n",
       "  <thead>\n",
       "    <tr>\n",
       "      <th></th>\n",
       "      <th colspan=\"2\" halign=\"left\">今冬</th>\n",
       "      <th colspan=\"2\" halign=\"left\">淘宝</th>\n",
       "      <th colspan=\"2\" halign=\"left\">总</th>\n",
       "    </tr>\n",
       "    <tr>\n",
       "      <th></th>\n",
       "      <th>销售</th>\n",
       "      <th>利润</th>\n",
       "      <th>销售</th>\n",
       "      <th>利润</th>\n",
       "      <th>销售</th>\n",
       "      <th>利润</th>\n",
       "    </tr>\n",
       "  </thead>\n",
       "  <tbody>\n",
       "    <tr>\n",
       "      <th>0</th>\n",
       "      <td>1</td>\n",
       "      <td>2</td>\n",
       "      <td>3</td>\n",
       "      <td>4</td>\n",
       "      <td>4</td>\n",
       "      <td>6</td>\n",
       "    </tr>\n",
       "    <tr>\n",
       "      <th>1</th>\n",
       "      <td>5</td>\n",
       "      <td>6</td>\n",
       "      <td>7</td>\n",
       "      <td>8</td>\n",
       "      <td>12</td>\n",
       "      <td>14</td>\n",
       "    </tr>\n",
       "  </tbody>\n",
       "</table>\n",
       "</div>"
      ],
      "text/plain": [
       "  今冬    淘宝      总    \n",
       "  销售 利润 销售 利润  销售  利润\n",
       "0  1  2  3  4   4   6\n",
       "1  5  6  7  8  12  14"
      ]
     },
     "execution_count": 135,
     "metadata": {},
     "output_type": "execute_result"
    }
   ],
   "source": [
    "df.join(df_total)"
   ]
  },
  {
   "cell_type": "markdown",
   "id": "1fe7a71c",
   "metadata": {},
   "source": [
    "# 7、字符串方法"
   ]
  },
  {
   "cell_type": "markdown",
   "id": "aa45ff95",
   "metadata": {},
   "source": [
    "## 7.1、去空白 strip()"
   ]
  },
  {
   "cell_type": "markdown",
   "id": "c98531ec",
   "metadata": {},
   "source": [
    "strip() 去除左右两边空白（制表符\\t，\\n,空格）"
   ]
  },
  {
   "cell_type": "code",
   "execution_count": null,
   "id": "c072932c",
   "metadata": {},
   "outputs": [],
   "source": [
    "lstrip() 去除左边空白（制表符\\t，\\n,空格）"
   ]
  },
  {
   "cell_type": "code",
   "execution_count": null,
   "id": "1b9d8c80",
   "metadata": {},
   "outputs": [],
   "source": [
    "rstrip() 去除右边空白（制表符\\t，\\n,空格）"
   ]
  },
  {
   "cell_type": "markdown",
   "id": "b9e0bffb",
   "metadata": {},
   "source": [
    "## 7.2、拆分 split()"
   ]
  },
  {
   "cell_type": "markdown",
   "id": "0fe0edc2",
   "metadata": {},
   "source": [
    "str.split() 默认以空白进行拆分，得到一个列表"
   ]
  },
  {
   "cell_type": "code",
   "execution_count": 2,
   "id": "45a9ec94",
   "metadata": {},
   "outputs": [
    {
     "data": {
      "text/plain": [
       "['a', 'b', 'c']"
      ]
     },
     "execution_count": 2,
     "metadata": {},
     "output_type": "execute_result"
    }
   ],
   "source": [
    "\"a\\t\\nb c\".split()"
   ]
  },
  {
   "cell_type": "code",
   "execution_count": 5,
   "id": "78d0493a",
   "metadata": {},
   "outputs": [
    {
     "data": {
      "text/plain": [
       "['a', 'b', 'c']"
      ]
     },
     "execution_count": 5,
     "metadata": {},
     "output_type": "execute_result"
    }
   ],
   "source": [
    "\"a:b:c\".split(\":\")"
   ]
  },
  {
   "cell_type": "markdown",
   "id": "f8772968",
   "metadata": {},
   "source": [
    "## 7.3、替换 replace()"
   ]
  },
  {
   "cell_type": "code",
   "execution_count": 1,
   "id": "d5ecc413",
   "metadata": {},
   "outputs": [
    {
     "data": {
      "text/plain": [
       "'xbc'"
      ]
     },
     "execution_count": 1,
     "metadata": {},
     "output_type": "execute_result"
    }
   ],
   "source": [
    "\"abc\".replace(\"a\",\"x\")"
   ]
  },
  {
   "cell_type": "markdown",
   "id": "1251323d",
   "metadata": {},
   "source": [
    "## 7.4、包含 contains()"
   ]
  },
  {
   "cell_type": "code",
   "execution_count": 6,
   "id": "b17c6f23",
   "metadata": {},
   "outputs": [
    {
     "data": {
      "text/plain": [
       "True"
      ]
     },
     "execution_count": 6,
     "metadata": {},
     "output_type": "execute_result"
    }
   ],
   "source": [
    "\"ab\".__contains__(\"a\")"
   ]
  },
  {
   "cell_type": "markdown",
   "id": "8e580be6",
   "metadata": {},
   "source": [
    "## 7.5、计数 count()"
   ]
  },
  {
   "cell_type": "code",
   "execution_count": 7,
   "id": "15f99e55",
   "metadata": {},
   "outputs": [
    {
     "data": {
      "text/plain": [
       "1"
      ]
     },
     "execution_count": 7,
     "metadata": {},
     "output_type": "execute_result"
    }
   ],
   "source": [
    "\"abc\".count(\"b\")"
   ]
  },
  {
   "cell_type": "markdown",
   "id": "d6d965a4",
   "metadata": {},
   "source": [
    "## 7.6、查找 index() / find() / in()"
   ]
  },
  {
   "cell_type": "code",
   "execution_count": 8,
   "id": "5817ab55",
   "metadata": {},
   "outputs": [
    {
     "data": {
      "text/plain": [
       "2"
      ]
     },
     "execution_count": 8,
     "metadata": {},
     "output_type": "execute_result"
    }
   ],
   "source": [
    "\"abc\".index(\"c\")"
   ]
  },
  {
   "cell_type": "code",
   "execution_count": 9,
   "id": "f8006782",
   "metadata": {},
   "outputs": [
    {
     "data": {
      "text/plain": [
       "2"
      ]
     },
     "execution_count": 9,
     "metadata": {},
     "output_type": "execute_result"
    }
   ],
   "source": [
    "\"abc\".find(\"c\")"
   ]
  },
  {
   "cell_type": "code",
   "execution_count": 11,
   "id": "86aa04be",
   "metadata": {},
   "outputs": [
    {
     "data": {
      "text/plain": [
       "True"
      ]
     },
     "execution_count": 11,
     "metadata": {},
     "output_type": "execute_result"
    }
   ],
   "source": [
    "\"c\" in \"abc\""
   ]
  },
  {
   "cell_type": "markdown",
   "id": "3f3466ba",
   "metadata": {},
   "source": [
    "找不到会错误 \"abc\".index(\"d\") --> ValueError"
   ]
  },
  {
   "cell_type": "code",
   "execution_count": 13,
   "id": "1976e82c",
   "metadata": {},
   "outputs": [
    {
     "data": {
      "text/plain": [
       "-1"
      ]
     },
     "execution_count": 13,
     "metadata": {},
     "output_type": "execute_result"
    }
   ],
   "source": [
    "\"abc\".find(\"d\")"
   ]
  },
  {
   "cell_type": "code",
   "execution_count": 14,
   "id": "3755bcea",
   "metadata": {},
   "outputs": [
    {
     "data": {
      "text/plain": [
       "False"
      ]
     },
     "execution_count": 14,
     "metadata": {},
     "output_type": "execute_result"
    }
   ],
   "source": [
    "\"d\" in \"abc\""
   ]
  },
  {
   "cell_type": "markdown",
   "id": "210ea157",
   "metadata": {},
   "source": [
    "## 7.7、粘合 join()"
   ]
  },
  {
   "cell_type": "code",
   "execution_count": 15,
   "id": "997ff3ea",
   "metadata": {},
   "outputs": [
    {
     "data": {
      "text/plain": [
       "'a,b,c'"
      ]
     },
     "execution_count": 15,
     "metadata": {},
     "output_type": "execute_result"
    }
   ],
   "source": [
    "\",\".join(\"abc\")"
   ]
  },
  {
   "cell_type": "code",
   "execution_count": 16,
   "id": "9d3e8e65",
   "metadata": {},
   "outputs": [
    {
     "data": {
      "text/plain": [
       "'a:b:c'"
      ]
     },
     "execution_count": 16,
     "metadata": {},
     "output_type": "execute_result"
    }
   ],
   "source": [
    "\":\".join([\"a\",\"b\",\"c\"])"
   ]
  },
  {
   "cell_type": "markdown",
   "id": "0539ad9d",
   "metadata": {},
   "source": [
    "## 7.8、前 / 后缀 startswith() / endswith()"
   ]
  },
  {
   "cell_type": "code",
   "execution_count": 17,
   "id": "555770ba",
   "metadata": {},
   "outputs": [
    {
     "data": {
      "text/plain": [
       "True"
      ]
     },
     "execution_count": 17,
     "metadata": {},
     "output_type": "execute_result"
    }
   ],
   "source": [
    "\"abc\".startswith(\"a\")"
   ]
  },
  {
   "cell_type": "code",
   "execution_count": 18,
   "id": "89e1d4bc",
   "metadata": {},
   "outputs": [
    {
     "data": {
      "text/plain": [
       "True"
      ]
     },
     "execution_count": 18,
     "metadata": {},
     "output_type": "execute_result"
    }
   ],
   "source": [
    "\"abc\".endswith(\"c\")"
   ]
  },
  {
   "cell_type": "markdown",
   "id": "f8a10a14",
   "metadata": {},
   "source": [
    "## 7.9、大 / 小写转换 upper() / lower()"
   ]
  },
  {
   "cell_type": "markdown",
   "id": "79b43bb3",
   "metadata": {},
   "source": [
    "仅支持英文"
   ]
  },
  {
   "cell_type": "code",
   "execution_count": 19,
   "id": "f14669f4",
   "metadata": {},
   "outputs": [
    {
     "data": {
      "text/plain": [
       "'ABC'"
      ]
     },
     "execution_count": 19,
     "metadata": {},
     "output_type": "execute_result"
    }
   ],
   "source": [
    "\"Abc\".upper()"
   ]
  },
  {
   "cell_type": "code",
   "execution_count": 20,
   "id": "8563312f",
   "metadata": {},
   "outputs": [
    {
     "data": {
      "text/plain": [
       "'abc'"
      ]
     },
     "execution_count": 20,
     "metadata": {},
     "output_type": "execute_result"
    }
   ],
   "source": [
    "\"Abc\".lower()"
   ]
  },
  {
   "cell_type": "markdown",
   "id": "850631c7",
   "metadata": {},
   "source": [
    "## 7.10、正则表达式"
   ]
  },
  {
   "cell_type": "markdown",
   "id": "e0de756f",
   "metadata": {},
   "source": [
    "在线工具：https://regex101.com/"
   ]
  },
  {
   "cell_type": "markdown",
   "id": "62904322",
   "metadata": {},
   "source": [
    "用正则表达式需要导入 re 模块"
   ]
  },
  {
   "cell_type": "markdown",
   "id": "5304b980",
   "metadata": {},
   "source": [
    " re 模块 常用方法"
   ]
  },
  {
   "cell_type": "markdown",
   "id": "a42fe770",
   "metadata": {},
   "source": [
    "finfall      匹配到的全部以列表返回"
   ]
  },
  {
   "cell_type": "markdown",
   "id": "00be40e2",
   "metadata": {},
   "source": [
    "search       返回第一个匹配对象"
   ]
  },
  {
   "cell_type": "markdown",
   "id": "7fa24ef0",
   "metadata": {},
   "source": [
    "split        拆分"
   ]
  },
  {
   "cell_type": "markdown",
   "id": "e0549a3a",
   "metadata": {},
   "source": [
    "sub          替换"
   ]
  },
  {
   "cell_type": "code",
   "execution_count": 21,
   "id": "12cea37c",
   "metadata": {},
   "outputs": [
    {
     "data": {
      "text/plain": [
       "['1', '2']"
      ]
     },
     "execution_count": 21,
     "metadata": {},
     "output_type": "execute_result"
    }
   ],
   "source": [
    "import re \n",
    "re.findall(\"\\d\",\"a1b2c\")"
   ]
  },
  {
   "cell_type": "code",
   "execution_count": 22,
   "id": "01a50473",
   "metadata": {},
   "outputs": [
    {
     "data": {
      "text/plain": [
       "[]"
      ]
     },
     "execution_count": 22,
     "metadata": {},
     "output_type": "execute_result"
    }
   ],
   "source": [
    "re.findall(\"x\",\"a1b2c\")"
   ]
  },
  {
   "cell_type": "code",
   "execution_count": 23,
   "id": "3f5913e0",
   "metadata": {},
   "outputs": [
    {
     "data": {
      "text/plain": [
       "<re.Match object; span=(1, 2), match='1'>"
      ]
     },
     "execution_count": 23,
     "metadata": {},
     "output_type": "execute_result"
    }
   ],
   "source": [
    "#返回匹配对象\n",
    "re.search(\"\\d\",\"a1b2c\")"
   ]
  },
  {
   "cell_type": "code",
   "execution_count": 25,
   "id": "22255454",
   "metadata": {},
   "outputs": [],
   "source": [
    "re.search(\"x\",\"a1b2c\")"
   ]
  },
  {
   "cell_type": "code",
   "execution_count": 26,
   "id": "920ee749",
   "metadata": {},
   "outputs": [
    {
     "data": {
      "text/plain": [
       "['a', 'b', 'c']"
      ]
     },
     "execution_count": 26,
     "metadata": {},
     "output_type": "execute_result"
    }
   ],
   "source": [
    "re.split(\"\\d\",\"a1b2c\")"
   ]
  },
  {
   "cell_type": "code",
   "execution_count": 27,
   "id": "4d16aa77",
   "metadata": {},
   "outputs": [
    {
     "data": {
      "text/plain": [
       "'a*b*c'"
      ]
     },
     "execution_count": 27,
     "metadata": {},
     "output_type": "execute_result"
    }
   ],
   "source": [
    "re.sub(\"\\d\",\"*\",\"a1b2c\")"
   ]
  },
  {
   "cell_type": "markdown",
   "id": "17217fe3",
   "metadata": {},
   "source": [
    "## 7.11、StringDtype"
   ]
  },
  {
   "cell_type": "markdown",
   "id": "206fb1ea",
   "metadata": {},
   "source": [
    "字符串的两种类型"
   ]
  },
  {
   "cell_type": "markdown",
   "id": "14b8eafc",
   "metadata": {},
   "source": [
    "object-dtype"
   ]
  },
  {
   "cell_type": "markdown",
   "id": "e0c24684",
   "metadata": {},
   "source": [
    "StringDtype (推荐)"
   ]
  },
  {
   "cell_type": "code",
   "execution_count": 28,
   "id": "fdd6553a",
   "metadata": {},
   "outputs": [
    {
     "data": {
      "text/html": [
       "<div>\n",
       "<style scoped>\n",
       "    .dataframe tbody tr th:only-of-type {\n",
       "        vertical-align: middle;\n",
       "    }\n",
       "\n",
       "    .dataframe tbody tr th {\n",
       "        vertical-align: top;\n",
       "    }\n",
       "\n",
       "    .dataframe thead th {\n",
       "        text-align: right;\n",
       "    }\n",
       "</style>\n",
       "<table border=\"1\" class=\"dataframe\">\n",
       "  <thead>\n",
       "    <tr style=\"text-align: right;\">\n",
       "      <th></th>\n",
       "      <th>x</th>\n",
       "      <th>y</th>\n",
       "    </tr>\n",
       "  </thead>\n",
       "  <tbody>\n",
       "    <tr>\n",
       "      <th>0</th>\n",
       "      <td>a</td>\n",
       "      <td>b</td>\n",
       "    </tr>\n",
       "    <tr>\n",
       "      <th>1</th>\n",
       "      <td>c</td>\n",
       "      <td>1</td>\n",
       "    </tr>\n",
       "  </tbody>\n",
       "</table>\n",
       "</div>"
      ],
      "text/plain": [
       "   x  y\n",
       "0  a  b\n",
       "1  c  1"
      ]
     },
     "execution_count": 28,
     "metadata": {},
     "output_type": "execute_result"
    }
   ],
   "source": [
    "import pandas as pd \n",
    "df = pd.DataFrame([\n",
    "    [\"a\",\"b\"],\n",
    "    [\"c\",1]\n",
    "],columns=[\"x\",\"y\"])\n",
    "df"
   ]
  },
  {
   "cell_type": "code",
   "execution_count": 29,
   "id": "2e0931c6",
   "metadata": {},
   "outputs": [
    {
     "data": {
      "text/plain": [
       "x    object\n",
       "y    object\n",
       "dtype: object"
      ]
     },
     "execution_count": 29,
     "metadata": {},
     "output_type": "execute_result"
    }
   ],
   "source": [
    "df.dtypes"
   ]
  },
  {
   "cell_type": "code",
   "execution_count": 35,
   "id": "d211411a",
   "metadata": {},
   "outputs": [
    {
     "data": {
      "text/plain": [
       "x    string[python]\n",
       "y            object\n",
       "dtype: object"
      ]
     },
     "execution_count": 35,
     "metadata": {},
     "output_type": "execute_result"
    }
   ],
   "source": [
    "df =df.convert_dtypes()\n",
    "df.dtypes"
   ]
  },
  {
   "cell_type": "code",
   "execution_count": 36,
   "id": "a1d42c8f",
   "metadata": {},
   "outputs": [
    {
     "data": {
      "text/html": [
       "<div>\n",
       "<style scoped>\n",
       "    .dataframe tbody tr th:only-of-type {\n",
       "        vertical-align: middle;\n",
       "    }\n",
       "\n",
       "    .dataframe tbody tr th {\n",
       "        vertical-align: top;\n",
       "    }\n",
       "\n",
       "    .dataframe thead th {\n",
       "        text-align: right;\n",
       "    }\n",
       "</style>\n",
       "<table border=\"1\" class=\"dataframe\">\n",
       "  <thead>\n",
       "    <tr style=\"text-align: right;\">\n",
       "      <th></th>\n",
       "      <th>x</th>\n",
       "    </tr>\n",
       "  </thead>\n",
       "  <tbody>\n",
       "    <tr>\n",
       "      <th>0</th>\n",
       "      <td>a</td>\n",
       "    </tr>\n",
       "    <tr>\n",
       "      <th>1</th>\n",
       "      <td>c</td>\n",
       "    </tr>\n",
       "  </tbody>\n",
       "</table>\n",
       "</div>"
      ],
      "text/plain": [
       "   x\n",
       "0  a\n",
       "1  c"
      ]
     },
     "execution_count": 36,
     "metadata": {},
     "output_type": "execute_result"
    }
   ],
   "source": [
    "df.select_dtypes(include=\"string\")"
   ]
  },
  {
   "cell_type": "code",
   "execution_count": 37,
   "id": "8444d02c",
   "metadata": {},
   "outputs": [
    {
     "data": {
      "text/plain": [
       "0    a\n",
       "1    b\n",
       "dtype: object"
      ]
     },
     "execution_count": 37,
     "metadata": {},
     "output_type": "execute_result"
    }
   ],
   "source": [
    "pd.Series([\"a\",\"b\"])"
   ]
  },
  {
   "cell_type": "code",
   "execution_count": 42,
   "id": "fd993781",
   "metadata": {},
   "outputs": [
    {
     "data": {
      "text/plain": [
       "0    a\n",
       "1    b\n",
       "dtype: object"
      ]
     },
     "execution_count": 42,
     "metadata": {},
     "output_type": "execute_result"
    }
   ],
   "source": [
    "#这种不能将数字转化为string\n",
    "pd.Series([\"a\",\"b\"],dtype=\"str\")"
   ]
  },
  {
   "cell_type": "code",
   "execution_count": 45,
   "id": "d3bdcac6",
   "metadata": {},
   "outputs": [
    {
     "data": {
      "text/plain": [
       "0       a\n",
       "1       b\n",
       "2    <NA>\n",
       "3       1\n",
       "dtype: string"
      ]
     },
     "execution_count": 45,
     "metadata": {},
     "output_type": "execute_result"
    }
   ],
   "source": [
    "# 推荐这种\n",
    "pd.Series([\"a\",\"b\",None,1]).astype(\"string\")"
   ]
  },
  {
   "cell_type": "code",
   "execution_count": 39,
   "id": "ba07b4e9",
   "metadata": {},
   "outputs": [
    {
     "data": {
      "text/plain": [
       "0    a\n",
       "1    b\n",
       "dtype: string"
      ]
     },
     "execution_count": 39,
     "metadata": {},
     "output_type": "execute_result"
    }
   ],
   "source": [
    "pd.Series([\"a\",\"b\"],dtype=pd.StringDtype())"
   ]
  },
  {
   "cell_type": "code",
   "execution_count": 40,
   "id": "7b72e32c",
   "metadata": {},
   "outputs": [
    {
     "data": {
      "text/plain": [
       "0    a\n",
       "1    b\n",
       "dtype: string"
      ]
     },
     "execution_count": 40,
     "metadata": {},
     "output_type": "execute_result"
    }
   ],
   "source": [
    "pd.Series([\"a\",\"b\"]).astype(\"string\")"
   ]
  },
  {
   "cell_type": "markdown",
   "id": "6c289b56",
   "metadata": {},
   "source": [
    "## 7.12、字符串访问器 Series.str"
   ]
  },
  {
   "cell_type": "markdown",
   "id": "c8f03ffc",
   "metadata": {},
   "source": [
    "Series.str 可以以字符串的形式访问 Series 的值并对其应用一些方法"
   ]
  },
  {
   "cell_type": "markdown",
   "id": "83062416",
   "metadata": {},
   "source": [
    "Series.str.strip()"
   ]
  },
  {
   "cell_type": "markdown",
   "id": "2768b4fd",
   "metadata": {},
   "source": [
    "Series.str.split()"
   ]
  },
  {
   "cell_type": "code",
   "execution_count": 3,
   "id": "773c1776",
   "metadata": {},
   "outputs": [
    {
     "data": {
      "text/html": [
       "<div>\n",
       "<style scoped>\n",
       "    .dataframe tbody tr th:only-of-type {\n",
       "        vertical-align: middle;\n",
       "    }\n",
       "\n",
       "    .dataframe tbody tr th {\n",
       "        vertical-align: top;\n",
       "    }\n",
       "\n",
       "    .dataframe thead tr th {\n",
       "        text-align: left;\n",
       "    }\n",
       "</style>\n",
       "<table border=\"1\" class=\"dataframe\">\n",
       "  <thead>\n",
       "    <tr>\n",
       "      <th></th>\n",
       "      <th>a</th>\n",
       "      <th>b</th>\n",
       "      <th>c</th>\n",
       "    </tr>\n",
       "  </thead>\n",
       "  <tbody>\n",
       "    <tr>\n",
       "      <th>0</th>\n",
       "      <td>\\na\\n</td>\n",
       "      <td>\\nd\\n</td>\n",
       "      <td>2020-01-01</td>\n",
       "    </tr>\n",
       "    <tr>\n",
       "      <th>1</th>\n",
       "      <td>\\nb\\n</td>\n",
       "      <td>1</td>\n",
       "      <td>2020-01-02</td>\n",
       "    </tr>\n",
       "  </tbody>\n",
       "</table>\n",
       "</div>"
      ],
      "text/plain": [
       "       a      b          c\n",
       "0  \\na\\n  \\nd\\n 2020-01-01\n",
       "1  \\nb\\n      1 2020-01-02"
      ]
     },
     "execution_count": 3,
     "metadata": {},
     "output_type": "execute_result"
    }
   ],
   "source": [
    "import pandas as pd \n",
    "from datetime import datetime\n",
    "\n",
    "df = pd.DataFrame([\n",
    "    [\"\\na\\n\",\"\\nd\\n\",datetime(2020,1,1)],\n",
    "    [\"\\nb\\n\",1,datetime(2020,1,2)]\n",
    "],columns=[list(\"abc\")])\n",
    "df"
   ]
  },
  {
   "cell_type": "code",
   "execution_count": 4,
   "id": "36555f33",
   "metadata": {},
   "outputs": [
    {
     "data": {
      "text/plain": [
       "a            object\n",
       "b            object\n",
       "c    datetime64[ns]\n",
       "dtype: object"
      ]
     },
     "execution_count": 4,
     "metadata": {},
     "output_type": "execute_result"
    }
   ],
   "source": [
    "df.dtypes"
   ]
  },
  {
   "cell_type": "code",
   "execution_count": 6,
   "id": "7fb739f7",
   "metadata": {},
   "outputs": [
    {
     "data": {
      "text/html": [
       "<div>\n",
       "<style scoped>\n",
       "    .dataframe tbody tr th:only-of-type {\n",
       "        vertical-align: middle;\n",
       "    }\n",
       "\n",
       "    .dataframe tbody tr th {\n",
       "        vertical-align: top;\n",
       "    }\n",
       "\n",
       "    .dataframe thead tr th {\n",
       "        text-align: left;\n",
       "    }\n",
       "</style>\n",
       "<table border=\"1\" class=\"dataframe\">\n",
       "  <thead>\n",
       "    <tr>\n",
       "      <th></th>\n",
       "      <th>a</th>\n",
       "    </tr>\n",
       "  </thead>\n",
       "  <tbody>\n",
       "    <tr>\n",
       "      <th>0</th>\n",
       "      <td>\\na\\n</td>\n",
       "    </tr>\n",
       "    <tr>\n",
       "      <th>1</th>\n",
       "      <td>\\nb\\n</td>\n",
       "    </tr>\n",
       "  </tbody>\n",
       "</table>\n",
       "</div>"
      ],
      "text/plain": [
       "       a\n",
       "0  \\na\\n\n",
       "1  \\nb\\n"
      ]
     },
     "execution_count": 6,
     "metadata": {},
     "output_type": "execute_result"
    }
   ],
   "source": [
    "#df[\"a\"].str.strip()\n",
    "df[\"a\"]"
   ]
  }
 ],
 "metadata": {
  "kernelspec": {
   "display_name": "Python 3 (ipykernel)",
   "language": "python",
   "name": "python3"
  },
  "language_info": {
   "codemirror_mode": {
    "name": "ipython",
    "version": 3
   },
   "file_extension": ".py",
   "mimetype": "text/x-python",
   "name": "python",
   "nbconvert_exporter": "python",
   "pygments_lexer": "ipython3",
   "version": "3.11.5"
  }
 },
 "nbformat": 4,
 "nbformat_minor": 5
}
