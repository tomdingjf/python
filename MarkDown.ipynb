{
 "cells": [
  {
   "cell_type": "markdown",
   "metadata": {},
   "source": [
    "# 一级标题"
   ]
  },
  {
   "cell_type": "markdown",
   "metadata": {},
   "source": [
    "## 二级标题"
   ]
  },
  {
   "cell_type": "markdown",
   "metadata": {},
   "source": [
    "段落"
   ]
  },
  {
   "cell_type": "markdown",
   "metadata": {},
   "source": [
    "多段  \n",
    "多行"
   ]
  },
  {
   "cell_type": "markdown",
   "metadata": {},
   "source": [
    "*斜体*  \n",
    "**粗体**  \n",
    "***粗斜体***  \n",
    "~~删除线~~  \n",
    "<u>下划线</u>  \n",
    "[^脚注]"
   ]
  },
  {
   "cell_type": "markdown",
   "metadata": {},
   "source": [
    "分割"
   ]
  },
  {
   "cell_type": "markdown",
   "metadata": {},
   "source": [
    "****"
   ]
  },
  {
   "cell_type": "markdown",
   "metadata": {},
   "source": [
    "列表"
   ]
  },
  {
   "cell_type": "markdown",
   "metadata": {},
   "source": [
    "* 第一项  \n",
    "- 第二项  \n",
    "+ 第三项"
   ]
  },
  {
   "cell_type": "markdown",
   "metadata": {},
   "source": [
    "1.第一项  \n",
    "2.第二项  \n",
    "3.第三项"
   ]
  },
  {
   "cell_type": "markdown",
   "metadata": {},
   "source": [
    "1.第一项  \n",
    "- 第一子项  \n",
    "2.第二项  \n",
    "- 第二子项  \n",
    "3.第三项"
   ]
  },
  {
   "cell_type": "markdown",
   "metadata": {},
   "source": [
    "|第一列|第二列|第三列|\n",
    "|:-|:-:|-:|\n",
    "|a|b|c|"
   ]
  },
  {
   "cell_type": "markdown",
   "metadata": {},
   "source": [
    "区块"
   ]
  },
  {
   "cell_type": "markdown",
   "metadata": {},
   "source": [
    "> 区块使用\n",
    "> 1.第一项"
   ]
  },
  {
   "cell_type": "markdown",
   "metadata": {},
   "source": [
    "* 第一项  \n",
    "    > markdown教程  \n",
    "    > 技术和梦想\n",
    "* 第二项"
   ]
  },
  {
   "cell_type": "markdown",
   "metadata": {},
   "source": [
    "\"print(\"hallo!\")\" 函数"
   ]
  },
  {
   "cell_type": "markdown",
   "metadata": {},
   "source": [
    "[百度一下](https://www.baidu.com/)\n"
   ]
  },
  {
   "cell_type": "markdown",
   "metadata": {},
   "source": [
    "[百度一下]  \n",
    "<https://www.baidu.com/>"
   ]
  },
  {
   "cell_type": "markdown",
   "metadata": {},
   "source": [
    "![alt 属性文本](C:\\Users\\Administrator\\Desktop\\其它应用\\other\\1.png)"
   ]
  }
 ],
 "metadata": {
  "kernelspec": {
   "display_name": "Python 3",
   "language": "python",
   "name": "python3"
  },
  "language_info": {
   "codemirror_mode": {
    "name": "ipython",
    "version": 3
   },
   "file_extension": ".py",
   "mimetype": "text/x-python",
   "name": "python",
   "nbconvert_exporter": "python",
   "pygments_lexer": "ipython3",
   "version": "3.7.6"
  }
 },
 "nbformat": 4,
 "nbformat_minor": 4
}
