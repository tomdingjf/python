{
 "cells": [
  {
   "cell_type": "code",
   "execution_count": 1,
   "id": "61664df1",
   "metadata": {},
   "outputs": [
    {
     "data": {
      "text/html": [
       "<div>\n",
       "<style scoped>\n",
       "    .dataframe tbody tr th:only-of-type {\n",
       "        vertical-align: middle;\n",
       "    }\n",
       "\n",
       "    .dataframe tbody tr th {\n",
       "        vertical-align: top;\n",
       "    }\n",
       "\n",
       "    .dataframe thead th {\n",
       "        text-align: right;\n",
       "    }\n",
       "</style>\n",
       "<table border=\"1\" class=\"dataframe\">\n",
       "  <thead>\n",
       "    <tr style=\"text-align: right;\">\n",
       "      <th></th>\n",
       "      <th>学号</th>\n",
       "      <th>学生</th>\n",
       "      <th>性别</th>\n",
       "      <th>语文</th>\n",
       "      <th>数学</th>\n",
       "      <th>总分</th>\n",
       "    </tr>\n",
       "  </thead>\n",
       "  <tbody>\n",
       "    <tr>\n",
       "      <th>0</th>\n",
       "      <td>a1001</td>\n",
       "      <td>小明</td>\n",
       "      <td>男</td>\n",
       "      <td>122</td>\n",
       "      <td>84</td>\n",
       "      <td>None</td>\n",
       "    </tr>\n",
       "    <tr>\n",
       "      <th>1</th>\n",
       "      <td>b1002</td>\n",
       "      <td>小红</td>\n",
       "      <td>女</td>\n",
       "      <td>99</td>\n",
       "      <td>145</td>\n",
       "      <td>None</td>\n",
       "    </tr>\n",
       "    <tr>\n",
       "      <th>2</th>\n",
       "      <td>c1003</td>\n",
       "      <td>小王</td>\n",
       "      <td>男</td>\n",
       "      <td>58</td>\n",
       "      <td>98</td>\n",
       "      <td>None</td>\n",
       "    </tr>\n",
       "  </tbody>\n",
       "</table>\n",
       "</div>"
      ],
      "text/plain": [
       "      学号  学生 性别   语文   数学    总分\n",
       "0  a1001  小明  男  122   84  None\n",
       "1  b1002  小红  女   99  145  None\n",
       "2  c1003  小王  男   58   98  None"
      ]
     },
     "execution_count": 1,
     "metadata": {},
     "output_type": "execute_result"
    }
   ],
   "source": [
    "import pandas as pd \n",
    "df = pd.DataFrame({\n",
    "    \"学号\":[\"a1001\",\"b1002\",\"c1003\"],\n",
    "    \"学生\":[\"小明\",\"小红\",\"小王\"],\n",
    "    \"性别\":[\"男\",\"女\",\"男\"],\n",
    "    \"语文\":[122,99,58],\n",
    "    \"数学\":[84,145,98],\n",
    "    \"总分\":[None,None,None],\n",
    "})\n",
    "df"
   ]
  },
  {
   "cell_type": "code",
   "execution_count": 2,
   "id": "f67deb11",
   "metadata": {},
   "outputs": [
    {
     "data": {
      "text/plain": [
       "0    206\n",
       "1    244\n",
       "2    156\n",
       "Name: 总分, dtype: int64"
      ]
     },
     "execution_count": 2,
     "metadata": {},
     "output_type": "execute_result"
    }
   ],
   "source": [
    "df[\"总分\"] = df[\"语文\"]+df[\"数学\"]\n",
    "df[\"总分\"]"
   ]
  },
  {
   "cell_type": "code",
   "execution_count": 5,
   "id": "67ffba9d",
   "metadata": {},
   "outputs": [
    {
     "data": {
      "text/html": [
       "<div>\n",
       "<style scoped>\n",
       "    .dataframe tbody tr th:only-of-type {\n",
       "        vertical-align: middle;\n",
       "    }\n",
       "\n",
       "    .dataframe tbody tr th {\n",
       "        vertical-align: top;\n",
       "    }\n",
       "\n",
       "    .dataframe thead th {\n",
       "        text-align: right;\n",
       "    }\n",
       "</style>\n",
       "<table border=\"1\" class=\"dataframe\">\n",
       "  <thead>\n",
       "    <tr style=\"text-align: right;\">\n",
       "      <th></th>\n",
       "      <th>学号</th>\n",
       "      <th>学生</th>\n",
       "      <th>性别</th>\n",
       "      <th>语文</th>\n",
       "      <th>数学</th>\n",
       "      <th>总分</th>\n",
       "    </tr>\n",
       "  </thead>\n",
       "  <tbody>\n",
       "    <tr>\n",
       "      <th>0</th>\n",
       "      <td>a1001</td>\n",
       "      <td>小明</td>\n",
       "      <td>男</td>\n",
       "      <td>122</td>\n",
       "      <td>84</td>\n",
       "      <td>206</td>\n",
       "    </tr>\n",
       "    <tr>\n",
       "      <th>2</th>\n",
       "      <td>c1003</td>\n",
       "      <td>小王</td>\n",
       "      <td>男</td>\n",
       "      <td>58</td>\n",
       "      <td>98</td>\n",
       "      <td>156</td>\n",
       "    </tr>\n",
       "  </tbody>\n",
       "</table>\n",
       "</div>"
      ],
      "text/plain": [
       "      学号  学生 性别   语文  数学   总分\n",
       "0  a1001  小明  男  122  84  206\n",
       "2  c1003  小王  男   58  98  156"
      ]
     },
     "execution_count": 5,
     "metadata": {},
     "output_type": "execute_result"
    }
   ],
   "source": [
    "df = df.loc[df[\"性别\"]==\"男\"]\n",
    "df"
   ]
  },
  {
   "cell_type": "code",
   "execution_count": 15,
   "id": "7790449f",
   "metadata": {},
   "outputs": [],
   "source": [
    "df = df.loc[:,[\"学生\",\"性别\",\"总分\",]]"
   ]
  },
  {
   "cell_type": "code",
   "execution_count": 16,
   "id": "651fe74f",
   "metadata": {},
   "outputs": [],
   "source": [
    "stu_excel=df.to_excel(\"test.xlsx\",index=0)"
   ]
  },
  {
   "cell_type": "code",
   "execution_count": null,
   "id": "674459f6",
   "metadata": {},
   "outputs": [],
   "source": []
  }
 ],
 "metadata": {
  "kernelspec": {
   "display_name": "Python 3 (ipykernel)",
   "language": "python",
   "name": "python3"
  },
  "language_info": {
   "codemirror_mode": {
    "name": "ipython",
    "version": 3
   },
   "file_extension": ".py",
   "mimetype": "text/x-python",
   "name": "python",
   "nbconvert_exporter": "python",
   "pygments_lexer": "ipython3",
   "version": "3.11.5"
  }
 },
 "nbformat": 4,
 "nbformat_minor": 5
}
